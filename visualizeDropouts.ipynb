{
 "cells": [
  {
   "cell_type": "code",
   "execution_count": 4,
   "outputs": [],
   "source": [
    "import pandas as pd\n",
    "import numpy as np\n",
    "import plotly\n",
    "import plotly.express as px"
   ],
   "metadata": {
    "collapsed": false,
    "pycharm": {
     "name": "#%%\n"
    }
   }
  },
  {
   "cell_type": "code",
   "execution_count": 2,
   "outputs": [
    {
     "data": {
      "text/plain": "                     Name  Gender  Age Ethnicity      Family_Status  \\\n0            Storm Madsen    male   36      Arab         Abandonned   \n1         Gordoslav Bosik    male   59     Black            Adopted   \n2          آرمیتا محمدخان  female   36     Black    extended family   \n3          Daryl Chambers    male   50     Asian        step family   \n4      Bilogost Drizhenko    male   71     White  biological family   \n...                   ...     ...  ...       ...                ...   \n16995       Eduardo Colin    male   73     Black    extended family   \n16996   Olivia Kristensen  female   27     Black            Adopted   \n16997         Estela Rojo  female   67      Arab            Adopted   \n16998      Ivan Hillestad    male   67      Arab            Adopted   \n16999          مانی حسینی    male   67  Hispanic    extended family   \n\n       Number_Caretakers  State_Caretakers  Number_Siblings  \\\n0                      4                 2                2   \n1                      2                10                3   \n2                      5                 5                3   \n3                      3                 4                1   \n4                      5                 7                2   \n...                  ...               ...              ...   \n16995                  4                 9                2   \n16996                  4                10                2   \n16997                  1                 2                4   \n16998                  5                 1                2   \n16999                  5                 9                4   \n\n       Order_Among_Siblings  State_Residence  ... Academic_Passion  \\\n0                         2                5  ...                2   \n1                         2                9  ...                1   \n2                         3                9  ...                3   \n3                         1                6  ...                3   \n4                         1                5  ...                6   \n...                     ...              ...  ...              ...   \n16995                     1                9  ...                4   \n16996                     2                9  ...                9   \n16997                     1                6  ...                8   \n16998                     1                9  ...                7   \n16999                     3                7  ...                4   \n\n       Years_Failed Commute_Distance  Commute_Method  Commute_Duration  \\\n0                 0              3.8       motorbike                22   \n1                 2              2.6           metro                39   \n2                 0              0.5       motorbike                 3   \n3                 2              9.8       motorbike                58   \n4                 0             14.6       motorbike                87   \n...             ...              ...             ...               ...   \n16995             3              4.7         walking               282   \n16996             2              5.4       motorbike                32   \n16997             0              1.3           train                11   \n16998             2              0.5           metro                 7   \n16999             3              7.4       motorbike                44   \n\n       State_Commute   Work          Work_Type State_Work  Dropout  \n0                  9   True    family business        9.0     True  \n1                  8  False                NaN        NaN    False  \n2                  1  False                NaN        NaN     True  \n3                  6   True  repetitive labour        8.0     True  \n4                  4  False                NaN        NaN     True  \n...              ...    ...                ...        ...      ...  \n16995              3   True      craftsmanship        8.0     True  \n16996              5  False                NaN        NaN     True  \n16997              6  False                NaN        NaN     True  \n16998              9  False                NaN        NaN     True  \n16999              9  False                NaN        NaN    False  \n\n[17000 rows x 29 columns]",
      "text/html": "<div>\n<style scoped>\n    .dataframe tbody tr th:only-of-type {\n        vertical-align: middle;\n    }\n\n    .dataframe tbody tr th {\n        vertical-align: top;\n    }\n\n    .dataframe thead th {\n        text-align: right;\n    }\n</style>\n<table border=\"1\" class=\"dataframe\">\n  <thead>\n    <tr style=\"text-align: right;\">\n      <th></th>\n      <th>Name</th>\n      <th>Gender</th>\n      <th>Age</th>\n      <th>Ethnicity</th>\n      <th>Family_Status</th>\n      <th>Number_Caretakers</th>\n      <th>State_Caretakers</th>\n      <th>Number_Siblings</th>\n      <th>Order_Among_Siblings</th>\n      <th>State_Residence</th>\n      <th>...</th>\n      <th>Academic_Passion</th>\n      <th>Years_Failed</th>\n      <th>Commute_Distance</th>\n      <th>Commute_Method</th>\n      <th>Commute_Duration</th>\n      <th>State_Commute</th>\n      <th>Work</th>\n      <th>Work_Type</th>\n      <th>State_Work</th>\n      <th>Dropout</th>\n    </tr>\n  </thead>\n  <tbody>\n    <tr>\n      <th>0</th>\n      <td>Storm Madsen</td>\n      <td>male</td>\n      <td>36</td>\n      <td>Arab</td>\n      <td>Abandonned</td>\n      <td>4</td>\n      <td>2</td>\n      <td>2</td>\n      <td>2</td>\n      <td>5</td>\n      <td>...</td>\n      <td>2</td>\n      <td>0</td>\n      <td>3.8</td>\n      <td>motorbike</td>\n      <td>22</td>\n      <td>9</td>\n      <td>True</td>\n      <td>family business</td>\n      <td>9.0</td>\n      <td>True</td>\n    </tr>\n    <tr>\n      <th>1</th>\n      <td>Gordoslav Bosik</td>\n      <td>male</td>\n      <td>59</td>\n      <td>Black</td>\n      <td>Adopted</td>\n      <td>2</td>\n      <td>10</td>\n      <td>3</td>\n      <td>2</td>\n      <td>9</td>\n      <td>...</td>\n      <td>1</td>\n      <td>2</td>\n      <td>2.6</td>\n      <td>metro</td>\n      <td>39</td>\n      <td>8</td>\n      <td>False</td>\n      <td>NaN</td>\n      <td>NaN</td>\n      <td>False</td>\n    </tr>\n    <tr>\n      <th>2</th>\n      <td>آرمیتا محمدخان</td>\n      <td>female</td>\n      <td>36</td>\n      <td>Black</td>\n      <td>extended family</td>\n      <td>5</td>\n      <td>5</td>\n      <td>3</td>\n      <td>3</td>\n      <td>9</td>\n      <td>...</td>\n      <td>3</td>\n      <td>0</td>\n      <td>0.5</td>\n      <td>motorbike</td>\n      <td>3</td>\n      <td>1</td>\n      <td>False</td>\n      <td>NaN</td>\n      <td>NaN</td>\n      <td>True</td>\n    </tr>\n    <tr>\n      <th>3</th>\n      <td>Daryl Chambers</td>\n      <td>male</td>\n      <td>50</td>\n      <td>Asian</td>\n      <td>step family</td>\n      <td>3</td>\n      <td>4</td>\n      <td>1</td>\n      <td>1</td>\n      <td>6</td>\n      <td>...</td>\n      <td>3</td>\n      <td>2</td>\n      <td>9.8</td>\n      <td>motorbike</td>\n      <td>58</td>\n      <td>6</td>\n      <td>True</td>\n      <td>repetitive labour</td>\n      <td>8.0</td>\n      <td>True</td>\n    </tr>\n    <tr>\n      <th>4</th>\n      <td>Bilogost Drizhenko</td>\n      <td>male</td>\n      <td>71</td>\n      <td>White</td>\n      <td>biological family</td>\n      <td>5</td>\n      <td>7</td>\n      <td>2</td>\n      <td>1</td>\n      <td>5</td>\n      <td>...</td>\n      <td>6</td>\n      <td>0</td>\n      <td>14.6</td>\n      <td>motorbike</td>\n      <td>87</td>\n      <td>4</td>\n      <td>False</td>\n      <td>NaN</td>\n      <td>NaN</td>\n      <td>True</td>\n    </tr>\n    <tr>\n      <th>...</th>\n      <td>...</td>\n      <td>...</td>\n      <td>...</td>\n      <td>...</td>\n      <td>...</td>\n      <td>...</td>\n      <td>...</td>\n      <td>...</td>\n      <td>...</td>\n      <td>...</td>\n      <td>...</td>\n      <td>...</td>\n      <td>...</td>\n      <td>...</td>\n      <td>...</td>\n      <td>...</td>\n      <td>...</td>\n      <td>...</td>\n      <td>...</td>\n      <td>...</td>\n      <td>...</td>\n    </tr>\n    <tr>\n      <th>16995</th>\n      <td>Eduardo Colin</td>\n      <td>male</td>\n      <td>73</td>\n      <td>Black</td>\n      <td>extended family</td>\n      <td>4</td>\n      <td>9</td>\n      <td>2</td>\n      <td>1</td>\n      <td>9</td>\n      <td>...</td>\n      <td>4</td>\n      <td>3</td>\n      <td>4.7</td>\n      <td>walking</td>\n      <td>282</td>\n      <td>3</td>\n      <td>True</td>\n      <td>craftsmanship</td>\n      <td>8.0</td>\n      <td>True</td>\n    </tr>\n    <tr>\n      <th>16996</th>\n      <td>Olivia Kristensen</td>\n      <td>female</td>\n      <td>27</td>\n      <td>Black</td>\n      <td>Adopted</td>\n      <td>4</td>\n      <td>10</td>\n      <td>2</td>\n      <td>2</td>\n      <td>9</td>\n      <td>...</td>\n      <td>9</td>\n      <td>2</td>\n      <td>5.4</td>\n      <td>motorbike</td>\n      <td>32</td>\n      <td>5</td>\n      <td>False</td>\n      <td>NaN</td>\n      <td>NaN</td>\n      <td>True</td>\n    </tr>\n    <tr>\n      <th>16997</th>\n      <td>Estela Rojo</td>\n      <td>female</td>\n      <td>67</td>\n      <td>Arab</td>\n      <td>Adopted</td>\n      <td>1</td>\n      <td>2</td>\n      <td>4</td>\n      <td>1</td>\n      <td>6</td>\n      <td>...</td>\n      <td>8</td>\n      <td>0</td>\n      <td>1.3</td>\n      <td>train</td>\n      <td>11</td>\n      <td>6</td>\n      <td>False</td>\n      <td>NaN</td>\n      <td>NaN</td>\n      <td>True</td>\n    </tr>\n    <tr>\n      <th>16998</th>\n      <td>Ivan Hillestad</td>\n      <td>male</td>\n      <td>67</td>\n      <td>Arab</td>\n      <td>Adopted</td>\n      <td>5</td>\n      <td>1</td>\n      <td>2</td>\n      <td>1</td>\n      <td>9</td>\n      <td>...</td>\n      <td>7</td>\n      <td>2</td>\n      <td>0.5</td>\n      <td>metro</td>\n      <td>7</td>\n      <td>9</td>\n      <td>False</td>\n      <td>NaN</td>\n      <td>NaN</td>\n      <td>True</td>\n    </tr>\n    <tr>\n      <th>16999</th>\n      <td>مانی حسینی</td>\n      <td>male</td>\n      <td>67</td>\n      <td>Hispanic</td>\n      <td>extended family</td>\n      <td>5</td>\n      <td>9</td>\n      <td>4</td>\n      <td>3</td>\n      <td>7</td>\n      <td>...</td>\n      <td>4</td>\n      <td>3</td>\n      <td>7.4</td>\n      <td>motorbike</td>\n      <td>44</td>\n      <td>9</td>\n      <td>False</td>\n      <td>NaN</td>\n      <td>NaN</td>\n      <td>False</td>\n    </tr>\n  </tbody>\n</table>\n<p>17000 rows × 29 columns</p>\n</div>"
     },
     "execution_count": 2,
     "metadata": {},
     "output_type": "execute_result"
    }
   ],
   "source": [
    "df= pd.read_csv(\"questionnaire.csv\")\n",
    "df"
   ],
   "metadata": {
    "collapsed": false,
    "pycharm": {
     "name": "#%%\n"
    }
   }
  },
  {
   "cell_type": "code",
   "execution_count": 12,
   "outputs": [
    {
     "data": {
      "text/plain": "pandas.core.series.Series"
     },
     "execution_count": 12,
     "metadata": {},
     "output_type": "execute_result"
    }
   ],
   "source": [
    "dropoutdf = df[\"Dropout\"].value_counts()\n",
    "type(dropoutdf)"
   ],
   "metadata": {
    "collapsed": false,
    "pycharm": {
     "name": "#%%\n"
    }
   }
  },
  {
   "cell_type": "code",
   "execution_count": 23,
   "outputs": [
    {
     "data": {
      "text/plain": "                 Name  Gender  Age Ethnicity    Family_Status  \\\n2      آرمیتا محمدخان  female   36     Black  extended family   \n16999      مانی حسینی    male   67  Hispanic  extended family   \n\n       Number_Caretakers  State_Caretakers  Number_Siblings  \\\n2                      5                 5                3   \n16999                  5                 9                4   \n\n       Order_Among_Siblings  State_Residence  ... Academic_Passion  \\\n2                         3                9  ...                3   \n16999                     3                7  ...                4   \n\n       Years_Failed Commute_Distance  Commute_Method  Commute_Duration  \\\n2                 0              0.5       motorbike                 3   \n16999             3              7.4       motorbike                44   \n\n       State_Commute   Work Work_Type State_Work  Dropout  \n2                  1  False       NaN        NaN     True  \n16999              9  False       NaN        NaN    False  \n\n[2 rows x 29 columns]",
      "text/html": "<div>\n<style scoped>\n    .dataframe tbody tr th:only-of-type {\n        vertical-align: middle;\n    }\n\n    .dataframe tbody tr th {\n        vertical-align: top;\n    }\n\n    .dataframe thead th {\n        text-align: right;\n    }\n</style>\n<table border=\"1\" class=\"dataframe\">\n  <thead>\n    <tr style=\"text-align: right;\">\n      <th></th>\n      <th>Name</th>\n      <th>Gender</th>\n      <th>Age</th>\n      <th>Ethnicity</th>\n      <th>Family_Status</th>\n      <th>Number_Caretakers</th>\n      <th>State_Caretakers</th>\n      <th>Number_Siblings</th>\n      <th>Order_Among_Siblings</th>\n      <th>State_Residence</th>\n      <th>...</th>\n      <th>Academic_Passion</th>\n      <th>Years_Failed</th>\n      <th>Commute_Distance</th>\n      <th>Commute_Method</th>\n      <th>Commute_Duration</th>\n      <th>State_Commute</th>\n      <th>Work</th>\n      <th>Work_Type</th>\n      <th>State_Work</th>\n      <th>Dropout</th>\n    </tr>\n  </thead>\n  <tbody>\n    <tr>\n      <th>2</th>\n      <td>آرمیتا محمدخان</td>\n      <td>female</td>\n      <td>36</td>\n      <td>Black</td>\n      <td>extended family</td>\n      <td>5</td>\n      <td>5</td>\n      <td>3</td>\n      <td>3</td>\n      <td>9</td>\n      <td>...</td>\n      <td>3</td>\n      <td>0</td>\n      <td>0.5</td>\n      <td>motorbike</td>\n      <td>3</td>\n      <td>1</td>\n      <td>False</td>\n      <td>NaN</td>\n      <td>NaN</td>\n      <td>True</td>\n    </tr>\n    <tr>\n      <th>16999</th>\n      <td>مانی حسینی</td>\n      <td>male</td>\n      <td>67</td>\n      <td>Hispanic</td>\n      <td>extended family</td>\n      <td>5</td>\n      <td>9</td>\n      <td>4</td>\n      <td>3</td>\n      <td>7</td>\n      <td>...</td>\n      <td>4</td>\n      <td>3</td>\n      <td>7.4</td>\n      <td>motorbike</td>\n      <td>44</td>\n      <td>9</td>\n      <td>False</td>\n      <td>NaN</td>\n      <td>NaN</td>\n      <td>False</td>\n    </tr>\n  </tbody>\n</table>\n<p>2 rows × 29 columns</p>\n</div>"
     },
     "execution_count": 23,
     "metadata": {},
     "output_type": "execute_result"
    }
   ],
   "source": [
    "df.iloc[[2,-1]]"
   ],
   "metadata": {
    "collapsed": false,
    "pycharm": {
     "name": "#%%\n"
    }
   }
  },
  {
   "cell_type": "code",
   "execution_count": null,
   "outputs": [],
   "source": [],
   "metadata": {
    "collapsed": false,
    "pycharm": {
     "name": "#%%\n"
    }
   }
  }
 ],
 "metadata": {
  "kernelspec": {
   "display_name": "Python 3",
   "language": "python",
   "name": "python3"
  },
  "language_info": {
   "codemirror_mode": {
    "name": "ipython",
    "version": 2
   },
   "file_extension": ".py",
   "mimetype": "text/x-python",
   "name": "python",
   "nbconvert_exporter": "python",
   "pygments_lexer": "ipython2",
   "version": "2.7.6"
  }
 },
 "nbformat": 4,
 "nbformat_minor": 0
}