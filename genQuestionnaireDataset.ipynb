{
 "cells": [
  {
   "cell_type": "code",
   "execution_count": 1,
   "outputs": [],
   "source": [
    "import pandas as pd\n",
    "import  plotly\n",
    "import json\n",
    "import requests\n",
    "import numpy as np"
   ],
   "metadata": {
    "collapsed": false,
    "pycharm": {
     "name": "#%%\n"
    }
   }
  },
  {
   "cell_type": "markdown",
   "source": [
    "# Getting 2021 happiness report dataset\n",
    "and importing its useful data to our fakePerson dataset"
   ],
   "metadata": {
    "collapsed": false,
    "pycharm": {
     "name": "#%% md\n"
    }
   }
  },
  {
   "cell_type": "code",
   "execution_count": 2,
   "outputs": [],
   "source": [
    "df=pd.read_csv(\"randomUsers.csv\")"
   ],
   "metadata": {
    "collapsed": false,
    "pycharm": {
     "name": "#%%\n"
    }
   }
  },
  {
   "cell_type": "code",
   "execution_count": 3,
   "outputs": [
    {
     "data": {
      "text/plain": "  Country name Regional indicator  Ladder score  \\\n0      Finland     Western Europe         7.842   \n1      Denmark     Western Europe         7.620   \n2  Switzerland     Western Europe         7.571   \n3      Iceland     Western Europe         7.554   \n4  Netherlands     Western Europe         7.464   \n\n   Standard error of ladder score  upperwhisker  lowerwhisker  \\\n0                           0.032         7.904         7.780   \n1                           0.035         7.687         7.552   \n2                           0.036         7.643         7.500   \n3                           0.059         7.670         7.438   \n4                           0.027         7.518         7.410   \n\n   Logged GDP per capita  Social support  Healthy life expectancy  \\\n0                 10.775           0.954                     72.0   \n1                 10.933           0.954                     72.7   \n2                 11.117           0.942                     74.4   \n3                 10.878           0.983                     73.0   \n4                 10.932           0.942                     72.4   \n\n   Freedom to make life choices  Generosity  Perceptions of corruption  \\\n0                         0.949      -0.098                      0.186   \n1                         0.946       0.030                      0.179   \n2                         0.919       0.025                      0.292   \n3                         0.955       0.160                      0.673   \n4                         0.913       0.175                      0.338   \n\n   Ladder score in Dystopia  Explained by: Log GDP per capita  \\\n0                      2.43                             1.446   \n1                      2.43                             1.502   \n2                      2.43                             1.566   \n3                      2.43                             1.482   \n4                      2.43                             1.501   \n\n   Explained by: Social support  Explained by: Healthy life expectancy  \\\n0                         1.106                                  0.741   \n1                         1.108                                  0.763   \n2                         1.079                                  0.816   \n3                         1.172                                  0.772   \n4                         1.079                                  0.753   \n\n   Explained by: Freedom to make life choices  Explained by: Generosity  \\\n0                                       0.691                     0.124   \n1                                       0.686                     0.208   \n2                                       0.653                     0.204   \n3                                       0.698                     0.293   \n4                                       0.647                     0.302   \n\n   Explained by: Perceptions of corruption  Dystopia + residual  \n0                                    0.481                3.253  \n1                                    0.485                2.868  \n2                                    0.413                2.839  \n3                                    0.170                2.967  \n4                                    0.384                2.798  ",
      "text/html": "<div>\n<style scoped>\n    .dataframe tbody tr th:only-of-type {\n        vertical-align: middle;\n    }\n\n    .dataframe tbody tr th {\n        vertical-align: top;\n    }\n\n    .dataframe thead th {\n        text-align: right;\n    }\n</style>\n<table border=\"1\" class=\"dataframe\">\n  <thead>\n    <tr style=\"text-align: right;\">\n      <th></th>\n      <th>Country name</th>\n      <th>Regional indicator</th>\n      <th>Ladder score</th>\n      <th>Standard error of ladder score</th>\n      <th>upperwhisker</th>\n      <th>lowerwhisker</th>\n      <th>Logged GDP per capita</th>\n      <th>Social support</th>\n      <th>Healthy life expectancy</th>\n      <th>Freedom to make life choices</th>\n      <th>Generosity</th>\n      <th>Perceptions of corruption</th>\n      <th>Ladder score in Dystopia</th>\n      <th>Explained by: Log GDP per capita</th>\n      <th>Explained by: Social support</th>\n      <th>Explained by: Healthy life expectancy</th>\n      <th>Explained by: Freedom to make life choices</th>\n      <th>Explained by: Generosity</th>\n      <th>Explained by: Perceptions of corruption</th>\n      <th>Dystopia + residual</th>\n    </tr>\n  </thead>\n  <tbody>\n    <tr>\n      <th>0</th>\n      <td>Finland</td>\n      <td>Western Europe</td>\n      <td>7.842</td>\n      <td>0.032</td>\n      <td>7.904</td>\n      <td>7.780</td>\n      <td>10.775</td>\n      <td>0.954</td>\n      <td>72.0</td>\n      <td>0.949</td>\n      <td>-0.098</td>\n      <td>0.186</td>\n      <td>2.43</td>\n      <td>1.446</td>\n      <td>1.106</td>\n      <td>0.741</td>\n      <td>0.691</td>\n      <td>0.124</td>\n      <td>0.481</td>\n      <td>3.253</td>\n    </tr>\n    <tr>\n      <th>1</th>\n      <td>Denmark</td>\n      <td>Western Europe</td>\n      <td>7.620</td>\n      <td>0.035</td>\n      <td>7.687</td>\n      <td>7.552</td>\n      <td>10.933</td>\n      <td>0.954</td>\n      <td>72.7</td>\n      <td>0.946</td>\n      <td>0.030</td>\n      <td>0.179</td>\n      <td>2.43</td>\n      <td>1.502</td>\n      <td>1.108</td>\n      <td>0.763</td>\n      <td>0.686</td>\n      <td>0.208</td>\n      <td>0.485</td>\n      <td>2.868</td>\n    </tr>\n    <tr>\n      <th>2</th>\n      <td>Switzerland</td>\n      <td>Western Europe</td>\n      <td>7.571</td>\n      <td>0.036</td>\n      <td>7.643</td>\n      <td>7.500</td>\n      <td>11.117</td>\n      <td>0.942</td>\n      <td>74.4</td>\n      <td>0.919</td>\n      <td>0.025</td>\n      <td>0.292</td>\n      <td>2.43</td>\n      <td>1.566</td>\n      <td>1.079</td>\n      <td>0.816</td>\n      <td>0.653</td>\n      <td>0.204</td>\n      <td>0.413</td>\n      <td>2.839</td>\n    </tr>\n    <tr>\n      <th>3</th>\n      <td>Iceland</td>\n      <td>Western Europe</td>\n      <td>7.554</td>\n      <td>0.059</td>\n      <td>7.670</td>\n      <td>7.438</td>\n      <td>10.878</td>\n      <td>0.983</td>\n      <td>73.0</td>\n      <td>0.955</td>\n      <td>0.160</td>\n      <td>0.673</td>\n      <td>2.43</td>\n      <td>1.482</td>\n      <td>1.172</td>\n      <td>0.772</td>\n      <td>0.698</td>\n      <td>0.293</td>\n      <td>0.170</td>\n      <td>2.967</td>\n    </tr>\n    <tr>\n      <th>4</th>\n      <td>Netherlands</td>\n      <td>Western Europe</td>\n      <td>7.464</td>\n      <td>0.027</td>\n      <td>7.518</td>\n      <td>7.410</td>\n      <td>10.932</td>\n      <td>0.942</td>\n      <td>72.4</td>\n      <td>0.913</td>\n      <td>0.175</td>\n      <td>0.338</td>\n      <td>2.43</td>\n      <td>1.501</td>\n      <td>1.079</td>\n      <td>0.753</td>\n      <td>0.647</td>\n      <td>0.302</td>\n      <td>0.384</td>\n      <td>2.798</td>\n    </tr>\n  </tbody>\n</table>\n</div>"
     },
     "execution_count": 3,
     "metadata": {},
     "output_type": "execute_result"
    }
   ],
   "source": [
    "happ= pd.read_csv(\"happines21.csv\")\n",
    "happ.head()"
   ],
   "metadata": {
    "collapsed": false,
    "pycharm": {
     "name": "#%%\n"
    }
   }
  },
  {
   "cell_type": "code",
   "execution_count": 4,
   "outputs": [
    {
     "data": {
      "text/plain": "    Country name  Ladder score\n0        Finland         7.842\n1        Denmark         7.620\n2    Switzerland         7.571\n3        Iceland         7.554\n4    Netherlands         7.464\n..           ...           ...\n144      Lesotho         3.512\n145     Botswana         3.467\n146       Rwanda         3.415\n147     Zimbabwe         3.145\n148  Afghanistan         2.523\n\n[149 rows x 2 columns]",
      "text/html": "<div>\n<style scoped>\n    .dataframe tbody tr th:only-of-type {\n        vertical-align: middle;\n    }\n\n    .dataframe tbody tr th {\n        vertical-align: top;\n    }\n\n    .dataframe thead th {\n        text-align: right;\n    }\n</style>\n<table border=\"1\" class=\"dataframe\">\n  <thead>\n    <tr style=\"text-align: right;\">\n      <th></th>\n      <th>Country name</th>\n      <th>Ladder score</th>\n    </tr>\n  </thead>\n  <tbody>\n    <tr>\n      <th>0</th>\n      <td>Finland</td>\n      <td>7.842</td>\n    </tr>\n    <tr>\n      <th>1</th>\n      <td>Denmark</td>\n      <td>7.620</td>\n    </tr>\n    <tr>\n      <th>2</th>\n      <td>Switzerland</td>\n      <td>7.571</td>\n    </tr>\n    <tr>\n      <th>3</th>\n      <td>Iceland</td>\n      <td>7.554</td>\n    </tr>\n    <tr>\n      <th>4</th>\n      <td>Netherlands</td>\n      <td>7.464</td>\n    </tr>\n    <tr>\n      <th>...</th>\n      <td>...</td>\n      <td>...</td>\n    </tr>\n    <tr>\n      <th>144</th>\n      <td>Lesotho</td>\n      <td>3.512</td>\n    </tr>\n    <tr>\n      <th>145</th>\n      <td>Botswana</td>\n      <td>3.467</td>\n    </tr>\n    <tr>\n      <th>146</th>\n      <td>Rwanda</td>\n      <td>3.415</td>\n    </tr>\n    <tr>\n      <th>147</th>\n      <td>Zimbabwe</td>\n      <td>3.145</td>\n    </tr>\n    <tr>\n      <th>148</th>\n      <td>Afghanistan</td>\n      <td>2.523</td>\n    </tr>\n  </tbody>\n</table>\n<p>149 rows × 2 columns</p>\n</div>"
     },
     "execution_count": 4,
     "metadata": {},
     "output_type": "execute_result"
    }
   ],
   "source": [
    "cols = happ.columns\n",
    "# cols[[0,2]]\n",
    "hdf= happ[cols[[0,2]]]\n",
    "hdf"
   ],
   "metadata": {
    "collapsed": false,
    "pycharm": {
     "name": "#%%\n"
    }
   }
  },
  {
   "cell_type": "code",
   "execution_count": 5,
   "outputs": [
    {
     "data": {
      "text/plain": "array(['Denmark', 'Ukraine', 'Iran', 'Australia', 'Ireland',\n       'United States', 'Canada', 'United Kingdom', 'France',\n       'Netherlands', 'Spain', 'Norway', 'Switzerland', 'Brazil',\n       'Serbia', 'New Zealand', 'Germany', 'Turkey', 'Finland', 'Mexico',\n       'India'], dtype=object)"
     },
     "execution_count": 5,
     "metadata": {},
     "output_type": "execute_result"
    }
   ],
   "source": [
    "df[\"location.country\"].unique()"
   ],
   "metadata": {
    "collapsed": false,
    "pycharm": {
     "name": "#%%\n"
    }
   }
  },
  {
   "cell_type": "code",
   "execution_count": 6,
   "outputs": [],
   "source": [
    "def findinSeries(elem, series):\n",
    "    # print(elem)\n",
    "    for i,x in enumerate(series):\n",
    "        if x== elem:\n",
    "            # print(\"i\",i, x)\n",
    "            return i\n",
    "    return -1"
   ],
   "metadata": {
    "collapsed": false,
    "pycharm": {
     "name": "#%%\n"
    }
   }
  },
  {
   "cell_type": "code",
   "execution_count": 11,
   "outputs": [
    {
     "data": {
      "text/plain": "       happiness location.country\n0          7.620          Denmark\n1          4.875          Ukraine\n2          4.721             Iran\n3          7.183        Australia\n4          4.875          Ukraine\n...          ...              ...\n16995      7.571      Switzerland\n16996      7.620          Denmark\n16997      6.317           Mexico\n16998      7.392           Norway\n16999      4.721             Iran\n\n[17000 rows x 2 columns]",
      "text/html": "<div>\n<style scoped>\n    .dataframe tbody tr th:only-of-type {\n        vertical-align: middle;\n    }\n\n    .dataframe tbody tr th {\n        vertical-align: top;\n    }\n\n    .dataframe thead th {\n        text-align: right;\n    }\n</style>\n<table border=\"1\" class=\"dataframe\">\n  <thead>\n    <tr style=\"text-align: right;\">\n      <th></th>\n      <th>happiness</th>\n      <th>location.country</th>\n    </tr>\n  </thead>\n  <tbody>\n    <tr>\n      <th>0</th>\n      <td>7.620</td>\n      <td>Denmark</td>\n    </tr>\n    <tr>\n      <th>1</th>\n      <td>4.875</td>\n      <td>Ukraine</td>\n    </tr>\n    <tr>\n      <th>2</th>\n      <td>4.721</td>\n      <td>Iran</td>\n    </tr>\n    <tr>\n      <th>3</th>\n      <td>7.183</td>\n      <td>Australia</td>\n    </tr>\n    <tr>\n      <th>4</th>\n      <td>4.875</td>\n      <td>Ukraine</td>\n    </tr>\n    <tr>\n      <th>...</th>\n      <td>...</td>\n      <td>...</td>\n    </tr>\n    <tr>\n      <th>16995</th>\n      <td>7.571</td>\n      <td>Switzerland</td>\n    </tr>\n    <tr>\n      <th>16996</th>\n      <td>7.620</td>\n      <td>Denmark</td>\n    </tr>\n    <tr>\n      <th>16997</th>\n      <td>6.317</td>\n      <td>Mexico</td>\n    </tr>\n    <tr>\n      <th>16998</th>\n      <td>7.392</td>\n      <td>Norway</td>\n    </tr>\n    <tr>\n      <th>16999</th>\n      <td>4.721</td>\n      <td>Iran</td>\n    </tr>\n  </tbody>\n</table>\n<p>17000 rows × 2 columns</p>\n</div>"
     },
     "execution_count": 11,
     "metadata": {},
     "output_type": "execute_result"
    }
   ],
   "source": [
    "copydf= df\n",
    "# copydf[\"happiness\"] = np.where(copydf[\"location.country\"] in hdf[cols[0]].tolist(),\"wa3 bla3\",\"\")\n",
    "copydf[\"happiness\"] = copydf[\"location.country\"].apply(lambda x: hdf['Ladder score'][findinSeries(x,hdf['Country name'].tolist())] if x in hdf[cols[0]].tolist() else \"\")\n",
    "copydf[[\"happiness\",\"location.country\"]]"
   ],
   "metadata": {
    "collapsed": false,
    "pycharm": {
     "name": "#%%\n"
    }
   }
  },
  {
   "cell_type": "code",
   "execution_count": 12,
   "outputs": [
    {
     "data": {
      "text/plain": "   gender name.title name.first  name.last  location.street.number  \\\n0    male         Mr      Storm     Madsen                    6771   \n1    male         Mr  Gordoslav      Bosik                    3517   \n2  female        Mrs     آرمیتا    محمدخان                    3010   \n3    male         Mr      Daryl   Chambers                    7096   \n4    male         Mr   Bilogost  Drizhenko                    7323   \n\n  location.street.name location.city    location.state location.country  \\\n0              Svinget    Randers Nø       Hovedstaden          Denmark   \n1           Pogulyanka      Ternopil  Ivano-Frankivska          Ukraine   \n2           امام خمینی         دزفول       خراسان رضوی             Iran   \n3       Spring Hill Rd     Busselton   New South Wales        Australia   \n4  Kerchenska ploshcha    Kam'yanske            Odeska          Ukraine   \n\n  location.postcode  location.coordinates.latitude  \\\n0             87306                       -46.1343   \n1             83512                        78.7516   \n2             46674                        19.8684   \n3              5724                       -87.1313   \n4             13704                        78.2755   \n\n   location.coordinates.longitude location.timezone.offset  \\\n0                        -86.6480                    -3:30   \n1                       -108.7593                    -9:00   \n2                        175.9099                    +6:00   \n3                        -77.0928                    -9:00   \n4                        -78.9680                    -2:00   \n\n  location.timezone.description                  dob.date  dob.age  happiness  \n0                  Newfoundland  1986-03-17T15:41:16.272Z       36      7.620  \n1                        Alaska  1963-07-05T17:37:05.470Z       59      4.875  \n2        Almaty, Dhaka, Colombo  1986-07-21T20:06:46.754Z       36      4.721  \n3                        Alaska  1972-04-18T18:38:04.636Z       50      7.183  \n4                  Mid-Atlantic  1950-12-08T08:21:03.631Z       71      4.875  ",
      "text/html": "<div>\n<style scoped>\n    .dataframe tbody tr th:only-of-type {\n        vertical-align: middle;\n    }\n\n    .dataframe tbody tr th {\n        vertical-align: top;\n    }\n\n    .dataframe thead th {\n        text-align: right;\n    }\n</style>\n<table border=\"1\" class=\"dataframe\">\n  <thead>\n    <tr style=\"text-align: right;\">\n      <th></th>\n      <th>gender</th>\n      <th>name.title</th>\n      <th>name.first</th>\n      <th>name.last</th>\n      <th>location.street.number</th>\n      <th>location.street.name</th>\n      <th>location.city</th>\n      <th>location.state</th>\n      <th>location.country</th>\n      <th>location.postcode</th>\n      <th>location.coordinates.latitude</th>\n      <th>location.coordinates.longitude</th>\n      <th>location.timezone.offset</th>\n      <th>location.timezone.description</th>\n      <th>dob.date</th>\n      <th>dob.age</th>\n      <th>happiness</th>\n    </tr>\n  </thead>\n  <tbody>\n    <tr>\n      <th>0</th>\n      <td>male</td>\n      <td>Mr</td>\n      <td>Storm</td>\n      <td>Madsen</td>\n      <td>6771</td>\n      <td>Svinget</td>\n      <td>Randers Nø</td>\n      <td>Hovedstaden</td>\n      <td>Denmark</td>\n      <td>87306</td>\n      <td>-46.1343</td>\n      <td>-86.6480</td>\n      <td>-3:30</td>\n      <td>Newfoundland</td>\n      <td>1986-03-17T15:41:16.272Z</td>\n      <td>36</td>\n      <td>7.620</td>\n    </tr>\n    <tr>\n      <th>1</th>\n      <td>male</td>\n      <td>Mr</td>\n      <td>Gordoslav</td>\n      <td>Bosik</td>\n      <td>3517</td>\n      <td>Pogulyanka</td>\n      <td>Ternopil</td>\n      <td>Ivano-Frankivska</td>\n      <td>Ukraine</td>\n      <td>83512</td>\n      <td>78.7516</td>\n      <td>-108.7593</td>\n      <td>-9:00</td>\n      <td>Alaska</td>\n      <td>1963-07-05T17:37:05.470Z</td>\n      <td>59</td>\n      <td>4.875</td>\n    </tr>\n    <tr>\n      <th>2</th>\n      <td>female</td>\n      <td>Mrs</td>\n      <td>آرمیتا</td>\n      <td>محمدخان</td>\n      <td>3010</td>\n      <td>امام خمینی</td>\n      <td>دزفول</td>\n      <td>خراسان رضوی</td>\n      <td>Iran</td>\n      <td>46674</td>\n      <td>19.8684</td>\n      <td>175.9099</td>\n      <td>+6:00</td>\n      <td>Almaty, Dhaka, Colombo</td>\n      <td>1986-07-21T20:06:46.754Z</td>\n      <td>36</td>\n      <td>4.721</td>\n    </tr>\n    <tr>\n      <th>3</th>\n      <td>male</td>\n      <td>Mr</td>\n      <td>Daryl</td>\n      <td>Chambers</td>\n      <td>7096</td>\n      <td>Spring Hill Rd</td>\n      <td>Busselton</td>\n      <td>New South Wales</td>\n      <td>Australia</td>\n      <td>5724</td>\n      <td>-87.1313</td>\n      <td>-77.0928</td>\n      <td>-9:00</td>\n      <td>Alaska</td>\n      <td>1972-04-18T18:38:04.636Z</td>\n      <td>50</td>\n      <td>7.183</td>\n    </tr>\n    <tr>\n      <th>4</th>\n      <td>male</td>\n      <td>Mr</td>\n      <td>Bilogost</td>\n      <td>Drizhenko</td>\n      <td>7323</td>\n      <td>Kerchenska ploshcha</td>\n      <td>Kam'yanske</td>\n      <td>Odeska</td>\n      <td>Ukraine</td>\n      <td>13704</td>\n      <td>78.2755</td>\n      <td>-78.9680</td>\n      <td>-2:00</td>\n      <td>Mid-Atlantic</td>\n      <td>1950-12-08T08:21:03.631Z</td>\n      <td>71</td>\n      <td>4.875</td>\n    </tr>\n  </tbody>\n</table>\n</div>"
     },
     "execution_count": 12,
     "metadata": {},
     "output_type": "execute_result"
    }
   ],
   "source": [
    "copydf.head()"
   ],
   "metadata": {
    "collapsed": false,
    "pycharm": {
     "name": "#%%\n"
    }
   }
  },
  {
   "cell_type": "code",
   "execution_count": 13,
   "outputs": [
    {
     "data": {
      "text/plain": "      name.first  happiness\n0          Storm      6.920\n1      Gordoslav      3.975\n2         آرمیتا      6.021\n3          Daryl      5.383\n4       Bilogost      3.875\n...          ...        ...\n16995    Eduardo      7.371\n16996     Olivia      8.020\n16997     Estela      5.917\n16998       Ivan      5.392\n16999       مانی      3.621\n\n[17000 rows x 2 columns]",
      "text/html": "<div>\n<style scoped>\n    .dataframe tbody tr th:only-of-type {\n        vertical-align: middle;\n    }\n\n    .dataframe tbody tr th {\n        vertical-align: top;\n    }\n\n    .dataframe thead th {\n        text-align: right;\n    }\n</style>\n<table border=\"1\" class=\"dataframe\">\n  <thead>\n    <tr style=\"text-align: right;\">\n      <th></th>\n      <th>name.first</th>\n      <th>happiness</th>\n    </tr>\n  </thead>\n  <tbody>\n    <tr>\n      <th>0</th>\n      <td>Storm</td>\n      <td>6.920</td>\n    </tr>\n    <tr>\n      <th>1</th>\n      <td>Gordoslav</td>\n      <td>3.975</td>\n    </tr>\n    <tr>\n      <th>2</th>\n      <td>آرمیتا</td>\n      <td>6.021</td>\n    </tr>\n    <tr>\n      <th>3</th>\n      <td>Daryl</td>\n      <td>5.383</td>\n    </tr>\n    <tr>\n      <th>4</th>\n      <td>Bilogost</td>\n      <td>3.875</td>\n    </tr>\n    <tr>\n      <th>...</th>\n      <td>...</td>\n      <td>...</td>\n    </tr>\n    <tr>\n      <th>16995</th>\n      <td>Eduardo</td>\n      <td>7.371</td>\n    </tr>\n    <tr>\n      <th>16996</th>\n      <td>Olivia</td>\n      <td>8.020</td>\n    </tr>\n    <tr>\n      <th>16997</th>\n      <td>Estela</td>\n      <td>5.917</td>\n    </tr>\n    <tr>\n      <th>16998</th>\n      <td>Ivan</td>\n      <td>5.392</td>\n    </tr>\n    <tr>\n      <th>16999</th>\n      <td>مانی</td>\n      <td>3.621</td>\n    </tr>\n  </tbody>\n</table>\n<p>17000 rows × 2 columns</p>\n</div>"
     },
     "execution_count": 13,
     "metadata": {},
     "output_type": "execute_result"
    }
   ],
   "source": [
    "copydf[\"happiness\"] = copydf[\"happiness\"]+(np.random.randint(-20,21,copydf.shape[0]).astype(\"float\")/10)\n",
    "copydf[copydf.columns[[2,-1]]]"
   ],
   "metadata": {
    "collapsed": false,
    "pycharm": {
     "name": "#%%\n"
    }
   }
  },
  {
   "cell_type": "markdown",
   "source": [
    "# Filling the rest of the columns Case by Case"
   ],
   "metadata": {
    "collapsed": false,
    "pycharm": {
     "name": "#%% md\n"
    }
   }
  },
  {
   "cell_type": "code",
   "execution_count": 14,
   "outputs": [],
   "source": [
    "# questionnaire = pd.read_csv(\"questionnaire.csv\")\n",
    "# # questionnaire.columns= pd.Series(questionnaire.columns).apply(lambda x: x.replace(\" \",\"_\"))\n",
    "# # questionnaire = questionnaire.drop(['Unnamed: 0'],axis=1)\n",
    "# # questionnaire= questionnaire.rename(columns={'Name_initials':'Name'})\n",
    "# questionnaire.to_csv(\"questionnaire.csv\")\n",
    "# len(questionnaire.columns.tolist())co\n"
   ],
   "metadata": {
    "collapsed": false,
    "pycharm": {
     "name": "#%%\n"
    }
   }
  },
  {
   "cell_type": "code",
   "execution_count": 142,
   "outputs": [
    {
     "data": {
      "text/plain": "Empty DataFrame\nColumns: []\nIndex: []",
      "text/html": "<div>\n<style scoped>\n    .dataframe tbody tr th:only-of-type {\n        vertical-align: middle;\n    }\n\n    .dataframe tbody tr th {\n        vertical-align: top;\n    }\n\n    .dataframe thead th {\n        text-align: right;\n    }\n</style>\n<table border=\"1\" class=\"dataframe\">\n  <thead>\n    <tr style=\"text-align: right;\">\n      <th></th>\n    </tr>\n  </thead>\n  <tbody>\n  </tbody>\n</table>\n</div>"
     },
     "execution_count": 142,
     "metadata": {},
     "output_type": "execute_result"
    }
   ],
   "source": [
    "questDF= pd.DataFrame()\n",
    "questDF"
   ],
   "metadata": {
    "collapsed": false,
    "pycharm": {
     "name": "#%%\n"
    }
   }
  },
  {
   "cell_type": "code",
   "execution_count": 143,
   "outputs": [],
   "source": [
    "def fillState(dataframe,index,name,min=1,max=11):\n",
    "    dataframe[name]= np.random.choice(list(range(min,max)), dataframe.shape[0])\n",
    "    return dataframe"
   ],
   "metadata": {
    "collapsed": false,
    "pycharm": {
     "name": "#%%\n"
    }
   }
  },
  {
   "cell_type": "markdown",
   "source": [
    "## Personal Info\n",
    "### Name"
   ],
   "metadata": {
    "collapsed": false,
    "pycharm": {
     "name": "#%% md\n"
    }
   }
  },
  {
   "cell_type": "code",
   "execution_count": 144,
   "outputs": [
    {
     "data": {
      "text/plain": "                     Name\n0            Storm Madsen\n1         Gordoslav Bosik\n2          آرمیتا محمدخان\n3          Daryl Chambers\n4      Bilogost Drizhenko\n...                   ...\n16995       Eduardo Colin\n16996   Olivia Kristensen\n16997         Estela Rojo\n16998      Ivan Hillestad\n16999          مانی حسینی\n\n[17000 rows x 1 columns]",
      "text/html": "<div>\n<style scoped>\n    .dataframe tbody tr th:only-of-type {\n        vertical-align: middle;\n    }\n\n    .dataframe tbody tr th {\n        vertical-align: top;\n    }\n\n    .dataframe thead th {\n        text-align: right;\n    }\n</style>\n<table border=\"1\" class=\"dataframe\">\n  <thead>\n    <tr style=\"text-align: right;\">\n      <th></th>\n      <th>Name</th>\n    </tr>\n  </thead>\n  <tbody>\n    <tr>\n      <th>0</th>\n      <td>Storm Madsen</td>\n    </tr>\n    <tr>\n      <th>1</th>\n      <td>Gordoslav Bosik</td>\n    </tr>\n    <tr>\n      <th>2</th>\n      <td>آرمیتا محمدخان</td>\n    </tr>\n    <tr>\n      <th>3</th>\n      <td>Daryl Chambers</td>\n    </tr>\n    <tr>\n      <th>4</th>\n      <td>Bilogost Drizhenko</td>\n    </tr>\n    <tr>\n      <th>...</th>\n      <td>...</td>\n    </tr>\n    <tr>\n      <th>16995</th>\n      <td>Eduardo Colin</td>\n    </tr>\n    <tr>\n      <th>16996</th>\n      <td>Olivia Kristensen</td>\n    </tr>\n    <tr>\n      <th>16997</th>\n      <td>Estela Rojo</td>\n    </tr>\n    <tr>\n      <th>16998</th>\n      <td>Ivan Hillestad</td>\n    </tr>\n    <tr>\n      <th>16999</th>\n      <td>مانی حسینی</td>\n    </tr>\n  </tbody>\n</table>\n<p>17000 rows × 1 columns</p>\n</div>"
     },
     "execution_count": 144,
     "metadata": {},
     "output_type": "execute_result"
    }
   ],
   "source": [
    "questDF[\"Name\"]= copydf['name.first']+\" \"+ copydf['name.last']\n",
    "questDF"
   ],
   "metadata": {
    "collapsed": false,
    "pycharm": {
     "name": "#%%\n"
    }
   }
  },
  {
   "cell_type": "markdown",
   "source": [
    "### Gender"
   ],
   "metadata": {
    "collapsed": false,
    "pycharm": {
     "name": "#%% md\n"
    }
   }
  },
  {
   "cell_type": "code",
   "execution_count": 145,
   "outputs": [
    {
     "data": {
      "text/plain": "                     Name  Gender\n0            Storm Madsen    male\n1         Gordoslav Bosik    male\n2          آرمیتا محمدخان  female\n3          Daryl Chambers    male\n4      Bilogost Drizhenko    male\n...                   ...     ...\n16995       Eduardo Colin    male\n16996   Olivia Kristensen  female\n16997         Estela Rojo  female\n16998      Ivan Hillestad    male\n16999          مانی حسینی    male\n\n[17000 rows x 2 columns]",
      "text/html": "<div>\n<style scoped>\n    .dataframe tbody tr th:only-of-type {\n        vertical-align: middle;\n    }\n\n    .dataframe tbody tr th {\n        vertical-align: top;\n    }\n\n    .dataframe thead th {\n        text-align: right;\n    }\n</style>\n<table border=\"1\" class=\"dataframe\">\n  <thead>\n    <tr style=\"text-align: right;\">\n      <th></th>\n      <th>Name</th>\n      <th>Gender</th>\n    </tr>\n  </thead>\n  <tbody>\n    <tr>\n      <th>0</th>\n      <td>Storm Madsen</td>\n      <td>male</td>\n    </tr>\n    <tr>\n      <th>1</th>\n      <td>Gordoslav Bosik</td>\n      <td>male</td>\n    </tr>\n    <tr>\n      <th>2</th>\n      <td>آرمیتا محمدخان</td>\n      <td>female</td>\n    </tr>\n    <tr>\n      <th>3</th>\n      <td>Daryl Chambers</td>\n      <td>male</td>\n    </tr>\n    <tr>\n      <th>4</th>\n      <td>Bilogost Drizhenko</td>\n      <td>male</td>\n    </tr>\n    <tr>\n      <th>...</th>\n      <td>...</td>\n      <td>...</td>\n    </tr>\n    <tr>\n      <th>16995</th>\n      <td>Eduardo Colin</td>\n      <td>male</td>\n    </tr>\n    <tr>\n      <th>16996</th>\n      <td>Olivia Kristensen</td>\n      <td>female</td>\n    </tr>\n    <tr>\n      <th>16997</th>\n      <td>Estela Rojo</td>\n      <td>female</td>\n    </tr>\n    <tr>\n      <th>16998</th>\n      <td>Ivan Hillestad</td>\n      <td>male</td>\n    </tr>\n    <tr>\n      <th>16999</th>\n      <td>مانی حسینی</td>\n      <td>male</td>\n    </tr>\n  </tbody>\n</table>\n<p>17000 rows × 2 columns</p>\n</div>"
     },
     "execution_count": 145,
     "metadata": {},
     "output_type": "execute_result"
    }
   ],
   "source": [
    "questDF[\"Gender\"]= copydf['gender']\n",
    "questDF"
   ],
   "metadata": {
    "collapsed": false,
    "pycharm": {
     "name": "#%%\n"
    }
   }
  },
  {
   "cell_type": "markdown",
   "source": [
    "### Age"
   ],
   "metadata": {
    "collapsed": false,
    "pycharm": {
     "name": "#%% md\n"
    }
   }
  },
  {
   "cell_type": "code",
   "execution_count": 146,
   "outputs": [
    {
     "data": {
      "text/plain": "                     Name  Gender  Age\n0            Storm Madsen    male   36\n1         Gordoslav Bosik    male   59\n2          آرمیتا محمدخان  female   36\n3          Daryl Chambers    male   50\n4      Bilogost Drizhenko    male   71\n...                   ...     ...  ...\n16995       Eduardo Colin    male   73\n16996   Olivia Kristensen  female   27\n16997         Estela Rojo  female   67\n16998      Ivan Hillestad    male   67\n16999          مانی حسینی    male   67\n\n[17000 rows x 3 columns]",
      "text/html": "<div>\n<style scoped>\n    .dataframe tbody tr th:only-of-type {\n        vertical-align: middle;\n    }\n\n    .dataframe tbody tr th {\n        vertical-align: top;\n    }\n\n    .dataframe thead th {\n        text-align: right;\n    }\n</style>\n<table border=\"1\" class=\"dataframe\">\n  <thead>\n    <tr style=\"text-align: right;\">\n      <th></th>\n      <th>Name</th>\n      <th>Gender</th>\n      <th>Age</th>\n    </tr>\n  </thead>\n  <tbody>\n    <tr>\n      <th>0</th>\n      <td>Storm Madsen</td>\n      <td>male</td>\n      <td>36</td>\n    </tr>\n    <tr>\n      <th>1</th>\n      <td>Gordoslav Bosik</td>\n      <td>male</td>\n      <td>59</td>\n    </tr>\n    <tr>\n      <th>2</th>\n      <td>آرمیتا محمدخان</td>\n      <td>female</td>\n      <td>36</td>\n    </tr>\n    <tr>\n      <th>3</th>\n      <td>Daryl Chambers</td>\n      <td>male</td>\n      <td>50</td>\n    </tr>\n    <tr>\n      <th>4</th>\n      <td>Bilogost Drizhenko</td>\n      <td>male</td>\n      <td>71</td>\n    </tr>\n    <tr>\n      <th>...</th>\n      <td>...</td>\n      <td>...</td>\n      <td>...</td>\n    </tr>\n    <tr>\n      <th>16995</th>\n      <td>Eduardo Colin</td>\n      <td>male</td>\n      <td>73</td>\n    </tr>\n    <tr>\n      <th>16996</th>\n      <td>Olivia Kristensen</td>\n      <td>female</td>\n      <td>27</td>\n    </tr>\n    <tr>\n      <th>16997</th>\n      <td>Estela Rojo</td>\n      <td>female</td>\n      <td>67</td>\n    </tr>\n    <tr>\n      <th>16998</th>\n      <td>Ivan Hillestad</td>\n      <td>male</td>\n      <td>67</td>\n    </tr>\n    <tr>\n      <th>16999</th>\n      <td>مانی حسینی</td>\n      <td>male</td>\n      <td>67</td>\n    </tr>\n  </tbody>\n</table>\n<p>17000 rows × 3 columns</p>\n</div>"
     },
     "execution_count": 146,
     "metadata": {},
     "output_type": "execute_result"
    }
   ],
   "source": [
    "questDF[\"Age\"]= copydf['dob.age']\n",
    "questDF"
   ],
   "metadata": {
    "collapsed": false,
    "pycharm": {
     "name": "#%%\n"
    }
   }
  },
  {
   "cell_type": "markdown",
   "source": [
    "### Ethnicity"
   ],
   "metadata": {
    "collapsed": false,
    "pycharm": {
     "name": "#%% md\n"
    }
   }
  },
  {
   "cell_type": "code",
   "execution_count": 147,
   "outputs": [
    {
     "data": {
      "text/plain": "                     Name  Gender  Age Ethnicity\n0            Storm Madsen    male   36     White\n1         Gordoslav Bosik    male   59     White\n2          آرمیتا محمدخان  female   36      Arab\n3          Daryl Chambers    male   50      Arab\n4      Bilogost Drizhenko    male   71      Arab\n...                   ...     ...  ...       ...\n16995       Eduardo Colin    male   73  Hispanic\n16996   Olivia Kristensen  female   27      Arab\n16997         Estela Rojo  female   67  Hispanic\n16998      Ivan Hillestad    male   67      Arab\n16999          مانی حسینی    male   67     Black\n\n[17000 rows x 4 columns]",
      "text/html": "<div>\n<style scoped>\n    .dataframe tbody tr th:only-of-type {\n        vertical-align: middle;\n    }\n\n    .dataframe tbody tr th {\n        vertical-align: top;\n    }\n\n    .dataframe thead th {\n        text-align: right;\n    }\n</style>\n<table border=\"1\" class=\"dataframe\">\n  <thead>\n    <tr style=\"text-align: right;\">\n      <th></th>\n      <th>Name</th>\n      <th>Gender</th>\n      <th>Age</th>\n      <th>Ethnicity</th>\n    </tr>\n  </thead>\n  <tbody>\n    <tr>\n      <th>0</th>\n      <td>Storm Madsen</td>\n      <td>male</td>\n      <td>36</td>\n      <td>White</td>\n    </tr>\n    <tr>\n      <th>1</th>\n      <td>Gordoslav Bosik</td>\n      <td>male</td>\n      <td>59</td>\n      <td>White</td>\n    </tr>\n    <tr>\n      <th>2</th>\n      <td>آرمیتا محمدخان</td>\n      <td>female</td>\n      <td>36</td>\n      <td>Arab</td>\n    </tr>\n    <tr>\n      <th>3</th>\n      <td>Daryl Chambers</td>\n      <td>male</td>\n      <td>50</td>\n      <td>Arab</td>\n    </tr>\n    <tr>\n      <th>4</th>\n      <td>Bilogost Drizhenko</td>\n      <td>male</td>\n      <td>71</td>\n      <td>Arab</td>\n    </tr>\n    <tr>\n      <th>...</th>\n      <td>...</td>\n      <td>...</td>\n      <td>...</td>\n      <td>...</td>\n    </tr>\n    <tr>\n      <th>16995</th>\n      <td>Eduardo Colin</td>\n      <td>male</td>\n      <td>73</td>\n      <td>Hispanic</td>\n    </tr>\n    <tr>\n      <th>16996</th>\n      <td>Olivia Kristensen</td>\n      <td>female</td>\n      <td>27</td>\n      <td>Arab</td>\n    </tr>\n    <tr>\n      <th>16997</th>\n      <td>Estela Rojo</td>\n      <td>female</td>\n      <td>67</td>\n      <td>Hispanic</td>\n    </tr>\n    <tr>\n      <th>16998</th>\n      <td>Ivan Hillestad</td>\n      <td>male</td>\n      <td>67</td>\n      <td>Arab</td>\n    </tr>\n    <tr>\n      <th>16999</th>\n      <td>مانی حسینی</td>\n      <td>male</td>\n      <td>67</td>\n      <td>Black</td>\n    </tr>\n  </tbody>\n</table>\n<p>17000 rows × 4 columns</p>\n</div>"
     },
     "execution_count": 147,
     "metadata": {},
     "output_type": "execute_result"
    }
   ],
   "source": [
    "ethnicities = [\"Hispanic\", \"White\", \"White\", \"White\", \"Black\", \"Black\", \"Black\", \"White\", \"White\", \"Asian\", \"Asian\", \"Arab\", \"Arab\", \"Arab\"]\n",
    "questDF[\"Ethnicity\"]= np.random.choice(ethnicities, questDF.shape[0])\n",
    "questDF"
   ],
   "metadata": {
    "collapsed": false,
    "pycharm": {
     "name": "#%%\n"
    }
   }
  },
  {
   "cell_type": "markdown",
   "source": [
    "## Family\n",
    "### Family Status\n"
   ],
   "metadata": {
    "collapsed": false,
    "pycharm": {
     "name": "#%% md\n"
    }
   }
  },
  {
   "cell_type": "code",
   "execution_count": 148,
   "outputs": [
    {
     "data": {
      "text/plain": "                     Name  Gender  Age Ethnicity      Family_Status\n0            Storm Madsen    male   36     White        step family\n1         Gordoslav Bosik    male   59     White         Abandonned\n2          آرمیتا محمدخان  female   36      Arab         Abandonned\n3          Daryl Chambers    male   50      Arab    extended family\n4      Bilogost Drizhenko    male   71      Arab        step family\n...                   ...     ...  ...       ...                ...\n16995       Eduardo Colin    male   73  Hispanic    extended family\n16996   Olivia Kristensen  female   27      Arab    extended family\n16997         Estela Rojo  female   67  Hispanic  biological family\n16998      Ivan Hillestad    male   67      Arab    extended family\n16999          مانی حسینی    male   67     Black         Abandonned\n\n[17000 rows x 5 columns]",
      "text/html": "<div>\n<style scoped>\n    .dataframe tbody tr th:only-of-type {\n        vertical-align: middle;\n    }\n\n    .dataframe tbody tr th {\n        vertical-align: top;\n    }\n\n    .dataframe thead th {\n        text-align: right;\n    }\n</style>\n<table border=\"1\" class=\"dataframe\">\n  <thead>\n    <tr style=\"text-align: right;\">\n      <th></th>\n      <th>Name</th>\n      <th>Gender</th>\n      <th>Age</th>\n      <th>Ethnicity</th>\n      <th>Family_Status</th>\n    </tr>\n  </thead>\n  <tbody>\n    <tr>\n      <th>0</th>\n      <td>Storm Madsen</td>\n      <td>male</td>\n      <td>36</td>\n      <td>White</td>\n      <td>step family</td>\n    </tr>\n    <tr>\n      <th>1</th>\n      <td>Gordoslav Bosik</td>\n      <td>male</td>\n      <td>59</td>\n      <td>White</td>\n      <td>Abandonned</td>\n    </tr>\n    <tr>\n      <th>2</th>\n      <td>آرمیتا محمدخان</td>\n      <td>female</td>\n      <td>36</td>\n      <td>Arab</td>\n      <td>Abandonned</td>\n    </tr>\n    <tr>\n      <th>3</th>\n      <td>Daryl Chambers</td>\n      <td>male</td>\n      <td>50</td>\n      <td>Arab</td>\n      <td>extended family</td>\n    </tr>\n    <tr>\n      <th>4</th>\n      <td>Bilogost Drizhenko</td>\n      <td>male</td>\n      <td>71</td>\n      <td>Arab</td>\n      <td>step family</td>\n    </tr>\n    <tr>\n      <th>...</th>\n      <td>...</td>\n      <td>...</td>\n      <td>...</td>\n      <td>...</td>\n      <td>...</td>\n    </tr>\n    <tr>\n      <th>16995</th>\n      <td>Eduardo Colin</td>\n      <td>male</td>\n      <td>73</td>\n      <td>Hispanic</td>\n      <td>extended family</td>\n    </tr>\n    <tr>\n      <th>16996</th>\n      <td>Olivia Kristensen</td>\n      <td>female</td>\n      <td>27</td>\n      <td>Arab</td>\n      <td>extended family</td>\n    </tr>\n    <tr>\n      <th>16997</th>\n      <td>Estela Rojo</td>\n      <td>female</td>\n      <td>67</td>\n      <td>Hispanic</td>\n      <td>biological family</td>\n    </tr>\n    <tr>\n      <th>16998</th>\n      <td>Ivan Hillestad</td>\n      <td>male</td>\n      <td>67</td>\n      <td>Arab</td>\n      <td>extended family</td>\n    </tr>\n    <tr>\n      <th>16999</th>\n      <td>مانی حسینی</td>\n      <td>male</td>\n      <td>67</td>\n      <td>Black</td>\n      <td>Abandonned</td>\n    </tr>\n  </tbody>\n</table>\n<p>17000 rows × 5 columns</p>\n</div>"
     },
     "execution_count": 148,
     "metadata": {},
     "output_type": "execute_result"
    }
   ],
   "source": [
    "statuses = ['Abandonned', 'Adopted', 'Adopted',\n",
    "            'biological family', 'biological family', 'biological family', 'biological family',\n",
    "            'step family', 'step family', 'extended family', 'extended family', 'extended family']\n",
    "questDF[\"Family_Status\"]= np.random.choice(statuses, questDF.shape[0])\n",
    "questDF"
   ],
   "metadata": {
    "collapsed": false,
    "pycharm": {
     "name": "#%%\n"
    }
   }
  },
  {
   "cell_type": "markdown",
   "source": [
    "### Number Of Caretakers"
   ],
   "metadata": {
    "collapsed": false,
    "pycharm": {
     "name": "#%% md\n"
    }
   }
  },
  {
   "cell_type": "code",
   "execution_count": 149,
   "outputs": [
    {
     "data": {
      "text/plain": "                     Name  Gender  Age Ethnicity      Family_Status  \\\n0            Storm Madsen    male   36     White        step family   \n1         Gordoslav Bosik    male   59     White         Abandonned   \n2          آرمیتا محمدخان  female   36      Arab         Abandonned   \n3          Daryl Chambers    male   50      Arab    extended family   \n4      Bilogost Drizhenko    male   71      Arab        step family   \n...                   ...     ...  ...       ...                ...   \n16995       Eduardo Colin    male   73  Hispanic    extended family   \n16996   Olivia Kristensen  female   27      Arab    extended family   \n16997         Estela Rojo  female   67  Hispanic  biological family   \n16998      Ivan Hillestad    male   67      Arab    extended family   \n16999          مانی حسینی    male   67     Black         Abandonned   \n\n       Number_Caretakers  \n0                      3  \n1                      2  \n2                      0  \n3                      5  \n4                      2  \n...                  ...  \n16995                  2  \n16996                  2  \n16997                  2  \n16998                  2  \n16999                  0  \n\n[17000 rows x 6 columns]",
      "text/html": "<div>\n<style scoped>\n    .dataframe tbody tr th:only-of-type {\n        vertical-align: middle;\n    }\n\n    .dataframe tbody tr th {\n        vertical-align: top;\n    }\n\n    .dataframe thead th {\n        text-align: right;\n    }\n</style>\n<table border=\"1\" class=\"dataframe\">\n  <thead>\n    <tr style=\"text-align: right;\">\n      <th></th>\n      <th>Name</th>\n      <th>Gender</th>\n      <th>Age</th>\n      <th>Ethnicity</th>\n      <th>Family_Status</th>\n      <th>Number_Caretakers</th>\n    </tr>\n  </thead>\n  <tbody>\n    <tr>\n      <th>0</th>\n      <td>Storm Madsen</td>\n      <td>male</td>\n      <td>36</td>\n      <td>White</td>\n      <td>step family</td>\n      <td>3</td>\n    </tr>\n    <tr>\n      <th>1</th>\n      <td>Gordoslav Bosik</td>\n      <td>male</td>\n      <td>59</td>\n      <td>White</td>\n      <td>Abandonned</td>\n      <td>2</td>\n    </tr>\n    <tr>\n      <th>2</th>\n      <td>آرمیتا محمدخان</td>\n      <td>female</td>\n      <td>36</td>\n      <td>Arab</td>\n      <td>Abandonned</td>\n      <td>0</td>\n    </tr>\n    <tr>\n      <th>3</th>\n      <td>Daryl Chambers</td>\n      <td>male</td>\n      <td>50</td>\n      <td>Arab</td>\n      <td>extended family</td>\n      <td>5</td>\n    </tr>\n    <tr>\n      <th>4</th>\n      <td>Bilogost Drizhenko</td>\n      <td>male</td>\n      <td>71</td>\n      <td>Arab</td>\n      <td>step family</td>\n      <td>2</td>\n    </tr>\n    <tr>\n      <th>...</th>\n      <td>...</td>\n      <td>...</td>\n      <td>...</td>\n      <td>...</td>\n      <td>...</td>\n      <td>...</td>\n    </tr>\n    <tr>\n      <th>16995</th>\n      <td>Eduardo Colin</td>\n      <td>male</td>\n      <td>73</td>\n      <td>Hispanic</td>\n      <td>extended family</td>\n      <td>2</td>\n    </tr>\n    <tr>\n      <th>16996</th>\n      <td>Olivia Kristensen</td>\n      <td>female</td>\n      <td>27</td>\n      <td>Arab</td>\n      <td>extended family</td>\n      <td>2</td>\n    </tr>\n    <tr>\n      <th>16997</th>\n      <td>Estela Rojo</td>\n      <td>female</td>\n      <td>67</td>\n      <td>Hispanic</td>\n      <td>biological family</td>\n      <td>2</td>\n    </tr>\n    <tr>\n      <th>16998</th>\n      <td>Ivan Hillestad</td>\n      <td>male</td>\n      <td>67</td>\n      <td>Arab</td>\n      <td>extended family</td>\n      <td>2</td>\n    </tr>\n    <tr>\n      <th>16999</th>\n      <td>مانی حسینی</td>\n      <td>male</td>\n      <td>67</td>\n      <td>Black</td>\n      <td>Abandonned</td>\n      <td>0</td>\n    </tr>\n  </tbody>\n</table>\n<p>17000 rows × 6 columns</p>\n</div>"
     },
     "execution_count": 149,
     "metadata": {},
     "output_type": "execute_result"
    }
   ],
   "source": [
    "nCaretakers= [0]+[1]*3+[2]*5+[3]*3+[4]*2+[5]\n",
    "questDF[\"Number_Caretakers\"]= np.random.choice(nCaretakers, questDF.shape[0])\n",
    "questDF"
   ],
   "metadata": {
    "collapsed": false,
    "pycharm": {
     "name": "#%%\n"
    }
   }
  },
  {
   "cell_type": "markdown",
   "source": [
    "### State of Caretakers\n",
    "the more caretakers you have the less likely it is to have a low state of caretakers"
   ],
   "metadata": {
    "collapsed": false,
    "pycharm": {
     "name": "#%% md\n"
    }
   }
  },
  {
   "cell_type": "code",
   "execution_count": 150,
   "outputs": [
    {
     "data": {
      "text/plain": "           Family_Status  Number_Caretakers State_Caretakers\n0            step family                  3                1\n1             Abandonned                  2                4\n2             Abandonned                  0                0\n3        extended family                  5               10\n4            step family                  2                2\n...                  ...                ...              ...\n16995    extended family                  2                4\n16996    extended family                  2                4\n16997  biological family                  2                6\n16998    extended family                  2               10\n16999         Abandonned                  0                0\n\n[17000 rows x 3 columns]",
      "text/html": "<div>\n<style scoped>\n    .dataframe tbody tr th:only-of-type {\n        vertical-align: middle;\n    }\n\n    .dataframe tbody tr th {\n        vertical-align: top;\n    }\n\n    .dataframe thead th {\n        text-align: right;\n    }\n</style>\n<table border=\"1\" class=\"dataframe\">\n  <thead>\n    <tr style=\"text-align: right;\">\n      <th></th>\n      <th>Family_Status</th>\n      <th>Number_Caretakers</th>\n      <th>State_Caretakers</th>\n    </tr>\n  </thead>\n  <tbody>\n    <tr>\n      <th>0</th>\n      <td>step family</td>\n      <td>3</td>\n      <td>1</td>\n    </tr>\n    <tr>\n      <th>1</th>\n      <td>Abandonned</td>\n      <td>2</td>\n      <td>4</td>\n    </tr>\n    <tr>\n      <th>2</th>\n      <td>Abandonned</td>\n      <td>0</td>\n      <td>0</td>\n    </tr>\n    <tr>\n      <th>3</th>\n      <td>extended family</td>\n      <td>5</td>\n      <td>10</td>\n    </tr>\n    <tr>\n      <th>4</th>\n      <td>step family</td>\n      <td>2</td>\n      <td>2</td>\n    </tr>\n    <tr>\n      <th>...</th>\n      <td>...</td>\n      <td>...</td>\n      <td>...</td>\n    </tr>\n    <tr>\n      <th>16995</th>\n      <td>extended family</td>\n      <td>2</td>\n      <td>4</td>\n    </tr>\n    <tr>\n      <th>16996</th>\n      <td>extended family</td>\n      <td>2</td>\n      <td>4</td>\n    </tr>\n    <tr>\n      <th>16997</th>\n      <td>biological family</td>\n      <td>2</td>\n      <td>6</td>\n    </tr>\n    <tr>\n      <th>16998</th>\n      <td>extended family</td>\n      <td>2</td>\n      <td>10</td>\n    </tr>\n    <tr>\n      <th>16999</th>\n      <td>Abandonned</td>\n      <td>0</td>\n      <td>0</td>\n    </tr>\n  </tbody>\n</table>\n<p>17000 rows × 3 columns</p>\n</div>"
     },
     "execution_count": 150,
     "metadata": {},
     "output_type": "execute_result"
    }
   ],
   "source": [
    "sCaretakers=[[0],                                            #0 caretakers\n",
    "             [0,1]*4+[1,2,3]*2+[4,6,5]*4+[7,8,9]*2+[10],     #1 Caretaker\n",
    "             [0,1]*2+[1,2,3,4]*2+[4,6,5]*4+[7,8,9]*3+[10]*2, #2 Caretakers\n",
    "             [0,1]*1+[1,2,3]*2+[4,6,5]*5+[7,8,9]*4+[10]*2,   #3 Caretakers\n",
    "             [0,1]*1+[1,2,3]*3+[4,6,5]*5+[7,8,9]*3+[10]*3,   #4 Caretakers\n",
    "             [0,1]*3+[1,2,3]*2+[4,6,5]*5+[7,8,9]*4+[10]*4    #5 Caretakers\n",
    "            ]\n",
    "pname=\"Number_Caretakers\"\n",
    "questDF[\"State_Caretakers\"] = np.where(questDF[pname]== 0,np.random.choice(sCaretakers[0],questDF.shape[0]),\n",
    "                                       np.where(questDF[pname]== 1,np.random.choice(sCaretakers[1],questDF.shape[0]),\n",
    "                                                np.where(questDF[pname]== 2, np.random.choice(sCaretakers[2], questDF.shape[0]),\n",
    "                                                         np.where(questDF[pname]== 3, np.random.choice(sCaretakers[3], questDF.shape[0]),\n",
    "                                                                  np.where(questDF[pname]== 4, np.random.choice(sCaretakers[4], questDF.shape[0]),\n",
    "                                                                           np.where(questDF[pname]== 5, np.random.choice(sCaretakers[5], questDF.shape[0]),\"\")\n",
    "                                                                           )\n",
    "                                                                  )\n",
    "                                                         )\n",
    "                                                )\n",
    "                                       )\n",
    "questDF[questDF.columns[[-3,-2,-1]]]"
   ],
   "metadata": {
    "collapsed": false,
    "pycharm": {
     "name": "#%%\n"
    }
   }
  },
  {
   "cell_type": "markdown",
   "source": [
    "### Number of Siblings"
   ],
   "metadata": {
    "collapsed": false,
    "pycharm": {
     "name": "#%% md\n"
    }
   }
  },
  {
   "cell_type": "code",
   "execution_count": 151,
   "outputs": [
    {
     "data": {
      "text/plain": "           Family_Status                Name  Number_Siblings\n0            step family        Storm Madsen                0\n1             Abandonned     Gordoslav Bosik                0\n2             Abandonned      آرمیتا محمدخان                3\n3        extended family      Daryl Chambers                2\n4            step family  Bilogost Drizhenko                5\n...                  ...                 ...              ...\n16995    extended family       Eduardo Colin                1\n16996    extended family   Olivia Kristensen                1\n16997  biological family         Estela Rojo                2\n16998    extended family      Ivan Hillestad                1\n16999         Abandonned          مانی حسینی                2\n\n[17000 rows x 3 columns]",
      "text/html": "<div>\n<style scoped>\n    .dataframe tbody tr th:only-of-type {\n        vertical-align: middle;\n    }\n\n    .dataframe tbody tr th {\n        vertical-align: top;\n    }\n\n    .dataframe thead th {\n        text-align: right;\n    }\n</style>\n<table border=\"1\" class=\"dataframe\">\n  <thead>\n    <tr style=\"text-align: right;\">\n      <th></th>\n      <th>Family_Status</th>\n      <th>Name</th>\n      <th>Number_Siblings</th>\n    </tr>\n  </thead>\n  <tbody>\n    <tr>\n      <th>0</th>\n      <td>step family</td>\n      <td>Storm Madsen</td>\n      <td>0</td>\n    </tr>\n    <tr>\n      <th>1</th>\n      <td>Abandonned</td>\n      <td>Gordoslav Bosik</td>\n      <td>0</td>\n    </tr>\n    <tr>\n      <th>2</th>\n      <td>Abandonned</td>\n      <td>آرمیتا محمدخان</td>\n      <td>3</td>\n    </tr>\n    <tr>\n      <th>3</th>\n      <td>extended family</td>\n      <td>Daryl Chambers</td>\n      <td>2</td>\n    </tr>\n    <tr>\n      <th>4</th>\n      <td>step family</td>\n      <td>Bilogost Drizhenko</td>\n      <td>5</td>\n    </tr>\n    <tr>\n      <th>...</th>\n      <td>...</td>\n      <td>...</td>\n      <td>...</td>\n    </tr>\n    <tr>\n      <th>16995</th>\n      <td>extended family</td>\n      <td>Eduardo Colin</td>\n      <td>1</td>\n    </tr>\n    <tr>\n      <th>16996</th>\n      <td>extended family</td>\n      <td>Olivia Kristensen</td>\n      <td>1</td>\n    </tr>\n    <tr>\n      <th>16997</th>\n      <td>biological family</td>\n      <td>Estela Rojo</td>\n      <td>2</td>\n    </tr>\n    <tr>\n      <th>16998</th>\n      <td>extended family</td>\n      <td>Ivan Hillestad</td>\n      <td>1</td>\n    </tr>\n    <tr>\n      <th>16999</th>\n      <td>Abandonned</td>\n      <td>مانی حسینی</td>\n      <td>2</td>\n    </tr>\n  </tbody>\n</table>\n<p>17000 rows × 3 columns</p>\n</div>"
     },
     "execution_count": 151,
     "metadata": {},
     "output_type": "execute_result"
    }
   ],
   "source": [
    "nSiblings=[0]*3+[1]*6+[2]*5+[3]*3+[4]*2+[5]\n",
    "questDF[\"Number_Siblings\"]= np.random.choice(nSiblings, questDF.shape[0])\n",
    "questDF[questDF.columns[[-4,-0,-1]]]"
   ],
   "metadata": {
    "collapsed": false,
    "pycharm": {
     "name": "#%%\n"
    }
   }
  },
  {
   "cell_type": "markdown",
   "source": [
    "### Order Among Siblings"
   ],
   "metadata": {
    "collapsed": false,
    "pycharm": {
     "name": "#%% md\n"
    }
   }
  },
  {
   "cell_type": "code",
   "execution_count": 152,
   "outputs": [
    {
     "data": {
      "text/plain": "                     Name      Family_Status  Number_Siblings  \\\n0            Storm Madsen        step family                0   \n1         Gordoslav Bosik         Abandonned                0   \n2          آرمیتا محمدخان         Abandonned                3   \n3          Daryl Chambers    extended family                2   \n4      Bilogost Drizhenko        step family                5   \n...                   ...                ...              ...   \n16995       Eduardo Colin    extended family                1   \n16996   Olivia Kristensen    extended family                1   \n16997         Estela Rojo  biological family                2   \n16998      Ivan Hillestad    extended family                1   \n16999          مانی حسینی         Abandonned                2   \n\n       Order_Among_Siblings  \n0                         0  \n1                         0  \n2                         2  \n3                         0  \n4                         3  \n...                     ...  \n16995                     0  \n16996                     0  \n16997                     2  \n16998                     1  \n16999                     1  \n\n[17000 rows x 4 columns]",
      "text/html": "<div>\n<style scoped>\n    .dataframe tbody tr th:only-of-type {\n        vertical-align: middle;\n    }\n\n    .dataframe tbody tr th {\n        vertical-align: top;\n    }\n\n    .dataframe thead th {\n        text-align: right;\n    }\n</style>\n<table border=\"1\" class=\"dataframe\">\n  <thead>\n    <tr style=\"text-align: right;\">\n      <th></th>\n      <th>Name</th>\n      <th>Family_Status</th>\n      <th>Number_Siblings</th>\n      <th>Order_Among_Siblings</th>\n    </tr>\n  </thead>\n  <tbody>\n    <tr>\n      <th>0</th>\n      <td>Storm Madsen</td>\n      <td>step family</td>\n      <td>0</td>\n      <td>0</td>\n    </tr>\n    <tr>\n      <th>1</th>\n      <td>Gordoslav Bosik</td>\n      <td>Abandonned</td>\n      <td>0</td>\n      <td>0</td>\n    </tr>\n    <tr>\n      <th>2</th>\n      <td>آرمیتا محمدخان</td>\n      <td>Abandonned</td>\n      <td>3</td>\n      <td>2</td>\n    </tr>\n    <tr>\n      <th>3</th>\n      <td>Daryl Chambers</td>\n      <td>extended family</td>\n      <td>2</td>\n      <td>0</td>\n    </tr>\n    <tr>\n      <th>4</th>\n      <td>Bilogost Drizhenko</td>\n      <td>step family</td>\n      <td>5</td>\n      <td>3</td>\n    </tr>\n    <tr>\n      <th>...</th>\n      <td>...</td>\n      <td>...</td>\n      <td>...</td>\n      <td>...</td>\n    </tr>\n    <tr>\n      <th>16995</th>\n      <td>Eduardo Colin</td>\n      <td>extended family</td>\n      <td>1</td>\n      <td>0</td>\n    </tr>\n    <tr>\n      <th>16996</th>\n      <td>Olivia Kristensen</td>\n      <td>extended family</td>\n      <td>1</td>\n      <td>0</td>\n    </tr>\n    <tr>\n      <th>16997</th>\n      <td>Estela Rojo</td>\n      <td>biological family</td>\n      <td>2</td>\n      <td>2</td>\n    </tr>\n    <tr>\n      <th>16998</th>\n      <td>Ivan Hillestad</td>\n      <td>extended family</td>\n      <td>1</td>\n      <td>1</td>\n    </tr>\n    <tr>\n      <th>16999</th>\n      <td>مانی حسینی</td>\n      <td>Abandonned</td>\n      <td>2</td>\n      <td>1</td>\n    </tr>\n  </tbody>\n</table>\n<p>17000 rows × 4 columns</p>\n</div>"
     },
     "execution_count": 152,
     "metadata": {},
     "output_type": "execute_result"
    }
   ],
   "source": [
    "questDF[\"Order_Among_Siblings\"]= questDF['Number_Siblings'].apply(lambda x: np.random.randint(0,x+1))\n",
    "questDF[questDF.columns[[-0,-5,-2,-1]]]"
   ],
   "metadata": {
    "collapsed": false,
    "pycharm": {
     "name": "#%%\n"
    }
   }
  },
  {
   "cell_type": "markdown",
   "source": [
    "## Location\n",
    "### State of Residence"
   ],
   "metadata": {
    "collapsed": false,
    "pycharm": {
     "name": "#%% md\n"
    }
   }
  },
  {
   "cell_type": "code",
   "execution_count": 153,
   "outputs": [
    {
     "data": {
      "text/plain": "0        8\n1        8\n2        3\n3        7\n4        6\n        ..\n16995    1\n16996    6\n16997    8\n16998    9\n16999    6\nName: State_Residence, Length: 17000, dtype: int32"
     },
     "execution_count": 153,
     "metadata": {},
     "output_type": "execute_result"
    }
   ],
   "source": [
    "questDF = fillState(questDF,9,\"State_Residence\")\n",
    "questDF[\"State_Residence\"]"
   ],
   "metadata": {
    "collapsed": false,
    "pycharm": {
     "name": "#%%\n"
    }
   }
  },
  {
   "cell_type": "markdown",
   "source": [
    "### Country"
   ],
   "metadata": {
    "collapsed": false,
    "pycharm": {
     "name": "#%% md\n"
    }
   }
  },
  {
   "cell_type": "code",
   "execution_count": 154,
   "outputs": [
    {
     "data": {
      "text/plain": "0            Denmark\n1            Ukraine\n2               Iran\n3          Australia\n4            Ukraine\n            ...     \n16995    Switzerland\n16996        Denmark\n16997         Mexico\n16998         Norway\n16999           Iran\nName: Country, Length: 17000, dtype: object"
     },
     "execution_count": 154,
     "metadata": {},
     "output_type": "execute_result"
    }
   ],
   "source": [
    "questDF[\"Country\"]= copydf['location.country']\n",
    "questDF[\"Country\"]"
   ],
   "metadata": {
    "collapsed": false,
    "pycharm": {
     "name": "#%%\n"
    }
   }
  },
  {
   "cell_type": "markdown",
   "source": [
    "### State of Country"
   ],
   "metadata": {
    "collapsed": false,
    "pycharm": {
     "name": "#%% md\n"
    }
   }
  },
  {
   "cell_type": "code",
   "execution_count": 155,
   "outputs": [
    {
     "data": {
      "text/plain": "                     Name      Country  State_Country\n0            Storm Madsen      Denmark            6.9\n1         Gordoslav Bosik      Ukraine            4.0\n2          آرمیتا محمدخان         Iran            6.0\n3          Daryl Chambers    Australia            5.4\n4      Bilogost Drizhenko      Ukraine            3.9\n...                   ...          ...            ...\n16995       Eduardo Colin  Switzerland            7.4\n16996   Olivia Kristensen      Denmark            8.0\n16997         Estela Rojo       Mexico            5.9\n16998      Ivan Hillestad       Norway            5.4\n16999          مانی حسینی         Iran            3.6\n\n[17000 rows x 3 columns]",
      "text/html": "<div>\n<style scoped>\n    .dataframe tbody tr th:only-of-type {\n        vertical-align: middle;\n    }\n\n    .dataframe tbody tr th {\n        vertical-align: top;\n    }\n\n    .dataframe thead th {\n        text-align: right;\n    }\n</style>\n<table border=\"1\" class=\"dataframe\">\n  <thead>\n    <tr style=\"text-align: right;\">\n      <th></th>\n      <th>Name</th>\n      <th>Country</th>\n      <th>State_Country</th>\n    </tr>\n  </thead>\n  <tbody>\n    <tr>\n      <th>0</th>\n      <td>Storm Madsen</td>\n      <td>Denmark</td>\n      <td>6.9</td>\n    </tr>\n    <tr>\n      <th>1</th>\n      <td>Gordoslav Bosik</td>\n      <td>Ukraine</td>\n      <td>4.0</td>\n    </tr>\n    <tr>\n      <th>2</th>\n      <td>آرمیتا محمدخان</td>\n      <td>Iran</td>\n      <td>6.0</td>\n    </tr>\n    <tr>\n      <th>3</th>\n      <td>Daryl Chambers</td>\n      <td>Australia</td>\n      <td>5.4</td>\n    </tr>\n    <tr>\n      <th>4</th>\n      <td>Bilogost Drizhenko</td>\n      <td>Ukraine</td>\n      <td>3.9</td>\n    </tr>\n    <tr>\n      <th>...</th>\n      <td>...</td>\n      <td>...</td>\n      <td>...</td>\n    </tr>\n    <tr>\n      <th>16995</th>\n      <td>Eduardo Colin</td>\n      <td>Switzerland</td>\n      <td>7.4</td>\n    </tr>\n    <tr>\n      <th>16996</th>\n      <td>Olivia Kristensen</td>\n      <td>Denmark</td>\n      <td>8.0</td>\n    </tr>\n    <tr>\n      <th>16997</th>\n      <td>Estela Rojo</td>\n      <td>Mexico</td>\n      <td>5.9</td>\n    </tr>\n    <tr>\n      <th>16998</th>\n      <td>Ivan Hillestad</td>\n      <td>Norway</td>\n      <td>5.4</td>\n    </tr>\n    <tr>\n      <th>16999</th>\n      <td>مانی حسینی</td>\n      <td>Iran</td>\n      <td>3.6</td>\n    </tr>\n  </tbody>\n</table>\n<p>17000 rows × 3 columns</p>\n</div>"
     },
     "execution_count": 155,
     "metadata": {},
     "output_type": "execute_result"
    }
   ],
   "source": [
    "questDF[\"State_Country\"]= np.where(copydf[\"happiness\"]>10, 10.0, round(copydf[\"happiness\"],1))\n",
    "questDF[questDF.columns[[0,-2,-1]]]"
   ],
   "metadata": {
    "collapsed": false,
    "pycharm": {
     "name": "#%%\n"
    }
   }
  },
  {
   "cell_type": "markdown",
   "source": [
    "### State"
   ],
   "metadata": {
    "collapsed": false,
    "pycharm": {
     "name": "#%% md\n"
    }
   }
  },
  {
   "cell_type": "code",
   "execution_count": 156,
   "outputs": [
    {
     "data": {
      "text/plain": "                     Name      Country             State\n0            Storm Madsen      Denmark       Hovedstaden\n1         Gordoslav Bosik      Ukraine  Ivano-Frankivska\n2          آرمیتا محمدخان         Iran       خراسان رضوی\n3          Daryl Chambers    Australia   New South Wales\n4      Bilogost Drizhenko      Ukraine            Odeska\n...                   ...          ...               ...\n16995       Eduardo Colin  Switzerland            Glarus\n16996   Olivia Kristensen      Denmark       Hovedstaden\n16997         Estela Rojo       Mexico  Estado de Mexico\n16998      Ivan Hillestad       Norway   Møre og Romsdal\n16999          مانی حسینی         Iran             بوشهر\n\n[17000 rows x 3 columns]",
      "text/html": "<div>\n<style scoped>\n    .dataframe tbody tr th:only-of-type {\n        vertical-align: middle;\n    }\n\n    .dataframe tbody tr th {\n        vertical-align: top;\n    }\n\n    .dataframe thead th {\n        text-align: right;\n    }\n</style>\n<table border=\"1\" class=\"dataframe\">\n  <thead>\n    <tr style=\"text-align: right;\">\n      <th></th>\n      <th>Name</th>\n      <th>Country</th>\n      <th>State</th>\n    </tr>\n  </thead>\n  <tbody>\n    <tr>\n      <th>0</th>\n      <td>Storm Madsen</td>\n      <td>Denmark</td>\n      <td>Hovedstaden</td>\n    </tr>\n    <tr>\n      <th>1</th>\n      <td>Gordoslav Bosik</td>\n      <td>Ukraine</td>\n      <td>Ivano-Frankivska</td>\n    </tr>\n    <tr>\n      <th>2</th>\n      <td>آرمیتا محمدخان</td>\n      <td>Iran</td>\n      <td>خراسان رضوی</td>\n    </tr>\n    <tr>\n      <th>3</th>\n      <td>Daryl Chambers</td>\n      <td>Australia</td>\n      <td>New South Wales</td>\n    </tr>\n    <tr>\n      <th>4</th>\n      <td>Bilogost Drizhenko</td>\n      <td>Ukraine</td>\n      <td>Odeska</td>\n    </tr>\n    <tr>\n      <th>...</th>\n      <td>...</td>\n      <td>...</td>\n      <td>...</td>\n    </tr>\n    <tr>\n      <th>16995</th>\n      <td>Eduardo Colin</td>\n      <td>Switzerland</td>\n      <td>Glarus</td>\n    </tr>\n    <tr>\n      <th>16996</th>\n      <td>Olivia Kristensen</td>\n      <td>Denmark</td>\n      <td>Hovedstaden</td>\n    </tr>\n    <tr>\n      <th>16997</th>\n      <td>Estela Rojo</td>\n      <td>Mexico</td>\n      <td>Estado de Mexico</td>\n    </tr>\n    <tr>\n      <th>16998</th>\n      <td>Ivan Hillestad</td>\n      <td>Norway</td>\n      <td>Møre og Romsdal</td>\n    </tr>\n    <tr>\n      <th>16999</th>\n      <td>مانی حسینی</td>\n      <td>Iran</td>\n      <td>بوشهر</td>\n    </tr>\n  </tbody>\n</table>\n<p>17000 rows × 3 columns</p>\n</div>"
     },
     "execution_count": 156,
     "metadata": {},
     "output_type": "execute_result"
    }
   ],
   "source": [
    "questDF[\"State\"]= copydf['location.state']\n",
    "questDF[questDF.columns[[0,-3,-1]]]\n"
   ],
   "metadata": {
    "collapsed": false,
    "pycharm": {
     "name": "#%%\n"
    }
   }
  },
  {
   "cell_type": "markdown",
   "source": [
    "### State Of State"
   ],
   "metadata": {
    "collapsed": false,
    "pycharm": {
     "name": "#%% md\n"
    }
   }
  },
  {
   "cell_type": "code",
   "execution_count": 157,
   "outputs": [
    {
     "data": {
      "text/plain": "                     Name      Country  State_Country             State  \\\n0            Storm Madsen      Denmark            6.9       Hovedstaden   \n1         Gordoslav Bosik      Ukraine            4.0  Ivano-Frankivska   \n2          آرمیتا محمدخان         Iran            6.0       خراسان رضوی   \n3          Daryl Chambers    Australia            5.4   New South Wales   \n4      Bilogost Drizhenko      Ukraine            3.9            Odeska   \n...                   ...          ...            ...               ...   \n16995       Eduardo Colin  Switzerland            7.4            Glarus   \n16996   Olivia Kristensen      Denmark            8.0       Hovedstaden   \n16997         Estela Rojo       Mexico            5.9  Estado de Mexico   \n16998      Ivan Hillestad       Norway            5.4   Møre og Romsdal   \n16999          مانی حسینی         Iran            3.6             بوشهر   \n\n       State_State  \n0              6.1  \n1              2.8  \n2              4.6  \n3              4.6  \n4              3.7  \n...            ...  \n16995          7.4  \n16996          8.0  \n16997          3.6  \n16998          4.6  \n16999          2.8  \n\n[17000 rows x 5 columns]",
      "text/html": "<div>\n<style scoped>\n    .dataframe tbody tr th:only-of-type {\n        vertical-align: middle;\n    }\n\n    .dataframe tbody tr th {\n        vertical-align: top;\n    }\n\n    .dataframe thead th {\n        text-align: right;\n    }\n</style>\n<table border=\"1\" class=\"dataframe\">\n  <thead>\n    <tr style=\"text-align: right;\">\n      <th></th>\n      <th>Name</th>\n      <th>Country</th>\n      <th>State_Country</th>\n      <th>State</th>\n      <th>State_State</th>\n    </tr>\n  </thead>\n  <tbody>\n    <tr>\n      <th>0</th>\n      <td>Storm Madsen</td>\n      <td>Denmark</td>\n      <td>6.9</td>\n      <td>Hovedstaden</td>\n      <td>6.1</td>\n    </tr>\n    <tr>\n      <th>1</th>\n      <td>Gordoslav Bosik</td>\n      <td>Ukraine</td>\n      <td>4.0</td>\n      <td>Ivano-Frankivska</td>\n      <td>2.8</td>\n    </tr>\n    <tr>\n      <th>2</th>\n      <td>آرمیتا محمدخان</td>\n      <td>Iran</td>\n      <td>6.0</td>\n      <td>خراسان رضوی</td>\n      <td>4.6</td>\n    </tr>\n    <tr>\n      <th>3</th>\n      <td>Daryl Chambers</td>\n      <td>Australia</td>\n      <td>5.4</td>\n      <td>New South Wales</td>\n      <td>4.6</td>\n    </tr>\n    <tr>\n      <th>4</th>\n      <td>Bilogost Drizhenko</td>\n      <td>Ukraine</td>\n      <td>3.9</td>\n      <td>Odeska</td>\n      <td>3.7</td>\n    </tr>\n    <tr>\n      <th>...</th>\n      <td>...</td>\n      <td>...</td>\n      <td>...</td>\n      <td>...</td>\n      <td>...</td>\n    </tr>\n    <tr>\n      <th>16995</th>\n      <td>Eduardo Colin</td>\n      <td>Switzerland</td>\n      <td>7.4</td>\n      <td>Glarus</td>\n      <td>7.4</td>\n    </tr>\n    <tr>\n      <th>16996</th>\n      <td>Olivia Kristensen</td>\n      <td>Denmark</td>\n      <td>8.0</td>\n      <td>Hovedstaden</td>\n      <td>8.0</td>\n    </tr>\n    <tr>\n      <th>16997</th>\n      <td>Estela Rojo</td>\n      <td>Mexico</td>\n      <td>5.9</td>\n      <td>Estado de Mexico</td>\n      <td>3.6</td>\n    </tr>\n    <tr>\n      <th>16998</th>\n      <td>Ivan Hillestad</td>\n      <td>Norway</td>\n      <td>5.4</td>\n      <td>Møre og Romsdal</td>\n      <td>4.6</td>\n    </tr>\n    <tr>\n      <th>16999</th>\n      <td>مانی حسینی</td>\n      <td>Iran</td>\n      <td>3.6</td>\n      <td>بوشهر</td>\n      <td>2.8</td>\n    </tr>\n  </tbody>\n</table>\n<p>17000 rows × 5 columns</p>\n</div>"
     },
     "execution_count": 157,
     "metadata": {},
     "output_type": "execute_result"
    }
   ],
   "source": [
    "questDF[\"State_State\"]= questDF['State_Country'].apply(lambda x: float(np.random.randint(max(x-np.random.randint(1,4) ,0)*10,x*10+1))/10)\n",
    "questDF[questDF.columns[[0,-4,-3,-2,-1]]]"
   ],
   "metadata": {
    "collapsed": false,
    "pycharm": {
     "name": "#%%\n"
    }
   }
  },
  {
   "cell_type": "markdown",
   "source": [
    "## Education\n",
    "### State Of School"
   ],
   "metadata": {
    "collapsed": false,
    "pycharm": {
     "name": "#%% md\n"
    }
   }
  },
  {
   "cell_type": "code",
   "execution_count": 158,
   "outputs": [
    {
     "data": {
      "text/plain": "                     Name             State  State_State  State_School\n0            Storm Madsen       Hovedstaden          6.1           6.3\n1         Gordoslav Bosik  Ivano-Frankivska          2.8           2.0\n2          آرمیتا محمدخان       خراسان رضوی          4.6           4.5\n3          Daryl Chambers   New South Wales          4.6           1.7\n4      Bilogost Drizhenko            Odeska          3.7           4.9\n...                   ...               ...          ...           ...\n16995       Eduardo Colin            Glarus          7.4           8.5\n16996   Olivia Kristensen       Hovedstaden          8.0           6.2\n16997         Estela Rojo  Estado de Mexico          3.6           5.0\n16998      Ivan Hillestad   Møre og Romsdal          4.6           6.5\n16999          مانی حسینی             بوشهر          2.8           2.8\n\n[17000 rows x 4 columns]",
      "text/html": "<div>\n<style scoped>\n    .dataframe tbody tr th:only-of-type {\n        vertical-align: middle;\n    }\n\n    .dataframe tbody tr th {\n        vertical-align: top;\n    }\n\n    .dataframe thead th {\n        text-align: right;\n    }\n</style>\n<table border=\"1\" class=\"dataframe\">\n  <thead>\n    <tr style=\"text-align: right;\">\n      <th></th>\n      <th>Name</th>\n      <th>State</th>\n      <th>State_State</th>\n      <th>State_School</th>\n    </tr>\n  </thead>\n  <tbody>\n    <tr>\n      <th>0</th>\n      <td>Storm Madsen</td>\n      <td>Hovedstaden</td>\n      <td>6.1</td>\n      <td>6.3</td>\n    </tr>\n    <tr>\n      <th>1</th>\n      <td>Gordoslav Bosik</td>\n      <td>Ivano-Frankivska</td>\n      <td>2.8</td>\n      <td>2.0</td>\n    </tr>\n    <tr>\n      <th>2</th>\n      <td>آرمیتا محمدخان</td>\n      <td>خراسان رضوی</td>\n      <td>4.6</td>\n      <td>4.5</td>\n    </tr>\n    <tr>\n      <th>3</th>\n      <td>Daryl Chambers</td>\n      <td>New South Wales</td>\n      <td>4.6</td>\n      <td>1.7</td>\n    </tr>\n    <tr>\n      <th>4</th>\n      <td>Bilogost Drizhenko</td>\n      <td>Odeska</td>\n      <td>3.7</td>\n      <td>4.9</td>\n    </tr>\n    <tr>\n      <th>...</th>\n      <td>...</td>\n      <td>...</td>\n      <td>...</td>\n      <td>...</td>\n    </tr>\n    <tr>\n      <th>16995</th>\n      <td>Eduardo Colin</td>\n      <td>Glarus</td>\n      <td>7.4</td>\n      <td>8.5</td>\n    </tr>\n    <tr>\n      <th>16996</th>\n      <td>Olivia Kristensen</td>\n      <td>Hovedstaden</td>\n      <td>8.0</td>\n      <td>6.2</td>\n    </tr>\n    <tr>\n      <th>16997</th>\n      <td>Estela Rojo</td>\n      <td>Estado de Mexico</td>\n      <td>3.6</td>\n      <td>5.0</td>\n    </tr>\n    <tr>\n      <th>16998</th>\n      <td>Ivan Hillestad</td>\n      <td>Møre og Romsdal</td>\n      <td>4.6</td>\n      <td>6.5</td>\n    </tr>\n    <tr>\n      <th>16999</th>\n      <td>مانی حسینی</td>\n      <td>بوشهر</td>\n      <td>2.8</td>\n      <td>2.8</td>\n    </tr>\n  </tbody>\n</table>\n<p>17000 rows × 4 columns</p>\n</div>"
     },
     "execution_count": 158,
     "metadata": {},
     "output_type": "execute_result"
    }
   ],
   "source": [
    "questDF= fillState(questDF,14,\"State_School\")\n",
    "questDF[\"State_School\"]= questDF['State_State'].apply(lambda x:\n",
    "                                                      float(np.random.randint(max(x-np.random.randint(1,4) ,0)*10,\n",
    "                                                                              min(10,x+np.random.randint(0,4))*10+1))/10)\n",
    "questDF[questDF.columns[[0,-3,-2,-1]]]"
   ],
   "metadata": {
    "collapsed": false,
    "pycharm": {
     "name": "#%%\n"
    }
   }
  },
  {
   "cell_type": "markdown",
   "source": [
    "### State Teachers"
   ],
   "metadata": {
    "collapsed": false,
    "pycharm": {
     "name": "#%% md\n"
    }
   }
  },
  {
   "cell_type": "code",
   "execution_count": 159,
   "outputs": [
    {
     "data": {
      "text/plain": "       State_School  State_Teachers\n0               6.3             4.5\n1               2.0             1.1\n2               4.5             2.5\n3               1.7             1.7\n4               4.9             4.7\n...             ...             ...\n16995           8.5             5.8\n16996           6.2             4.2\n16997           5.0             2.4\n16998           6.5             6.1\n16999           2.8             2.2\n\n[17000 rows x 2 columns]",
      "text/html": "<div>\n<style scoped>\n    .dataframe tbody tr th:only-of-type {\n        vertical-align: middle;\n    }\n\n    .dataframe tbody tr th {\n        vertical-align: top;\n    }\n\n    .dataframe thead th {\n        text-align: right;\n    }\n</style>\n<table border=\"1\" class=\"dataframe\">\n  <thead>\n    <tr style=\"text-align: right;\">\n      <th></th>\n      <th>State_School</th>\n      <th>State_Teachers</th>\n    </tr>\n  </thead>\n  <tbody>\n    <tr>\n      <th>0</th>\n      <td>6.3</td>\n      <td>4.5</td>\n    </tr>\n    <tr>\n      <th>1</th>\n      <td>2.0</td>\n      <td>1.1</td>\n    </tr>\n    <tr>\n      <th>2</th>\n      <td>4.5</td>\n      <td>2.5</td>\n    </tr>\n    <tr>\n      <th>3</th>\n      <td>1.7</td>\n      <td>1.7</td>\n    </tr>\n    <tr>\n      <th>4</th>\n      <td>4.9</td>\n      <td>4.7</td>\n    </tr>\n    <tr>\n      <th>...</th>\n      <td>...</td>\n      <td>...</td>\n    </tr>\n    <tr>\n      <th>16995</th>\n      <td>8.5</td>\n      <td>5.8</td>\n    </tr>\n    <tr>\n      <th>16996</th>\n      <td>6.2</td>\n      <td>4.2</td>\n    </tr>\n    <tr>\n      <th>16997</th>\n      <td>5.0</td>\n      <td>2.4</td>\n    </tr>\n    <tr>\n      <th>16998</th>\n      <td>6.5</td>\n      <td>6.1</td>\n    </tr>\n    <tr>\n      <th>16999</th>\n      <td>2.8</td>\n      <td>2.2</td>\n    </tr>\n  </tbody>\n</table>\n<p>17000 rows × 2 columns</p>\n</div>"
     },
     "execution_count": 159,
     "metadata": {},
     "output_type": "execute_result"
    }
   ],
   "source": [
    "questDF[\"State_Teachers\"]= questDF['State_School'].apply(lambda x: float(np.random.randint(max(x-np.random.randint(1,4),0) *10,x*10+1))/10)\n",
    "\n",
    "questDF[questDF.columns[[-2,-1]]]"
   ],
   "metadata": {
    "collapsed": false,
    "pycharm": {
     "name": "#%%\n"
    }
   }
  },
  {
   "cell_type": "markdown",
   "source": [
    "### State Classmates"
   ],
   "metadata": {
    "collapsed": false,
    "pycharm": {
     "name": "#%% md\n"
    }
   }
  },
  {
   "cell_type": "code",
   "execution_count": 160,
   "outputs": [
    {
     "data": {
      "text/plain": "       State_Classmates\n0                     6\n1                    10\n2                     5\n3                     9\n4                     9\n...                 ...\n16995                 8\n16996                 5\n16997                 8\n16998                 3\n16999                10\n\n[17000 rows x 1 columns]",
      "text/html": "<div>\n<style scoped>\n    .dataframe tbody tr th:only-of-type {\n        vertical-align: middle;\n    }\n\n    .dataframe tbody tr th {\n        vertical-align: top;\n    }\n\n    .dataframe thead th {\n        text-align: right;\n    }\n</style>\n<table border=\"1\" class=\"dataframe\">\n  <thead>\n    <tr style=\"text-align: right;\">\n      <th></th>\n      <th>State_Classmates</th>\n    </tr>\n  </thead>\n  <tbody>\n    <tr>\n      <th>0</th>\n      <td>6</td>\n    </tr>\n    <tr>\n      <th>1</th>\n      <td>10</td>\n    </tr>\n    <tr>\n      <th>2</th>\n      <td>5</td>\n    </tr>\n    <tr>\n      <th>3</th>\n      <td>9</td>\n    </tr>\n    <tr>\n      <th>4</th>\n      <td>9</td>\n    </tr>\n    <tr>\n      <th>...</th>\n      <td>...</td>\n    </tr>\n    <tr>\n      <th>16995</th>\n      <td>8</td>\n    </tr>\n    <tr>\n      <th>16996</th>\n      <td>5</td>\n    </tr>\n    <tr>\n      <th>16997</th>\n      <td>8</td>\n    </tr>\n    <tr>\n      <th>16998</th>\n      <td>3</td>\n    </tr>\n    <tr>\n      <th>16999</th>\n      <td>10</td>\n    </tr>\n  </tbody>\n</table>\n<p>17000 rows × 1 columns</p>\n</div>"
     },
     "execution_count": 160,
     "metadata": {},
     "output_type": "execute_result"
    }
   ],
   "source": [
    "questDF= fillState(questDF,16,\"State_Classmates\")\n",
    "questDF[questDF.columns[[-1]]]\n"
   ],
   "metadata": {
    "collapsed": false,
    "pycharm": {
     "name": "#%%\n"
    }
   }
  },
  {
   "cell_type": "markdown",
   "source": [
    "### Academic Level"
   ],
   "metadata": {
    "collapsed": false,
    "pycharm": {
     "name": "#%% md\n"
    }
   }
  },
  {
   "cell_type": "code",
   "execution_count": 161,
   "outputs": [
    {
     "data": {
      "text/plain": "0        B+\n1        D−\n2        C−\n3        A−\n4         C\n         ..\n16995     C\n16996     C\n16997    B−\n16998    A−\n16999    C+\nName: Academic_Level, Length: 17000, dtype: object"
     },
     "execution_count": 161,
     "metadata": {},
     "output_type": "execute_result"
    }
   ],
   "source": [
    "Levels=['A+', 'A', 'A−','A', 'A−', 'B+', 'B','B+', 'B','B+', 'B','B+', 'B', 'B−', 'C+', 'C', 'C−','B−', 'C+', 'C', 'C−','B−', 'C+', 'C', 'C−', 'D+', 'D','D+', 'D', 'D−', 'F']\n",
    "questDF[\"Academic_Level\"]= np.random.choice(Levels, questDF.shape[0])\n",
    "questDF[\"Academic_Level\"]\n"
   ],
   "metadata": {
    "collapsed": false,
    "pycharm": {
     "name": "#%%\n"
    }
   }
  },
  {
   "cell_type": "markdown",
   "source": [
    "### Grade"
   ],
   "metadata": {
    "collapsed": false,
    "pycharm": {
     "name": "#%% md\n"
    }
   }
  },
  {
   "cell_type": "code",
   "execution_count": 162,
   "outputs": [
    {
     "data": {
      "text/plain": "                     Name Academic_Level Grade\n0            Storm Madsen             B+    12\n1         Gordoslav Bosik             D−    L2\n2          آرمیتا محمدخان             C−    M1\n3          Daryl Chambers             A−     1\n4      Bilogost Drizhenko              C    L1\n...                   ...            ...   ...\n16995       Eduardo Colin              C     4\n16996   Olivia Kristensen              C     6\n16997         Estela Rojo             B−    11\n16998      Ivan Hillestad             A−    M1\n16999          مانی حسینی             C+     8\n\n[17000 rows x 3 columns]",
      "text/html": "<div>\n<style scoped>\n    .dataframe tbody tr th:only-of-type {\n        vertical-align: middle;\n    }\n\n    .dataframe tbody tr th {\n        vertical-align: top;\n    }\n\n    .dataframe thead th {\n        text-align: right;\n    }\n</style>\n<table border=\"1\" class=\"dataframe\">\n  <thead>\n    <tr style=\"text-align: right;\">\n      <th></th>\n      <th>Name</th>\n      <th>Academic_Level</th>\n      <th>Grade</th>\n    </tr>\n  </thead>\n  <tbody>\n    <tr>\n      <th>0</th>\n      <td>Storm Madsen</td>\n      <td>B+</td>\n      <td>12</td>\n    </tr>\n    <tr>\n      <th>1</th>\n      <td>Gordoslav Bosik</td>\n      <td>D−</td>\n      <td>L2</td>\n    </tr>\n    <tr>\n      <th>2</th>\n      <td>آرمیتا محمدخان</td>\n      <td>C−</td>\n      <td>M1</td>\n    </tr>\n    <tr>\n      <th>3</th>\n      <td>Daryl Chambers</td>\n      <td>A−</td>\n      <td>1</td>\n    </tr>\n    <tr>\n      <th>4</th>\n      <td>Bilogost Drizhenko</td>\n      <td>C</td>\n      <td>L1</td>\n    </tr>\n    <tr>\n      <th>...</th>\n      <td>...</td>\n      <td>...</td>\n      <td>...</td>\n    </tr>\n    <tr>\n      <th>16995</th>\n      <td>Eduardo Colin</td>\n      <td>C</td>\n      <td>4</td>\n    </tr>\n    <tr>\n      <th>16996</th>\n      <td>Olivia Kristensen</td>\n      <td>C</td>\n      <td>6</td>\n    </tr>\n    <tr>\n      <th>16997</th>\n      <td>Estela Rojo</td>\n      <td>B−</td>\n      <td>11</td>\n    </tr>\n    <tr>\n      <th>16998</th>\n      <td>Ivan Hillestad</td>\n      <td>A−</td>\n      <td>M1</td>\n    </tr>\n    <tr>\n      <th>16999</th>\n      <td>مانی حسینی</td>\n      <td>C+</td>\n      <td>8</td>\n    </tr>\n  </tbody>\n</table>\n<p>17000 rows × 3 columns</p>\n</div>"
     },
     "execution_count": 162,
     "metadata": {},
     "output_type": "execute_result"
    }
   ],
   "source": [
    "grades= list(range(1,15))+[\"L1\",\"L2\",\"L3\",\"M1\",\"M2\"]\n",
    "questDF[\"Grade\"]= np.random.choice(grades, questDF.shape[0])\n",
    "\n",
    "questDF[questDF.columns[[0,-2,-1]]]"
   ],
   "metadata": {
    "collapsed": false,
    "pycharm": {
     "name": "#%%\n"
    }
   }
  },
  {
   "cell_type": "markdown",
   "source": [
    "### Academic Passion"
   ],
   "metadata": {
    "collapsed": false,
    "pycharm": {
     "name": "#%% md\n"
    }
   }
  },
  {
   "cell_type": "code",
   "execution_count": 163,
   "outputs": [
    {
     "data": {
      "text/plain": "                     Name Academic_Level Grade  Academic_Passion\n0            Storm Madsen             B+    12                 2\n1         Gordoslav Bosik             D−    L2                 4\n2          آرمیتا محمدخان             C−    M1                 8\n3          Daryl Chambers             A−     1                 1\n4      Bilogost Drizhenko              C    L1                 3\n...                   ...            ...   ...               ...\n16995       Eduardo Colin              C     4                 7\n16996   Olivia Kristensen              C     6                 5\n16997         Estela Rojo             B−    11                 9\n16998      Ivan Hillestad             A−    M1                 2\n16999          مانی حسینی             C+     8                10\n\n[17000 rows x 4 columns]",
      "text/html": "<div>\n<style scoped>\n    .dataframe tbody tr th:only-of-type {\n        vertical-align: middle;\n    }\n\n    .dataframe tbody tr th {\n        vertical-align: top;\n    }\n\n    .dataframe thead th {\n        text-align: right;\n    }\n</style>\n<table border=\"1\" class=\"dataframe\">\n  <thead>\n    <tr style=\"text-align: right;\">\n      <th></th>\n      <th>Name</th>\n      <th>Academic_Level</th>\n      <th>Grade</th>\n      <th>Academic_Passion</th>\n    </tr>\n  </thead>\n  <tbody>\n    <tr>\n      <th>0</th>\n      <td>Storm Madsen</td>\n      <td>B+</td>\n      <td>12</td>\n      <td>2</td>\n    </tr>\n    <tr>\n      <th>1</th>\n      <td>Gordoslav Bosik</td>\n      <td>D−</td>\n      <td>L2</td>\n      <td>4</td>\n    </tr>\n    <tr>\n      <th>2</th>\n      <td>آرمیتا محمدخان</td>\n      <td>C−</td>\n      <td>M1</td>\n      <td>8</td>\n    </tr>\n    <tr>\n      <th>3</th>\n      <td>Daryl Chambers</td>\n      <td>A−</td>\n      <td>1</td>\n      <td>1</td>\n    </tr>\n    <tr>\n      <th>4</th>\n      <td>Bilogost Drizhenko</td>\n      <td>C</td>\n      <td>L1</td>\n      <td>3</td>\n    </tr>\n    <tr>\n      <th>...</th>\n      <td>...</td>\n      <td>...</td>\n      <td>...</td>\n      <td>...</td>\n    </tr>\n    <tr>\n      <th>16995</th>\n      <td>Eduardo Colin</td>\n      <td>C</td>\n      <td>4</td>\n      <td>7</td>\n    </tr>\n    <tr>\n      <th>16996</th>\n      <td>Olivia Kristensen</td>\n      <td>C</td>\n      <td>6</td>\n      <td>5</td>\n    </tr>\n    <tr>\n      <th>16997</th>\n      <td>Estela Rojo</td>\n      <td>B−</td>\n      <td>11</td>\n      <td>9</td>\n    </tr>\n    <tr>\n      <th>16998</th>\n      <td>Ivan Hillestad</td>\n      <td>A−</td>\n      <td>M1</td>\n      <td>2</td>\n    </tr>\n    <tr>\n      <th>16999</th>\n      <td>مانی حسینی</td>\n      <td>C+</td>\n      <td>8</td>\n      <td>10</td>\n    </tr>\n  </tbody>\n</table>\n<p>17000 rows × 4 columns</p>\n</div>"
     },
     "execution_count": 163,
     "metadata": {},
     "output_type": "execute_result"
    }
   ],
   "source": [
    "questDF= fillState(questDF,23,\"Academic_Passion\")\n",
    "questDF[questDF.columns[[0,-3,-2,-1]] ]\n"
   ],
   "metadata": {
    "collapsed": false,
    "pycharm": {
     "name": "#%%\n"
    }
   }
  },
  {
   "cell_type": "markdown",
   "source": [
    "### Failed School Years"
   ],
   "metadata": {
    "collapsed": false,
    "pycharm": {
     "name": "#%% md\n"
    }
   }
  },
  {
   "cell_type": "code",
   "execution_count": 164,
   "outputs": [
    {
     "data": {
      "text/plain": "       Age Academic_Level Grade  Academic_Passion  Years_Failed\n0       36             B+    12                 2             0\n1       59             D−    L2                 4             2\n2       36             C−    M1                 8             0\n3       50             A−     1                 1             1\n4       71              C    L1                 3             0\n...    ...            ...   ...               ...           ...\n16995   73              C     4                 7             1\n16996   27              C     6                 5             2\n16997   67             B−    11                 9             0\n16998   67             A−    M1                 2             3\n16999   67             C+     8                10             1\n\n[17000 rows x 5 columns]",
      "text/html": "<div>\n<style scoped>\n    .dataframe tbody tr th:only-of-type {\n        vertical-align: middle;\n    }\n\n    .dataframe tbody tr th {\n        vertical-align: top;\n    }\n\n    .dataframe thead th {\n        text-align: right;\n    }\n</style>\n<table border=\"1\" class=\"dataframe\">\n  <thead>\n    <tr style=\"text-align: right;\">\n      <th></th>\n      <th>Age</th>\n      <th>Academic_Level</th>\n      <th>Grade</th>\n      <th>Academic_Passion</th>\n      <th>Years_Failed</th>\n    </tr>\n  </thead>\n  <tbody>\n    <tr>\n      <th>0</th>\n      <td>36</td>\n      <td>B+</td>\n      <td>12</td>\n      <td>2</td>\n      <td>0</td>\n    </tr>\n    <tr>\n      <th>1</th>\n      <td>59</td>\n      <td>D−</td>\n      <td>L2</td>\n      <td>4</td>\n      <td>2</td>\n    </tr>\n    <tr>\n      <th>2</th>\n      <td>36</td>\n      <td>C−</td>\n      <td>M1</td>\n      <td>8</td>\n      <td>0</td>\n    </tr>\n    <tr>\n      <th>3</th>\n      <td>50</td>\n      <td>A−</td>\n      <td>1</td>\n      <td>1</td>\n      <td>1</td>\n    </tr>\n    <tr>\n      <th>4</th>\n      <td>71</td>\n      <td>C</td>\n      <td>L1</td>\n      <td>3</td>\n      <td>0</td>\n    </tr>\n    <tr>\n      <th>...</th>\n      <td>...</td>\n      <td>...</td>\n      <td>...</td>\n      <td>...</td>\n      <td>...</td>\n    </tr>\n    <tr>\n      <th>16995</th>\n      <td>73</td>\n      <td>C</td>\n      <td>4</td>\n      <td>7</td>\n      <td>1</td>\n    </tr>\n    <tr>\n      <th>16996</th>\n      <td>27</td>\n      <td>C</td>\n      <td>6</td>\n      <td>5</td>\n      <td>2</td>\n    </tr>\n    <tr>\n      <th>16997</th>\n      <td>67</td>\n      <td>B−</td>\n      <td>11</td>\n      <td>9</td>\n      <td>0</td>\n    </tr>\n    <tr>\n      <th>16998</th>\n      <td>67</td>\n      <td>A−</td>\n      <td>M1</td>\n      <td>2</td>\n      <td>3</td>\n    </tr>\n    <tr>\n      <th>16999</th>\n      <td>67</td>\n      <td>C+</td>\n      <td>8</td>\n      <td>10</td>\n      <td>1</td>\n    </tr>\n  </tbody>\n</table>\n<p>17000 rows × 5 columns</p>\n</div>"
     },
     "execution_count": 164,
     "metadata": {},
     "output_type": "execute_result"
    }
   ],
   "source": [
    "fYears= [0]*4+[1]*3+[2]*2+[3]\n",
    "questDF[\"Years_Failed\"]= np.random.choice(fYears, questDF.shape[0])\n",
    "questDF[questDF.columns[[2,-4,-3,-2,-1]] ]\n"
   ],
   "metadata": {
    "collapsed": false,
    "pycharm": {
     "name": "#%%\n"
    }
   }
  },
  {
   "cell_type": "markdown",
   "source": [
    "## Commute\n",
    "### Commute Distance"
   ],
   "metadata": {
    "collapsed": false,
    "pycharm": {
     "name": "#%% md\n"
    }
   }
  },
  {
   "cell_type": "code",
   "execution_count": 165,
   "outputs": [
    {
     "data": {
      "text/plain": "                     Name  Gender  Age Ethnicity      Family_Status  \\\n0            Storm Madsen    male   36     White        step family   \n1         Gordoslav Bosik    male   59     White         Abandonned   \n2          آرمیتا محمدخان  female   36      Arab         Abandonned   \n3          Daryl Chambers    male   50      Arab    extended family   \n4      Bilogost Drizhenko    male   71      Arab        step family   \n...                   ...     ...  ...       ...                ...   \n16995       Eduardo Colin    male   73  Hispanic    extended family   \n16996   Olivia Kristensen  female   27      Arab    extended family   \n16997         Estela Rojo  female   67  Hispanic  biological family   \n16998      Ivan Hillestad    male   67      Arab    extended family   \n16999          مانی حسینی    male   67     Black         Abandonned   \n\n       Number_Caretakers State_Caretakers  Number_Siblings  \\\n0                      3                1                0   \n1                      2                4                0   \n2                      0                0                3   \n3                      5               10                2   \n4                      2                2                5   \n...                  ...              ...              ...   \n16995                  2                4                1   \n16996                  2                4                1   \n16997                  2                6                2   \n16998                  2               10                1   \n16999                  0                0                2   \n\n       Order_Among_Siblings  State_Residence  ...             State  \\\n0                         0                8  ...       Hovedstaden   \n1                         0                8  ...  Ivano-Frankivska   \n2                         2                3  ...       خراسان رضوی   \n3                         0                7  ...   New South Wales   \n4                         3                6  ...            Odeska   \n...                     ...              ...  ...               ...   \n16995                     0                1  ...            Glarus   \n16996                     0                6  ...       Hovedstaden   \n16997                     2                8  ...  Estado de Mexico   \n16998                     1                9  ...   Møre og Romsdal   \n16999                     1                6  ...             بوشهر   \n\n       State_State State_School  State_Teachers  State_Classmates  \\\n0              6.1          6.3             4.5                 6   \n1              2.8          2.0             1.1                10   \n2              4.6          4.5             2.5                 5   \n3              4.6          1.7             1.7                 9   \n4              3.7          4.9             4.7                 9   \n...            ...          ...             ...               ...   \n16995          7.4          8.5             5.8                 8   \n16996          8.0          6.2             4.2                 5   \n16997          3.6          5.0             2.4                 8   \n16998          4.6          6.5             6.1                 3   \n16999          2.8          2.8             2.2                10   \n\n       Academic_Level  Grade Academic_Passion Years_Failed  Commute_Distance  \n0                  B+     12                2            0               2.4  \n1                  D−     L2                4            2              13.1  \n2                  C−     M1                8            0               4.5  \n3                  A−      1                1            1               4.3  \n4                   C     L1                3            0               2.1  \n...               ...    ...              ...          ...               ...  \n16995               C      4                7            1               2.3  \n16996               C      6                5            2              10.4  \n16997              B−     11                9            0               5.8  \n16998              A−     M1                2            3              22.5  \n16999              C+      8               10            1               6.4  \n\n[17000 rows x 22 columns]",
      "text/html": "<div>\n<style scoped>\n    .dataframe tbody tr th:only-of-type {\n        vertical-align: middle;\n    }\n\n    .dataframe tbody tr th {\n        vertical-align: top;\n    }\n\n    .dataframe thead th {\n        text-align: right;\n    }\n</style>\n<table border=\"1\" class=\"dataframe\">\n  <thead>\n    <tr style=\"text-align: right;\">\n      <th></th>\n      <th>Name</th>\n      <th>Gender</th>\n      <th>Age</th>\n      <th>Ethnicity</th>\n      <th>Family_Status</th>\n      <th>Number_Caretakers</th>\n      <th>State_Caretakers</th>\n      <th>Number_Siblings</th>\n      <th>Order_Among_Siblings</th>\n      <th>State_Residence</th>\n      <th>...</th>\n      <th>State</th>\n      <th>State_State</th>\n      <th>State_School</th>\n      <th>State_Teachers</th>\n      <th>State_Classmates</th>\n      <th>Academic_Level</th>\n      <th>Grade</th>\n      <th>Academic_Passion</th>\n      <th>Years_Failed</th>\n      <th>Commute_Distance</th>\n    </tr>\n  </thead>\n  <tbody>\n    <tr>\n      <th>0</th>\n      <td>Storm Madsen</td>\n      <td>male</td>\n      <td>36</td>\n      <td>White</td>\n      <td>step family</td>\n      <td>3</td>\n      <td>1</td>\n      <td>0</td>\n      <td>0</td>\n      <td>8</td>\n      <td>...</td>\n      <td>Hovedstaden</td>\n      <td>6.1</td>\n      <td>6.3</td>\n      <td>4.5</td>\n      <td>6</td>\n      <td>B+</td>\n      <td>12</td>\n      <td>2</td>\n      <td>0</td>\n      <td>2.4</td>\n    </tr>\n    <tr>\n      <th>1</th>\n      <td>Gordoslav Bosik</td>\n      <td>male</td>\n      <td>59</td>\n      <td>White</td>\n      <td>Abandonned</td>\n      <td>2</td>\n      <td>4</td>\n      <td>0</td>\n      <td>0</td>\n      <td>8</td>\n      <td>...</td>\n      <td>Ivano-Frankivska</td>\n      <td>2.8</td>\n      <td>2.0</td>\n      <td>1.1</td>\n      <td>10</td>\n      <td>D−</td>\n      <td>L2</td>\n      <td>4</td>\n      <td>2</td>\n      <td>13.1</td>\n    </tr>\n    <tr>\n      <th>2</th>\n      <td>آرمیتا محمدخان</td>\n      <td>female</td>\n      <td>36</td>\n      <td>Arab</td>\n      <td>Abandonned</td>\n      <td>0</td>\n      <td>0</td>\n      <td>3</td>\n      <td>2</td>\n      <td>3</td>\n      <td>...</td>\n      <td>خراسان رضوی</td>\n      <td>4.6</td>\n      <td>4.5</td>\n      <td>2.5</td>\n      <td>5</td>\n      <td>C−</td>\n      <td>M1</td>\n      <td>8</td>\n      <td>0</td>\n      <td>4.5</td>\n    </tr>\n    <tr>\n      <th>3</th>\n      <td>Daryl Chambers</td>\n      <td>male</td>\n      <td>50</td>\n      <td>Arab</td>\n      <td>extended family</td>\n      <td>5</td>\n      <td>10</td>\n      <td>2</td>\n      <td>0</td>\n      <td>7</td>\n      <td>...</td>\n      <td>New South Wales</td>\n      <td>4.6</td>\n      <td>1.7</td>\n      <td>1.7</td>\n      <td>9</td>\n      <td>A−</td>\n      <td>1</td>\n      <td>1</td>\n      <td>1</td>\n      <td>4.3</td>\n    </tr>\n    <tr>\n      <th>4</th>\n      <td>Bilogost Drizhenko</td>\n      <td>male</td>\n      <td>71</td>\n      <td>Arab</td>\n      <td>step family</td>\n      <td>2</td>\n      <td>2</td>\n      <td>5</td>\n      <td>3</td>\n      <td>6</td>\n      <td>...</td>\n      <td>Odeska</td>\n      <td>3.7</td>\n      <td>4.9</td>\n      <td>4.7</td>\n      <td>9</td>\n      <td>C</td>\n      <td>L1</td>\n      <td>3</td>\n      <td>0</td>\n      <td>2.1</td>\n    </tr>\n    <tr>\n      <th>...</th>\n      <td>...</td>\n      <td>...</td>\n      <td>...</td>\n      <td>...</td>\n      <td>...</td>\n      <td>...</td>\n      <td>...</td>\n      <td>...</td>\n      <td>...</td>\n      <td>...</td>\n      <td>...</td>\n      <td>...</td>\n      <td>...</td>\n      <td>...</td>\n      <td>...</td>\n      <td>...</td>\n      <td>...</td>\n      <td>...</td>\n      <td>...</td>\n      <td>...</td>\n      <td>...</td>\n    </tr>\n    <tr>\n      <th>16995</th>\n      <td>Eduardo Colin</td>\n      <td>male</td>\n      <td>73</td>\n      <td>Hispanic</td>\n      <td>extended family</td>\n      <td>2</td>\n      <td>4</td>\n      <td>1</td>\n      <td>0</td>\n      <td>1</td>\n      <td>...</td>\n      <td>Glarus</td>\n      <td>7.4</td>\n      <td>8.5</td>\n      <td>5.8</td>\n      <td>8</td>\n      <td>C</td>\n      <td>4</td>\n      <td>7</td>\n      <td>1</td>\n      <td>2.3</td>\n    </tr>\n    <tr>\n      <th>16996</th>\n      <td>Olivia Kristensen</td>\n      <td>female</td>\n      <td>27</td>\n      <td>Arab</td>\n      <td>extended family</td>\n      <td>2</td>\n      <td>4</td>\n      <td>1</td>\n      <td>0</td>\n      <td>6</td>\n      <td>...</td>\n      <td>Hovedstaden</td>\n      <td>8.0</td>\n      <td>6.2</td>\n      <td>4.2</td>\n      <td>5</td>\n      <td>C</td>\n      <td>6</td>\n      <td>5</td>\n      <td>2</td>\n      <td>10.4</td>\n    </tr>\n    <tr>\n      <th>16997</th>\n      <td>Estela Rojo</td>\n      <td>female</td>\n      <td>67</td>\n      <td>Hispanic</td>\n      <td>biological family</td>\n      <td>2</td>\n      <td>6</td>\n      <td>2</td>\n      <td>2</td>\n      <td>8</td>\n      <td>...</td>\n      <td>Estado de Mexico</td>\n      <td>3.6</td>\n      <td>5.0</td>\n      <td>2.4</td>\n      <td>8</td>\n      <td>B−</td>\n      <td>11</td>\n      <td>9</td>\n      <td>0</td>\n      <td>5.8</td>\n    </tr>\n    <tr>\n      <th>16998</th>\n      <td>Ivan Hillestad</td>\n      <td>male</td>\n      <td>67</td>\n      <td>Arab</td>\n      <td>extended family</td>\n      <td>2</td>\n      <td>10</td>\n      <td>1</td>\n      <td>1</td>\n      <td>9</td>\n      <td>...</td>\n      <td>Møre og Romsdal</td>\n      <td>4.6</td>\n      <td>6.5</td>\n      <td>6.1</td>\n      <td>3</td>\n      <td>A−</td>\n      <td>M1</td>\n      <td>2</td>\n      <td>3</td>\n      <td>22.5</td>\n    </tr>\n    <tr>\n      <th>16999</th>\n      <td>مانی حسینی</td>\n      <td>male</td>\n      <td>67</td>\n      <td>Black</td>\n      <td>Abandonned</td>\n      <td>0</td>\n      <td>0</td>\n      <td>2</td>\n      <td>1</td>\n      <td>6</td>\n      <td>...</td>\n      <td>بوشهر</td>\n      <td>2.8</td>\n      <td>2.8</td>\n      <td>2.2</td>\n      <td>10</td>\n      <td>C+</td>\n      <td>8</td>\n      <td>10</td>\n      <td>1</td>\n      <td>6.4</td>\n    </tr>\n  </tbody>\n</table>\n<p>17000 rows × 22 columns</p>\n</div>"
     },
     "execution_count": 165,
     "metadata": {},
     "output_type": "execute_result"
    }
   ],
   "source": [
    "distance=pd.Series( list(np.arange(0.5,6.5,0.1))+list(np.arange(6.5,15,0.3))+list(np.arange(15,25,.5))).apply(lambda a:round(a,2))\n",
    "questDF[\"Commute_Distance\"]= np.random.choice(distance, questDF.shape[0])\n",
    "questDF"
   ],
   "metadata": {
    "collapsed": false,
    "pycharm": {
     "name": "#%%\n"
    }
   }
  },
  {
   "cell_type": "markdown",
   "source": [
    "### Commute Method"
   ],
   "metadata": {
    "collapsed": false,
    "pycharm": {
     "name": "#%% md\n"
    }
   }
  },
  {
   "cell_type": "code",
   "execution_count": 166,
   "outputs": [
    {
     "data": {
      "text/plain": "                     Name Commute_Method\n0            Storm Madsen           taxi\n1         Gordoslav Bosik          metro\n2          آرمیتا محمدخان      motorbike\n3          Daryl Chambers        bicycle\n4      Bilogost Drizhenko          metro\n...                   ...            ...\n16995       Eduardo Colin            car\n16996   Olivia Kristensen        walking\n16997         Estela Rojo        walking\n16998      Ivan Hillestad        bicycle\n16999          مانی حسینی          metro\n\n[17000 rows x 2 columns]",
      "text/html": "<div>\n<style scoped>\n    .dataframe tbody tr th:only-of-type {\n        vertical-align: middle;\n    }\n\n    .dataframe tbody tr th {\n        vertical-align: top;\n    }\n\n    .dataframe thead th {\n        text-align: right;\n    }\n</style>\n<table border=\"1\" class=\"dataframe\">\n  <thead>\n    <tr style=\"text-align: right;\">\n      <th></th>\n      <th>Name</th>\n      <th>Commute_Method</th>\n    </tr>\n  </thead>\n  <tbody>\n    <tr>\n      <th>0</th>\n      <td>Storm Madsen</td>\n      <td>taxi</td>\n    </tr>\n    <tr>\n      <th>1</th>\n      <td>Gordoslav Bosik</td>\n      <td>metro</td>\n    </tr>\n    <tr>\n      <th>2</th>\n      <td>آرمیتا محمدخان</td>\n      <td>motorbike</td>\n    </tr>\n    <tr>\n      <th>3</th>\n      <td>Daryl Chambers</td>\n      <td>bicycle</td>\n    </tr>\n    <tr>\n      <th>4</th>\n      <td>Bilogost Drizhenko</td>\n      <td>metro</td>\n    </tr>\n    <tr>\n      <th>...</th>\n      <td>...</td>\n      <td>...</td>\n    </tr>\n    <tr>\n      <th>16995</th>\n      <td>Eduardo Colin</td>\n      <td>car</td>\n    </tr>\n    <tr>\n      <th>16996</th>\n      <td>Olivia Kristensen</td>\n      <td>walking</td>\n    </tr>\n    <tr>\n      <th>16997</th>\n      <td>Estela Rojo</td>\n      <td>walking</td>\n    </tr>\n    <tr>\n      <th>16998</th>\n      <td>Ivan Hillestad</td>\n      <td>bicycle</td>\n    </tr>\n    <tr>\n      <th>16999</th>\n      <td>مانی حسینی</td>\n      <td>metro</td>\n    </tr>\n  </tbody>\n</table>\n<p>17000 rows × 2 columns</p>\n</div>"
     },
     "execution_count": 166,
     "metadata": {},
     "output_type": "execute_result"
    }
   ],
   "source": [
    "CommuteMethod=[{ \"name\": \"car\",\"speed\":10}, { \"name\": \"car\",\"speed\":10}, { \"name\": \"motorbike\",\"speed\":10},\n",
    "               { \"name\": \"motorbike\",\"speed\":10}, { \"name\": \"bus\",\"speed\":6}, { \"name\": \"bus\",\"speed\":6},\n",
    "               { \"name\": \"bus\",\"speed\":6}, { \"name\": \"metro\",\"speed\":4}, { \"name\": \"metro\",\"speed\":4}, { \"name\": \"metro\",\"speed\":4},\n",
    "               { \"name\": \"train\",\"speed\":7}, {  \"name\":\"taxi\",\"speed\":9},\n",
    "               { \"name\": \"walking\",\"speed\":1}, { \"name\": \"walking\",\"speed\":1}, { \"name\": \"walking\",\"speed\":1},\n",
    "               { \"name\": \"bicycle\",\"speed\":6}, { \"name\": \"bicycle\",\"speed\":6}]\n",
    "questDF[\"Commute_Method\"]= pd.Series(np.random.choice(CommuteMethod,questDF.shape[0])).apply(lambda x:dict(x).get(\"name\"))\n",
    "questDF[questDF.columns[[0,-1]] ]"
   ],
   "metadata": {
    "collapsed": false,
    "pycharm": {
     "name": "#%%\n"
    }
   }
  },
  {
   "cell_type": "markdown",
   "source": [
    "### Commute Duration"
   ],
   "metadata": {
    "collapsed": false,
    "pycharm": {
     "name": "#%% md\n"
    }
   }
  },
  {
   "cell_type": "code",
   "execution_count": 167,
   "outputs": [
    {
     "data": {
      "text/plain": "                     Name  Commute_Distance Commute_Method  Commute_Duration\n0            Storm Madsen               2.4           taxi                16\n1         Gordoslav Bosik              13.1          metro               196\n2          آرمیتا محمدخان               4.5      motorbike                27\n3          Daryl Chambers               4.3        bicycle                43\n4      Bilogost Drizhenko               2.1          metro                31\n...                   ...               ...            ...               ...\n16995       Eduardo Colin               2.3            car                13\n16996   Olivia Kristensen              10.4        walking               624\n16997         Estela Rojo               5.8        walking               348\n16998      Ivan Hillestad              22.5        bicycle               225\n16999          مانی حسینی               6.4          metro                96\n\n[17000 rows x 4 columns]",
      "text/html": "<div>\n<style scoped>\n    .dataframe tbody tr th:only-of-type {\n        vertical-align: middle;\n    }\n\n    .dataframe tbody tr th {\n        vertical-align: top;\n    }\n\n    .dataframe thead th {\n        text-align: right;\n    }\n</style>\n<table border=\"1\" class=\"dataframe\">\n  <thead>\n    <tr style=\"text-align: right;\">\n      <th></th>\n      <th>Name</th>\n      <th>Commute_Distance</th>\n      <th>Commute_Method</th>\n      <th>Commute_Duration</th>\n    </tr>\n  </thead>\n  <tbody>\n    <tr>\n      <th>0</th>\n      <td>Storm Madsen</td>\n      <td>2.4</td>\n      <td>taxi</td>\n      <td>16</td>\n    </tr>\n    <tr>\n      <th>1</th>\n      <td>Gordoslav Bosik</td>\n      <td>13.1</td>\n      <td>metro</td>\n      <td>196</td>\n    </tr>\n    <tr>\n      <th>2</th>\n      <td>آرمیتا محمدخان</td>\n      <td>4.5</td>\n      <td>motorbike</td>\n      <td>27</td>\n    </tr>\n    <tr>\n      <th>3</th>\n      <td>Daryl Chambers</td>\n      <td>4.3</td>\n      <td>bicycle</td>\n      <td>43</td>\n    </tr>\n    <tr>\n      <th>4</th>\n      <td>Bilogost Drizhenko</td>\n      <td>2.1</td>\n      <td>metro</td>\n      <td>31</td>\n    </tr>\n    <tr>\n      <th>...</th>\n      <td>...</td>\n      <td>...</td>\n      <td>...</td>\n      <td>...</td>\n    </tr>\n    <tr>\n      <th>16995</th>\n      <td>Eduardo Colin</td>\n      <td>2.3</td>\n      <td>car</td>\n      <td>13</td>\n    </tr>\n    <tr>\n      <th>16996</th>\n      <td>Olivia Kristensen</td>\n      <td>10.4</td>\n      <td>walking</td>\n      <td>624</td>\n    </tr>\n    <tr>\n      <th>16997</th>\n      <td>Estela Rojo</td>\n      <td>5.8</td>\n      <td>walking</td>\n      <td>348</td>\n    </tr>\n    <tr>\n      <th>16998</th>\n      <td>Ivan Hillestad</td>\n      <td>22.5</td>\n      <td>bicycle</td>\n      <td>225</td>\n    </tr>\n    <tr>\n      <th>16999</th>\n      <td>مانی حسینی</td>\n      <td>6.4</td>\n      <td>metro</td>\n      <td>96</td>\n    </tr>\n  </tbody>\n</table>\n<p>17000 rows × 4 columns</p>\n</div>"
     },
     "execution_count": 167,
     "metadata": {},
     "output_type": "execute_result"
    }
   ],
   "source": [
    "speed={\"car\":10,\"motorbike\":10,\"bus\":6,\"metro\":4,\"train\":7,\"taxi\":9,\"walking\":1,\"bicycle\":6}\n",
    "questDF[\"Commute_Duration\"]=questDF[\"Commute_Method\"].apply(lambda x: speed.get(x))\n",
    "questDF[\"Commute_Duration\"]= \\\n",
    "    (questDF['Commute_Distance'].astype(\"float\")/questDF[\"Commute_Duration\"].astype(\"float\") *60).astype(\"int\")\n",
    "questDF[questDF.columns[[0,-3,-2,-1]] ]\n"
   ],
   "metadata": {
    "collapsed": false,
    "pycharm": {
     "name": "#%%\n"
    }
   }
  },
  {
   "cell_type": "markdown",
   "source": [
    "### Commute State"
   ],
   "metadata": {
    "collapsed": false,
    "pycharm": {
     "name": "#%% md\n"
    }
   }
  },
  {
   "cell_type": "code",
   "execution_count": 168,
   "outputs": [
    {
     "data": {
      "text/plain": "                     Name  Commute_Distance Commute_Method  Commute_Duration  \\\n0            Storm Madsen               2.4           taxi                16   \n1         Gordoslav Bosik              13.1          metro               196   \n2          آرمیتا محمدخان               4.5      motorbike                27   \n3          Daryl Chambers               4.3        bicycle                43   \n4      Bilogost Drizhenko               2.1          metro                31   \n...                   ...               ...            ...               ...   \n16995       Eduardo Colin               2.3            car                13   \n16996   Olivia Kristensen              10.4        walking               624   \n16997         Estela Rojo               5.8        walking               348   \n16998      Ivan Hillestad              22.5        bicycle               225   \n16999          مانی حسینی               6.4          metro                96   \n\n       State_Commute  \n0                  2  \n1                  8  \n2                 10  \n3                  4  \n4                  8  \n...              ...  \n16995              9  \n16996              3  \n16997              4  \n16998              6  \n16999              8  \n\n[17000 rows x 5 columns]",
      "text/html": "<div>\n<style scoped>\n    .dataframe tbody tr th:only-of-type {\n        vertical-align: middle;\n    }\n\n    .dataframe tbody tr th {\n        vertical-align: top;\n    }\n\n    .dataframe thead th {\n        text-align: right;\n    }\n</style>\n<table border=\"1\" class=\"dataframe\">\n  <thead>\n    <tr style=\"text-align: right;\">\n      <th></th>\n      <th>Name</th>\n      <th>Commute_Distance</th>\n      <th>Commute_Method</th>\n      <th>Commute_Duration</th>\n      <th>State_Commute</th>\n    </tr>\n  </thead>\n  <tbody>\n    <tr>\n      <th>0</th>\n      <td>Storm Madsen</td>\n      <td>2.4</td>\n      <td>taxi</td>\n      <td>16</td>\n      <td>2</td>\n    </tr>\n    <tr>\n      <th>1</th>\n      <td>Gordoslav Bosik</td>\n      <td>13.1</td>\n      <td>metro</td>\n      <td>196</td>\n      <td>8</td>\n    </tr>\n    <tr>\n      <th>2</th>\n      <td>آرمیتا محمدخان</td>\n      <td>4.5</td>\n      <td>motorbike</td>\n      <td>27</td>\n      <td>10</td>\n    </tr>\n    <tr>\n      <th>3</th>\n      <td>Daryl Chambers</td>\n      <td>4.3</td>\n      <td>bicycle</td>\n      <td>43</td>\n      <td>4</td>\n    </tr>\n    <tr>\n      <th>4</th>\n      <td>Bilogost Drizhenko</td>\n      <td>2.1</td>\n      <td>metro</td>\n      <td>31</td>\n      <td>8</td>\n    </tr>\n    <tr>\n      <th>...</th>\n      <td>...</td>\n      <td>...</td>\n      <td>...</td>\n      <td>...</td>\n      <td>...</td>\n    </tr>\n    <tr>\n      <th>16995</th>\n      <td>Eduardo Colin</td>\n      <td>2.3</td>\n      <td>car</td>\n      <td>13</td>\n      <td>9</td>\n    </tr>\n    <tr>\n      <th>16996</th>\n      <td>Olivia Kristensen</td>\n      <td>10.4</td>\n      <td>walking</td>\n      <td>624</td>\n      <td>3</td>\n    </tr>\n    <tr>\n      <th>16997</th>\n      <td>Estela Rojo</td>\n      <td>5.8</td>\n      <td>walking</td>\n      <td>348</td>\n      <td>4</td>\n    </tr>\n    <tr>\n      <th>16998</th>\n      <td>Ivan Hillestad</td>\n      <td>22.5</td>\n      <td>bicycle</td>\n      <td>225</td>\n      <td>6</td>\n    </tr>\n    <tr>\n      <th>16999</th>\n      <td>مانی حسینی</td>\n      <td>6.4</td>\n      <td>metro</td>\n      <td>96</td>\n      <td>8</td>\n    </tr>\n  </tbody>\n</table>\n<p>17000 rows × 5 columns</p>\n</div>"
     },
     "execution_count": 168,
     "metadata": {},
     "output_type": "execute_result"
    }
   ],
   "source": [
    "questDF= fillState(questDF,20,\"State_Commute\")\n",
    "questDF[questDF.columns[[0,-4,-3,-2,-1]] ]"
   ],
   "metadata": {
    "collapsed": false,
    "pycharm": {
     "name": "#%%\n"
    }
   }
  },
  {
   "cell_type": "markdown",
   "source": [
    "## Work\n"
   ],
   "metadata": {
    "collapsed": false,
    "pycharm": {
     "name": "#%% md\n"
    }
   }
  },
  {
   "cell_type": "code",
   "execution_count": 169,
   "outputs": [
    {
     "data": {
      "text/plain": "                     Name   Work\n0            Storm Madsen   True\n1         Gordoslav Bosik  False\n2          آرمیتا محمدخان  False\n3          Daryl Chambers  False\n4      Bilogost Drizhenko  False\n...                   ...    ...\n16995       Eduardo Colin   True\n16996   Olivia Kristensen  False\n16997         Estela Rojo  False\n16998      Ivan Hillestad  False\n16999          مانی حسینی  False\n\n[17000 rows x 2 columns]",
      "text/html": "<div>\n<style scoped>\n    .dataframe tbody tr th:only-of-type {\n        vertical-align: middle;\n    }\n\n    .dataframe tbody tr th {\n        vertical-align: top;\n    }\n\n    .dataframe thead th {\n        text-align: right;\n    }\n</style>\n<table border=\"1\" class=\"dataframe\">\n  <thead>\n    <tr style=\"text-align: right;\">\n      <th></th>\n      <th>Name</th>\n      <th>Work</th>\n    </tr>\n  </thead>\n  <tbody>\n    <tr>\n      <th>0</th>\n      <td>Storm Madsen</td>\n      <td>True</td>\n    </tr>\n    <tr>\n      <th>1</th>\n      <td>Gordoslav Bosik</td>\n      <td>False</td>\n    </tr>\n    <tr>\n      <th>2</th>\n      <td>آرمیتا محمدخان</td>\n      <td>False</td>\n    </tr>\n    <tr>\n      <th>3</th>\n      <td>Daryl Chambers</td>\n      <td>False</td>\n    </tr>\n    <tr>\n      <th>4</th>\n      <td>Bilogost Drizhenko</td>\n      <td>False</td>\n    </tr>\n    <tr>\n      <th>...</th>\n      <td>...</td>\n      <td>...</td>\n    </tr>\n    <tr>\n      <th>16995</th>\n      <td>Eduardo Colin</td>\n      <td>True</td>\n    </tr>\n    <tr>\n      <th>16996</th>\n      <td>Olivia Kristensen</td>\n      <td>False</td>\n    </tr>\n    <tr>\n      <th>16997</th>\n      <td>Estela Rojo</td>\n      <td>False</td>\n    </tr>\n    <tr>\n      <th>16998</th>\n      <td>Ivan Hillestad</td>\n      <td>False</td>\n    </tr>\n    <tr>\n      <th>16999</th>\n      <td>مانی حسینی</td>\n      <td>False</td>\n    </tr>\n  </tbody>\n</table>\n<p>17000 rows × 2 columns</p>\n</div>"
     },
     "execution_count": 169,
     "metadata": {},
     "output_type": "execute_result"
    }
   ],
   "source": [
    "workOrNot= [True,False,False,False]\n",
    "questDF[\"Work\"]= np.random.choice(workOrNot, questDF.shape[0])\n",
    "\n",
    "questDF[questDF.columns[[0,-1]]]"
   ],
   "metadata": {
    "collapsed": false,
    "pycharm": {
     "name": "#%%\n"
    }
   }
  },
  {
   "cell_type": "markdown",
   "source": [
    "### Type Of Work"
   ],
   "metadata": {
    "collapsed": false,
    "pycharm": {
     "name": "#%% md\n"
    }
   }
  },
  {
   "cell_type": "code",
   "execution_count": 170,
   "outputs": [
    {
     "data": {
      "text/plain": "                     Name   Work        Work_Type\n0            Storm Madsen   True  family business\n1         Gordoslav Bosik  False                 \n2          آرمیتا محمدخان  False                 \n3          Daryl Chambers  False                 \n4      Bilogost Drizhenko  False                 \n...                   ...    ...              ...\n16995       Eduardo Colin   True  family business\n16996   Olivia Kristensen  False                 \n16997         Estela Rojo  False                 \n16998      Ivan Hillestad  False                 \n16999          مانی حسینی  False                 \n\n[17000 rows x 3 columns]",
      "text/html": "<div>\n<style scoped>\n    .dataframe tbody tr th:only-of-type {\n        vertical-align: middle;\n    }\n\n    .dataframe tbody tr th {\n        vertical-align: top;\n    }\n\n    .dataframe thead th {\n        text-align: right;\n    }\n</style>\n<table border=\"1\" class=\"dataframe\">\n  <thead>\n    <tr style=\"text-align: right;\">\n      <th></th>\n      <th>Name</th>\n      <th>Work</th>\n      <th>Work_Type</th>\n    </tr>\n  </thead>\n  <tbody>\n    <tr>\n      <th>0</th>\n      <td>Storm Madsen</td>\n      <td>True</td>\n      <td>family business</td>\n    </tr>\n    <tr>\n      <th>1</th>\n      <td>Gordoslav Bosik</td>\n      <td>False</td>\n      <td></td>\n    </tr>\n    <tr>\n      <th>2</th>\n      <td>آرمیتا محمدخان</td>\n      <td>False</td>\n      <td></td>\n    </tr>\n    <tr>\n      <th>3</th>\n      <td>Daryl Chambers</td>\n      <td>False</td>\n      <td></td>\n    </tr>\n    <tr>\n      <th>4</th>\n      <td>Bilogost Drizhenko</td>\n      <td>False</td>\n      <td></td>\n    </tr>\n    <tr>\n      <th>...</th>\n      <td>...</td>\n      <td>...</td>\n      <td>...</td>\n    </tr>\n    <tr>\n      <th>16995</th>\n      <td>Eduardo Colin</td>\n      <td>True</td>\n      <td>family business</td>\n    </tr>\n    <tr>\n      <th>16996</th>\n      <td>Olivia Kristensen</td>\n      <td>False</td>\n      <td></td>\n    </tr>\n    <tr>\n      <th>16997</th>\n      <td>Estela Rojo</td>\n      <td>False</td>\n      <td></td>\n    </tr>\n    <tr>\n      <th>16998</th>\n      <td>Ivan Hillestad</td>\n      <td>False</td>\n      <td></td>\n    </tr>\n    <tr>\n      <th>16999</th>\n      <td>مانی حسینی</td>\n      <td>False</td>\n      <td></td>\n    </tr>\n  </tbody>\n</table>\n<p>17000 rows × 3 columns</p>\n</div>"
     },
     "execution_count": 170,
     "metadata": {},
     "output_type": "execute_result"
    }
   ],
   "source": [
    "jobs=['craftsmanship', 'repetitive labour', 'hobby', 'family business']\n",
    "questDF[\"Work_Type\"]= np.where(questDF[\"Work\"],np.random.choice(jobs,questDF.shape[0]),\"\")\n",
    "questDF[questDF.columns[[0,-2,-1]]]\n"
   ],
   "metadata": {
    "collapsed": false,
    "pycharm": {
     "name": "#%%\n"
    }
   }
  },
  {
   "cell_type": "markdown",
   "source": [
    "### State Of Work"
   ],
   "metadata": {
    "collapsed": false,
    "pycharm": {
     "name": "#%% md\n"
    }
   }
  },
  {
   "cell_type": "code",
   "execution_count": 171,
   "outputs": [
    {
     "data": {
      "text/plain": "                     Name   Work        Work_Type State_Work\n0            Storm Madsen   True  family business          8\n1         Gordoslav Bosik  False                            \n2          آرمیتا محمدخان  False                            \n3          Daryl Chambers  False                            \n4      Bilogost Drizhenko  False                            \n...                   ...    ...              ...        ...\n16995       Eduardo Colin   True  family business          8\n16996   Olivia Kristensen  False                            \n16997         Estela Rojo  False                            \n16998      Ivan Hillestad  False                            \n16999          مانی حسینی  False                            \n\n[17000 rows x 4 columns]",
      "text/html": "<div>\n<style scoped>\n    .dataframe tbody tr th:only-of-type {\n        vertical-align: middle;\n    }\n\n    .dataframe tbody tr th {\n        vertical-align: top;\n    }\n\n    .dataframe thead th {\n        text-align: right;\n    }\n</style>\n<table border=\"1\" class=\"dataframe\">\n  <thead>\n    <tr style=\"text-align: right;\">\n      <th></th>\n      <th>Name</th>\n      <th>Work</th>\n      <th>Work_Type</th>\n      <th>State_Work</th>\n    </tr>\n  </thead>\n  <tbody>\n    <tr>\n      <th>0</th>\n      <td>Storm Madsen</td>\n      <td>True</td>\n      <td>family business</td>\n      <td>8</td>\n    </tr>\n    <tr>\n      <th>1</th>\n      <td>Gordoslav Bosik</td>\n      <td>False</td>\n      <td></td>\n      <td></td>\n    </tr>\n    <tr>\n      <th>2</th>\n      <td>آرمیتا محمدخان</td>\n      <td>False</td>\n      <td></td>\n      <td></td>\n    </tr>\n    <tr>\n      <th>3</th>\n      <td>Daryl Chambers</td>\n      <td>False</td>\n      <td></td>\n      <td></td>\n    </tr>\n    <tr>\n      <th>4</th>\n      <td>Bilogost Drizhenko</td>\n      <td>False</td>\n      <td></td>\n      <td></td>\n    </tr>\n    <tr>\n      <th>...</th>\n      <td>...</td>\n      <td>...</td>\n      <td>...</td>\n      <td>...</td>\n    </tr>\n    <tr>\n      <th>16995</th>\n      <td>Eduardo Colin</td>\n      <td>True</td>\n      <td>family business</td>\n      <td>8</td>\n    </tr>\n    <tr>\n      <th>16996</th>\n      <td>Olivia Kristensen</td>\n      <td>False</td>\n      <td></td>\n      <td></td>\n    </tr>\n    <tr>\n      <th>16997</th>\n      <td>Estela Rojo</td>\n      <td>False</td>\n      <td></td>\n      <td></td>\n    </tr>\n    <tr>\n      <th>16998</th>\n      <td>Ivan Hillestad</td>\n      <td>False</td>\n      <td></td>\n      <td></td>\n    </tr>\n    <tr>\n      <th>16999</th>\n      <td>مانی حسینی</td>\n      <td>False</td>\n      <td></td>\n      <td></td>\n    </tr>\n  </tbody>\n</table>\n<p>17000 rows × 4 columns</p>\n</div>"
     },
     "execution_count": 171,
     "metadata": {},
     "output_type": "execute_result"
    }
   ],
   "source": [
    "questDF[\"State_Work\"]= np.where(questDF[\"Work\"],np.random.choice(list(range(1,11)),questDF.shape[0]),\"\")\n",
    "questDF[questDF.columns[[0,-3,-2,-1]]]"
   ],
   "metadata": {
    "collapsed": false,
    "pycharm": {
     "name": "#%%\n"
    }
   }
  },
  {
   "cell_type": "markdown",
   "source": [
    "## Dropout\n",
    "### Dropouts/Race-Ethnicity"
   ],
   "metadata": {
    "collapsed": false,
    "pycharm": {
     "name": "#%% md\n"
    }
   }
  },
  {
   "cell_type": "code",
   "execution_count": 212,
   "outputs": [
    {
     "data": {
      "text/plain": "        White  Black  Asian  Arab  Hispanic\nmale      5.4    5.6    3.2   5.1       8.9\nfemale    4.1    2.9    1.5   8.0       5.9",
      "text/html": "<div>\n<style scoped>\n    .dataframe tbody tr th:only-of-type {\n        vertical-align: middle;\n    }\n\n    .dataframe tbody tr th {\n        vertical-align: top;\n    }\n\n    .dataframe thead th {\n        text-align: right;\n    }\n</style>\n<table border=\"1\" class=\"dataframe\">\n  <thead>\n    <tr style=\"text-align: right;\">\n      <th></th>\n      <th>White</th>\n      <th>Black</th>\n      <th>Asian</th>\n      <th>Arab</th>\n      <th>Hispanic</th>\n    </tr>\n  </thead>\n  <tbody>\n    <tr>\n      <th>male</th>\n      <td>5.4</td>\n      <td>5.6</td>\n      <td>3.2</td>\n      <td>5.1</td>\n      <td>8.9</td>\n    </tr>\n    <tr>\n      <th>female</th>\n      <td>4.1</td>\n      <td>2.9</td>\n      <td>1.5</td>\n      <td>8.0</td>\n      <td>5.9</td>\n    </tr>\n  </tbody>\n</table>\n</div>"
     },
     "execution_count": 212,
     "metadata": {},
     "output_type": "execute_result"
    }
   ],
   "source": [
    "\n",
    "redf= pd.DataFrame([[5.4,5.6,3.2,5.1,8.9],[4.1,2.9,1.5,8.0,5.9]],\n",
    "                   index=[\"male\",\"female\"],\n",
    "                   columns=[\"White\",\"Black\",\"Asian\",\"Arab\",\"Hispanic\"])\n",
    "redf\n"
   ],
   "metadata": {
    "collapsed": false,
    "pycharm": {
     "name": "#%%\n"
    }
   }
  },
  {
   "cell_type": "code",
   "execution_count": 216,
   "outputs": [
    {
     "name": "stdout",
     "output_type": "stream",
     "text": [
      "4.1\n"
     ]
    }
   ],
   "source": [
    "print(redf.loc[\"female\"].loc[\"White\"])"
   ],
   "metadata": {
    "collapsed": false,
    "pycharm": {
     "name": "#%%\n"
    }
   }
  },
  {
   "cell_type": "code",
   "execution_count": 230,
   "outputs": [
    {
     "data": {
      "text/plain": "                     Name  Gender  Age Ethnicity      Family_Status  \\\n0            Storm Madsen    male   36     White        step family   \n1         Gordoslav Bosik    male   59     White         Abandonned   \n2          آرمیتا محمدخان  female   36      Arab         Abandonned   \n3          Daryl Chambers    male   50      Arab    extended family   \n4      Bilogost Drizhenko    male   71      Arab        step family   \n...                   ...     ...  ...       ...                ...   \n16995       Eduardo Colin    male   73  Hispanic    extended family   \n16996   Olivia Kristensen  female   27      Arab    extended family   \n16997         Estela Rojo  female   67  Hispanic  biological family   \n16998      Ivan Hillestad    male   67      Arab    extended family   \n16999          مانی حسینی    male   67     Black         Abandonned   \n\n       Number_Caretakers State_Caretakers  Number_Siblings  \\\n0                      3                1                0   \n1                      2                4                0   \n2                      0                0                3   \n3                      5               10                2   \n4                      2                2                5   \n...                  ...              ...              ...   \n16995                  2                4                1   \n16996                  2                4                1   \n16997                  2                6                2   \n16998                  2               10                1   \n16999                  0                0                2   \n\n       Order_Among_Siblings  State_Residence  ... Grade  Academic_Passion  \\\n0                         0                8  ...    12                 2   \n1                         0                8  ...    L2                 4   \n2                         2                3  ...    M1                 8   \n3                         0                7  ...     1                 1   \n4                         3                6  ...    L1                 3   \n...                     ...              ...  ...   ...               ...   \n16995                     0                1  ...     4                 7   \n16996                     0                6  ...     6                 5   \n16997                     2                8  ...    11                 9   \n16998                     1                9  ...    M1                 2   \n16999                     1                6  ...     8                10   \n\n      Years_Failed  Commute_Distance  Commute_Method  Commute_Duration  \\\n0                0               2.4            taxi                16   \n1                2              13.1           metro               196   \n2                0               4.5       motorbike                27   \n3                1               4.3         bicycle                43   \n4                0               2.1           metro                31   \n...            ...               ...             ...               ...   \n16995            1               2.3             car                13   \n16996            2              10.4         walking               624   \n16997            0               5.8         walking               348   \n16998            3              22.5         bicycle               225   \n16999            1               6.4           metro                96   \n\n       State_Commute   Work        Work_Type  State_Work  \n0                  2   True  family business           8  \n1                  8  False                               \n2                 10  False                               \n3                  4  False                               \n4                  8  False                               \n...              ...    ...              ...         ...  \n16995              9   True  family business           8  \n16996              3  False                               \n16997              4  False                               \n16998              6  False                               \n16999              8  False                               \n\n[17000 rows x 28 columns]",
      "text/html": "<div>\n<style scoped>\n    .dataframe tbody tr th:only-of-type {\n        vertical-align: middle;\n    }\n\n    .dataframe tbody tr th {\n        vertical-align: top;\n    }\n\n    .dataframe thead th {\n        text-align: right;\n    }\n</style>\n<table border=\"1\" class=\"dataframe\">\n  <thead>\n    <tr style=\"text-align: right;\">\n      <th></th>\n      <th>Name</th>\n      <th>Gender</th>\n      <th>Age</th>\n      <th>Ethnicity</th>\n      <th>Family_Status</th>\n      <th>Number_Caretakers</th>\n      <th>State_Caretakers</th>\n      <th>Number_Siblings</th>\n      <th>Order_Among_Siblings</th>\n      <th>State_Residence</th>\n      <th>...</th>\n      <th>Grade</th>\n      <th>Academic_Passion</th>\n      <th>Years_Failed</th>\n      <th>Commute_Distance</th>\n      <th>Commute_Method</th>\n      <th>Commute_Duration</th>\n      <th>State_Commute</th>\n      <th>Work</th>\n      <th>Work_Type</th>\n      <th>State_Work</th>\n    </tr>\n  </thead>\n  <tbody>\n    <tr>\n      <th>0</th>\n      <td>Storm Madsen</td>\n      <td>male</td>\n      <td>36</td>\n      <td>White</td>\n      <td>step family</td>\n      <td>3</td>\n      <td>1</td>\n      <td>0</td>\n      <td>0</td>\n      <td>8</td>\n      <td>...</td>\n      <td>12</td>\n      <td>2</td>\n      <td>0</td>\n      <td>2.4</td>\n      <td>taxi</td>\n      <td>16</td>\n      <td>2</td>\n      <td>True</td>\n      <td>family business</td>\n      <td>8</td>\n    </tr>\n    <tr>\n      <th>1</th>\n      <td>Gordoslav Bosik</td>\n      <td>male</td>\n      <td>59</td>\n      <td>White</td>\n      <td>Abandonned</td>\n      <td>2</td>\n      <td>4</td>\n      <td>0</td>\n      <td>0</td>\n      <td>8</td>\n      <td>...</td>\n      <td>L2</td>\n      <td>4</td>\n      <td>2</td>\n      <td>13.1</td>\n      <td>metro</td>\n      <td>196</td>\n      <td>8</td>\n      <td>False</td>\n      <td></td>\n      <td></td>\n    </tr>\n    <tr>\n      <th>2</th>\n      <td>آرمیتا محمدخان</td>\n      <td>female</td>\n      <td>36</td>\n      <td>Arab</td>\n      <td>Abandonned</td>\n      <td>0</td>\n      <td>0</td>\n      <td>3</td>\n      <td>2</td>\n      <td>3</td>\n      <td>...</td>\n      <td>M1</td>\n      <td>8</td>\n      <td>0</td>\n      <td>4.5</td>\n      <td>motorbike</td>\n      <td>27</td>\n      <td>10</td>\n      <td>False</td>\n      <td></td>\n      <td></td>\n    </tr>\n    <tr>\n      <th>3</th>\n      <td>Daryl Chambers</td>\n      <td>male</td>\n      <td>50</td>\n      <td>Arab</td>\n      <td>extended family</td>\n      <td>5</td>\n      <td>10</td>\n      <td>2</td>\n      <td>0</td>\n      <td>7</td>\n      <td>...</td>\n      <td>1</td>\n      <td>1</td>\n      <td>1</td>\n      <td>4.3</td>\n      <td>bicycle</td>\n      <td>43</td>\n      <td>4</td>\n      <td>False</td>\n      <td></td>\n      <td></td>\n    </tr>\n    <tr>\n      <th>4</th>\n      <td>Bilogost Drizhenko</td>\n      <td>male</td>\n      <td>71</td>\n      <td>Arab</td>\n      <td>step family</td>\n      <td>2</td>\n      <td>2</td>\n      <td>5</td>\n      <td>3</td>\n      <td>6</td>\n      <td>...</td>\n      <td>L1</td>\n      <td>3</td>\n      <td>0</td>\n      <td>2.1</td>\n      <td>metro</td>\n      <td>31</td>\n      <td>8</td>\n      <td>False</td>\n      <td></td>\n      <td></td>\n    </tr>\n    <tr>\n      <th>...</th>\n      <td>...</td>\n      <td>...</td>\n      <td>...</td>\n      <td>...</td>\n      <td>...</td>\n      <td>...</td>\n      <td>...</td>\n      <td>...</td>\n      <td>...</td>\n      <td>...</td>\n      <td>...</td>\n      <td>...</td>\n      <td>...</td>\n      <td>...</td>\n      <td>...</td>\n      <td>...</td>\n      <td>...</td>\n      <td>...</td>\n      <td>...</td>\n      <td>...</td>\n      <td>...</td>\n    </tr>\n    <tr>\n      <th>16995</th>\n      <td>Eduardo Colin</td>\n      <td>male</td>\n      <td>73</td>\n      <td>Hispanic</td>\n      <td>extended family</td>\n      <td>2</td>\n      <td>4</td>\n      <td>1</td>\n      <td>0</td>\n      <td>1</td>\n      <td>...</td>\n      <td>4</td>\n      <td>7</td>\n      <td>1</td>\n      <td>2.3</td>\n      <td>car</td>\n      <td>13</td>\n      <td>9</td>\n      <td>True</td>\n      <td>family business</td>\n      <td>8</td>\n    </tr>\n    <tr>\n      <th>16996</th>\n      <td>Olivia Kristensen</td>\n      <td>female</td>\n      <td>27</td>\n      <td>Arab</td>\n      <td>extended family</td>\n      <td>2</td>\n      <td>4</td>\n      <td>1</td>\n      <td>0</td>\n      <td>6</td>\n      <td>...</td>\n      <td>6</td>\n      <td>5</td>\n      <td>2</td>\n      <td>10.4</td>\n      <td>walking</td>\n      <td>624</td>\n      <td>3</td>\n      <td>False</td>\n      <td></td>\n      <td></td>\n    </tr>\n    <tr>\n      <th>16997</th>\n      <td>Estela Rojo</td>\n      <td>female</td>\n      <td>67</td>\n      <td>Hispanic</td>\n      <td>biological family</td>\n      <td>2</td>\n      <td>6</td>\n      <td>2</td>\n      <td>2</td>\n      <td>8</td>\n      <td>...</td>\n      <td>11</td>\n      <td>9</td>\n      <td>0</td>\n      <td>5.8</td>\n      <td>walking</td>\n      <td>348</td>\n      <td>4</td>\n      <td>False</td>\n      <td></td>\n      <td></td>\n    </tr>\n    <tr>\n      <th>16998</th>\n      <td>Ivan Hillestad</td>\n      <td>male</td>\n      <td>67</td>\n      <td>Arab</td>\n      <td>extended family</td>\n      <td>2</td>\n      <td>10</td>\n      <td>1</td>\n      <td>1</td>\n      <td>9</td>\n      <td>...</td>\n      <td>M1</td>\n      <td>2</td>\n      <td>3</td>\n      <td>22.5</td>\n      <td>bicycle</td>\n      <td>225</td>\n      <td>6</td>\n      <td>False</td>\n      <td></td>\n      <td></td>\n    </tr>\n    <tr>\n      <th>16999</th>\n      <td>مانی حسینی</td>\n      <td>male</td>\n      <td>67</td>\n      <td>Black</td>\n      <td>Abandonned</td>\n      <td>0</td>\n      <td>0</td>\n      <td>2</td>\n      <td>1</td>\n      <td>6</td>\n      <td>...</td>\n      <td>8</td>\n      <td>10</td>\n      <td>1</td>\n      <td>6.4</td>\n      <td>metro</td>\n      <td>96</td>\n      <td>8</td>\n      <td>False</td>\n      <td></td>\n      <td></td>\n    </tr>\n  </tbody>\n</table>\n<p>17000 rows × 28 columns</p>\n</div>"
     },
     "execution_count": 230,
     "metadata": {},
     "output_type": "execute_result"
    }
   ],
   "source": [
    "# rdf = pd.DataFrame([[5, 1.5],[2, 8.7],[10, 20.6]], columns=['int', 'float'])\n",
    "rdf = questDF#.sample(20)\n",
    "rdf"
   ],
   "metadata": {
    "collapsed": false,
    "pycharm": {
     "name": "#%%\n"
    }
   }
  },
  {
   "cell_type": "code",
   "execution_count": 231,
   "outputs": [
    {
     "data": {
      "text/plain": "0        5.4\n1        5.4\n2        8.0\n3        5.1\n4        5.1\n        ... \n16995    8.9\n16996    8.0\n16997    5.9\n16998    5.1\n16999    5.6\nLength: 17000, dtype: float64"
     },
     "execution_count": 231,
     "metadata": {},
     "output_type": "execute_result"
    }
   ],
   "source": [
    "rates=[]\n",
    "for a in rdf.iterrows():\n",
    "    rates.append(redf.loc[a[1][\"Gender\"]].loc[a[1][\"Ethnicity\"]])\n",
    "rates=pd.Series(rates)\n",
    "rates"
   ],
   "metadata": {
    "collapsed": false,
    "pycharm": {
     "name": "#%%\n"
    }
   }
  },
  {
   "cell_type": "code",
   "execution_count": 256,
   "outputs": [
    {
     "data": {
      "text/plain": "0         True\n1        False\n2        False\n3        False\n4        False\n         ...  \n16995    False\n16996    False\n16997     True\n16998    False\n16999    False\nLength: 17000, dtype: bool"
     },
     "execution_count": 256,
     "metadata": {},
     "output_type": "execute_result"
    }
   ],
   "source": [
    "dropoutArr= rates.apply(lambda x: np.random.randint(0,1001)<x*10 )"
   ],
   "metadata": {
    "collapsed": false,
    "pycharm": {
     "name": "#%%\n"
    }
   }
  },
  {
   "cell_type": "markdown",
   "source": [
    "### Dropout"
   ],
   "metadata": {
    "collapsed": false,
    "pycharm": {
     "name": "#%% md\n"
    }
   }
  },
  {
   "cell_type": "code",
   "execution_count": 257,
   "outputs": [
    {
     "data": {
      "text/plain": "       Gender Ethnicity  Dropout\n0        male     White    False\n1        male     White    False\n2      female      Arab     True\n3        male      Arab    False\n4        male      Arab    False\n...       ...       ...      ...\n16995    male  Hispanic    False\n16996  female      Arab    False\n16997  female  Hispanic    False\n16998    male      Arab    False\n16999    male     Black    False\n\n[17000 rows x 3 columns]",
      "text/html": "<div>\n<style scoped>\n    .dataframe tbody tr th:only-of-type {\n        vertical-align: middle;\n    }\n\n    .dataframe tbody tr th {\n        vertical-align: top;\n    }\n\n    .dataframe thead th {\n        text-align: right;\n    }\n</style>\n<table border=\"1\" class=\"dataframe\">\n  <thead>\n    <tr style=\"text-align: right;\">\n      <th></th>\n      <th>Gender</th>\n      <th>Ethnicity</th>\n      <th>Dropout</th>\n    </tr>\n  </thead>\n  <tbody>\n    <tr>\n      <th>0</th>\n      <td>male</td>\n      <td>White</td>\n      <td>False</td>\n    </tr>\n    <tr>\n      <th>1</th>\n      <td>male</td>\n      <td>White</td>\n      <td>False</td>\n    </tr>\n    <tr>\n      <th>2</th>\n      <td>female</td>\n      <td>Arab</td>\n      <td>True</td>\n    </tr>\n    <tr>\n      <th>3</th>\n      <td>male</td>\n      <td>Arab</td>\n      <td>False</td>\n    </tr>\n    <tr>\n      <th>4</th>\n      <td>male</td>\n      <td>Arab</td>\n      <td>False</td>\n    </tr>\n    <tr>\n      <th>...</th>\n      <td>...</td>\n      <td>...</td>\n      <td>...</td>\n    </tr>\n    <tr>\n      <th>16995</th>\n      <td>male</td>\n      <td>Hispanic</td>\n      <td>False</td>\n    </tr>\n    <tr>\n      <th>16996</th>\n      <td>female</td>\n      <td>Arab</td>\n      <td>False</td>\n    </tr>\n    <tr>\n      <th>16997</th>\n      <td>female</td>\n      <td>Hispanic</td>\n      <td>False</td>\n    </tr>\n    <tr>\n      <th>16998</th>\n      <td>male</td>\n      <td>Arab</td>\n      <td>False</td>\n    </tr>\n    <tr>\n      <th>16999</th>\n      <td>male</td>\n      <td>Black</td>\n      <td>False</td>\n    </tr>\n  </tbody>\n</table>\n<p>17000 rows × 3 columns</p>\n</div>"
     },
     "execution_count": 257,
     "metadata": {},
     "output_type": "execute_result"
    }
   ],
   "source": [
    "questDF[\"Dropout\"]= rates.apply(lambda x: np.random.randint(0,1001)<x*10 )\n",
    "questDF[questDF.columns[[1,3,-1]]]"
   ],
   "metadata": {
    "collapsed": false,
    "pycharm": {
     "name": "#%%\n"
    }
   }
  },
  {
   "cell_type": "code",
   "execution_count": 260,
   "outputs": [
    {
     "data": {
      "text/plain": "Dropout\nFalse    16158\nTrue       842\ndtype: int64"
     },
     "execution_count": 260,
     "metadata": {},
     "output_type": "execute_result"
    }
   ],
   "source": [
    "questDF.value_counts(\"Dropout\")"
   ],
   "metadata": {
    "collapsed": false,
    "pycharm": {
     "name": "#%%\n"
    }
   }
  },
  {
   "cell_type": "markdown",
   "source": [
    "# Export"
   ],
   "metadata": {
    "collapsed": false,
    "pycharm": {
     "name": "#%% md\n"
    }
   }
  },
  {
   "cell_type": "code",
   "execution_count": 261,
   "outputs": [],
   "source": [
    "questDF.to_csv(\"questionnaire.csv\", index=False, header=True)"
   ],
   "metadata": {
    "collapsed": false,
    "pycharm": {
     "name": "#%%\n"
    }
   }
  },
  {
   "cell_type": "code",
   "execution_count": null,
   "outputs": [],
   "source": [],
   "metadata": {
    "collapsed": false,
    "pycharm": {
     "name": "#%%\n"
    }
   }
  }
 ],
 "metadata": {
  "kernelspec": {
   "display_name": "Python 3",
   "language": "python",
   "name": "python3"
  },
  "language_info": {
   "codemirror_mode": {
    "name": "ipython",
    "version": 2
   },
   "file_extension": ".py",
   "mimetype": "text/x-python",
   "name": "python",
   "nbconvert_exporter": "python",
   "pygments_lexer": "ipython2",
   "version": "2.7.6"
  }
 },
 "nbformat": 4,
 "nbformat_minor": 0
}