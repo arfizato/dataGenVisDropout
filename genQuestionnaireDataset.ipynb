{
 "cells": [
  {
   "cell_type": "code",
   "execution_count": 1,
   "outputs": [],
   "source": [
    "import pandas as pd\n",
    "import  plotly\n",
    "import json\n",
    "import requests\n",
    "import numpy as np"
   ],
   "metadata": {
    "collapsed": false,
    "pycharm": {
     "name": "#%%\n"
    }
   }
  },
  {
   "cell_type": "markdown",
   "source": [
    "# Getting 2021 happiness report dataset\n",
    "and importing its useful data to our fakePerson dataset"
   ],
   "metadata": {
    "collapsed": false,
    "pycharm": {
     "name": "#%% md\n"
    }
   }
  },
  {
   "cell_type": "code",
   "execution_count": 531,
   "outputs": [],
   "source": [
    "df=pd.read_csv(\"randomUsers.csv\")"
   ],
   "metadata": {
    "collapsed": false,
    "pycharm": {
     "name": "#%%\n"
    }
   }
  },
  {
   "cell_type": "code",
   "execution_count": 532,
   "outputs": [
    {
     "data": {
      "text/plain": "  Country name Regional indicator  Ladder score  \\\n0      Finland     Western Europe         7.842   \n1      Denmark     Western Europe         7.620   \n2  Switzerland     Western Europe         7.571   \n3      Iceland     Western Europe         7.554   \n4  Netherlands     Western Europe         7.464   \n\n   Standard error of ladder score  upperwhisker  lowerwhisker  \\\n0                           0.032         7.904         7.780   \n1                           0.035         7.687         7.552   \n2                           0.036         7.643         7.500   \n3                           0.059         7.670         7.438   \n4                           0.027         7.518         7.410   \n\n   Logged GDP per capita  Social support  Healthy life expectancy  \\\n0                 10.775           0.954                     72.0   \n1                 10.933           0.954                     72.7   \n2                 11.117           0.942                     74.4   \n3                 10.878           0.983                     73.0   \n4                 10.932           0.942                     72.4   \n\n   Freedom to make life choices  Generosity  Perceptions of corruption  \\\n0                         0.949      -0.098                      0.186   \n1                         0.946       0.030                      0.179   \n2                         0.919       0.025                      0.292   \n3                         0.955       0.160                      0.673   \n4                         0.913       0.175                      0.338   \n\n   Ladder score in Dystopia  Explained by: Log GDP per capita  \\\n0                      2.43                             1.446   \n1                      2.43                             1.502   \n2                      2.43                             1.566   \n3                      2.43                             1.482   \n4                      2.43                             1.501   \n\n   Explained by: Social support  Explained by: Healthy life expectancy  \\\n0                         1.106                                  0.741   \n1                         1.108                                  0.763   \n2                         1.079                                  0.816   \n3                         1.172                                  0.772   \n4                         1.079                                  0.753   \n\n   Explained by: Freedom to make life choices  Explained by: Generosity  \\\n0                                       0.691                     0.124   \n1                                       0.686                     0.208   \n2                                       0.653                     0.204   \n3                                       0.698                     0.293   \n4                                       0.647                     0.302   \n\n   Explained by: Perceptions of corruption  Dystopia + residual  \n0                                    0.481                3.253  \n1                                    0.485                2.868  \n2                                    0.413                2.839  \n3                                    0.170                2.967  \n4                                    0.384                2.798  ",
      "text/html": "<div>\n<style scoped>\n    .dataframe tbody tr th:only-of-type {\n        vertical-align: middle;\n    }\n\n    .dataframe tbody tr th {\n        vertical-align: top;\n    }\n\n    .dataframe thead th {\n        text-align: right;\n    }\n</style>\n<table border=\"1\" class=\"dataframe\">\n  <thead>\n    <tr style=\"text-align: right;\">\n      <th></th>\n      <th>Country name</th>\n      <th>Regional indicator</th>\n      <th>Ladder score</th>\n      <th>Standard error of ladder score</th>\n      <th>upperwhisker</th>\n      <th>lowerwhisker</th>\n      <th>Logged GDP per capita</th>\n      <th>Social support</th>\n      <th>Healthy life expectancy</th>\n      <th>Freedom to make life choices</th>\n      <th>Generosity</th>\n      <th>Perceptions of corruption</th>\n      <th>Ladder score in Dystopia</th>\n      <th>Explained by: Log GDP per capita</th>\n      <th>Explained by: Social support</th>\n      <th>Explained by: Healthy life expectancy</th>\n      <th>Explained by: Freedom to make life choices</th>\n      <th>Explained by: Generosity</th>\n      <th>Explained by: Perceptions of corruption</th>\n      <th>Dystopia + residual</th>\n    </tr>\n  </thead>\n  <tbody>\n    <tr>\n      <th>0</th>\n      <td>Finland</td>\n      <td>Western Europe</td>\n      <td>7.842</td>\n      <td>0.032</td>\n      <td>7.904</td>\n      <td>7.780</td>\n      <td>10.775</td>\n      <td>0.954</td>\n      <td>72.0</td>\n      <td>0.949</td>\n      <td>-0.098</td>\n      <td>0.186</td>\n      <td>2.43</td>\n      <td>1.446</td>\n      <td>1.106</td>\n      <td>0.741</td>\n      <td>0.691</td>\n      <td>0.124</td>\n      <td>0.481</td>\n      <td>3.253</td>\n    </tr>\n    <tr>\n      <th>1</th>\n      <td>Denmark</td>\n      <td>Western Europe</td>\n      <td>7.620</td>\n      <td>0.035</td>\n      <td>7.687</td>\n      <td>7.552</td>\n      <td>10.933</td>\n      <td>0.954</td>\n      <td>72.7</td>\n      <td>0.946</td>\n      <td>0.030</td>\n      <td>0.179</td>\n      <td>2.43</td>\n      <td>1.502</td>\n      <td>1.108</td>\n      <td>0.763</td>\n      <td>0.686</td>\n      <td>0.208</td>\n      <td>0.485</td>\n      <td>2.868</td>\n    </tr>\n    <tr>\n      <th>2</th>\n      <td>Switzerland</td>\n      <td>Western Europe</td>\n      <td>7.571</td>\n      <td>0.036</td>\n      <td>7.643</td>\n      <td>7.500</td>\n      <td>11.117</td>\n      <td>0.942</td>\n      <td>74.4</td>\n      <td>0.919</td>\n      <td>0.025</td>\n      <td>0.292</td>\n      <td>2.43</td>\n      <td>1.566</td>\n      <td>1.079</td>\n      <td>0.816</td>\n      <td>0.653</td>\n      <td>0.204</td>\n      <td>0.413</td>\n      <td>2.839</td>\n    </tr>\n    <tr>\n      <th>3</th>\n      <td>Iceland</td>\n      <td>Western Europe</td>\n      <td>7.554</td>\n      <td>0.059</td>\n      <td>7.670</td>\n      <td>7.438</td>\n      <td>10.878</td>\n      <td>0.983</td>\n      <td>73.0</td>\n      <td>0.955</td>\n      <td>0.160</td>\n      <td>0.673</td>\n      <td>2.43</td>\n      <td>1.482</td>\n      <td>1.172</td>\n      <td>0.772</td>\n      <td>0.698</td>\n      <td>0.293</td>\n      <td>0.170</td>\n      <td>2.967</td>\n    </tr>\n    <tr>\n      <th>4</th>\n      <td>Netherlands</td>\n      <td>Western Europe</td>\n      <td>7.464</td>\n      <td>0.027</td>\n      <td>7.518</td>\n      <td>7.410</td>\n      <td>10.932</td>\n      <td>0.942</td>\n      <td>72.4</td>\n      <td>0.913</td>\n      <td>0.175</td>\n      <td>0.338</td>\n      <td>2.43</td>\n      <td>1.501</td>\n      <td>1.079</td>\n      <td>0.753</td>\n      <td>0.647</td>\n      <td>0.302</td>\n      <td>0.384</td>\n      <td>2.798</td>\n    </tr>\n  </tbody>\n</table>\n</div>"
     },
     "execution_count": 532,
     "metadata": {},
     "output_type": "execute_result"
    }
   ],
   "source": [
    "happ= pd.read_csv(\"happines21.csv\")\n",
    "happ.head()"
   ],
   "metadata": {
    "collapsed": false,
    "pycharm": {
     "name": "#%%\n"
    }
   }
  },
  {
   "cell_type": "code",
   "execution_count": 533,
   "outputs": [
    {
     "data": {
      "text/plain": "    Country name  Ladder score\n0        Finland         7.842\n1        Denmark         7.620\n2    Switzerland         7.571\n3        Iceland         7.554\n4    Netherlands         7.464\n..           ...           ...\n144      Lesotho         3.512\n145     Botswana         3.467\n146       Rwanda         3.415\n147     Zimbabwe         3.145\n148  Afghanistan         2.523\n\n[149 rows x 2 columns]",
      "text/html": "<div>\n<style scoped>\n    .dataframe tbody tr th:only-of-type {\n        vertical-align: middle;\n    }\n\n    .dataframe tbody tr th {\n        vertical-align: top;\n    }\n\n    .dataframe thead th {\n        text-align: right;\n    }\n</style>\n<table border=\"1\" class=\"dataframe\">\n  <thead>\n    <tr style=\"text-align: right;\">\n      <th></th>\n      <th>Country name</th>\n      <th>Ladder score</th>\n    </tr>\n  </thead>\n  <tbody>\n    <tr>\n      <th>0</th>\n      <td>Finland</td>\n      <td>7.842</td>\n    </tr>\n    <tr>\n      <th>1</th>\n      <td>Denmark</td>\n      <td>7.620</td>\n    </tr>\n    <tr>\n      <th>2</th>\n      <td>Switzerland</td>\n      <td>7.571</td>\n    </tr>\n    <tr>\n      <th>3</th>\n      <td>Iceland</td>\n      <td>7.554</td>\n    </tr>\n    <tr>\n      <th>4</th>\n      <td>Netherlands</td>\n      <td>7.464</td>\n    </tr>\n    <tr>\n      <th>...</th>\n      <td>...</td>\n      <td>...</td>\n    </tr>\n    <tr>\n      <th>144</th>\n      <td>Lesotho</td>\n      <td>3.512</td>\n    </tr>\n    <tr>\n      <th>145</th>\n      <td>Botswana</td>\n      <td>3.467</td>\n    </tr>\n    <tr>\n      <th>146</th>\n      <td>Rwanda</td>\n      <td>3.415</td>\n    </tr>\n    <tr>\n      <th>147</th>\n      <td>Zimbabwe</td>\n      <td>3.145</td>\n    </tr>\n    <tr>\n      <th>148</th>\n      <td>Afghanistan</td>\n      <td>2.523</td>\n    </tr>\n  </tbody>\n</table>\n<p>149 rows × 2 columns</p>\n</div>"
     },
     "execution_count": 533,
     "metadata": {},
     "output_type": "execute_result"
    }
   ],
   "source": [
    "cols = happ.columns\n",
    "# cols[[0,2]]\n",
    "hdf= happ[cols[[0,2]]]\n",
    "hdf"
   ],
   "metadata": {
    "collapsed": false,
    "pycharm": {
     "name": "#%%\n"
    }
   }
  },
  {
   "cell_type": "code",
   "execution_count": 534,
   "outputs": [
    {
     "data": {
      "text/plain": "array(['Denmark', 'Ukraine', 'Iran', 'Australia', 'Ireland',\n       'United States', 'Canada', 'United Kingdom', 'France',\n       'Netherlands', 'Spain', 'Norway', 'Switzerland', 'Brazil',\n       'Serbia', 'New Zealand', 'Germany', 'Turkey', 'Finland', 'Mexico',\n       'India'], dtype=object)"
     },
     "execution_count": 534,
     "metadata": {},
     "output_type": "execute_result"
    }
   ],
   "source": [
    "df[\"location.country\"].unique()"
   ],
   "metadata": {
    "collapsed": false,
    "pycharm": {
     "name": "#%%\n"
    }
   }
  },
  {
   "cell_type": "code",
   "execution_count": 535,
   "outputs": [],
   "source": [
    "def findinSeries(elem, series):\n",
    "    # print(elem)\n",
    "    for i,x in enumerate(series):\n",
    "        if x== elem:\n",
    "            # print(\"i\",i, x)\n",
    "            return i\n",
    "    return -1"
   ],
   "metadata": {
    "collapsed": false,
    "pycharm": {
     "name": "#%%\n"
    }
   }
  },
  {
   "cell_type": "code",
   "execution_count": 536,
   "outputs": [
    {
     "data": {
      "text/plain": "       happiness location.country\n0          7.620          Denmark\n1          4.875          Ukraine\n2          4.721             Iran\n3          7.183        Australia\n4          4.875          Ukraine\n...          ...              ...\n16995      7.571      Switzerland\n16996      7.620          Denmark\n16997      6.317           Mexico\n16998      7.392           Norway\n16999      4.721             Iran\n\n[17000 rows x 2 columns]",
      "text/html": "<div>\n<style scoped>\n    .dataframe tbody tr th:only-of-type {\n        vertical-align: middle;\n    }\n\n    .dataframe tbody tr th {\n        vertical-align: top;\n    }\n\n    .dataframe thead th {\n        text-align: right;\n    }\n</style>\n<table border=\"1\" class=\"dataframe\">\n  <thead>\n    <tr style=\"text-align: right;\">\n      <th></th>\n      <th>happiness</th>\n      <th>location.country</th>\n    </tr>\n  </thead>\n  <tbody>\n    <tr>\n      <th>0</th>\n      <td>7.620</td>\n      <td>Denmark</td>\n    </tr>\n    <tr>\n      <th>1</th>\n      <td>4.875</td>\n      <td>Ukraine</td>\n    </tr>\n    <tr>\n      <th>2</th>\n      <td>4.721</td>\n      <td>Iran</td>\n    </tr>\n    <tr>\n      <th>3</th>\n      <td>7.183</td>\n      <td>Australia</td>\n    </tr>\n    <tr>\n      <th>4</th>\n      <td>4.875</td>\n      <td>Ukraine</td>\n    </tr>\n    <tr>\n      <th>...</th>\n      <td>...</td>\n      <td>...</td>\n    </tr>\n    <tr>\n      <th>16995</th>\n      <td>7.571</td>\n      <td>Switzerland</td>\n    </tr>\n    <tr>\n      <th>16996</th>\n      <td>7.620</td>\n      <td>Denmark</td>\n    </tr>\n    <tr>\n      <th>16997</th>\n      <td>6.317</td>\n      <td>Mexico</td>\n    </tr>\n    <tr>\n      <th>16998</th>\n      <td>7.392</td>\n      <td>Norway</td>\n    </tr>\n    <tr>\n      <th>16999</th>\n      <td>4.721</td>\n      <td>Iran</td>\n    </tr>\n  </tbody>\n</table>\n<p>17000 rows × 2 columns</p>\n</div>"
     },
     "execution_count": 536,
     "metadata": {},
     "output_type": "execute_result"
    }
   ],
   "source": [
    "copydf= df\n",
    "# copydf[\"happiness\"] = np.where(copydf[\"location.country\"] in hdf[cols[0]].tolist(),\"wa3 bla3\",\"\")\n",
    "copydf[\"happiness\"] = copydf[\"location.country\"].apply(lambda x: hdf['Ladder score'][findinSeries(x,hdf['Country name'].tolist())] if x in hdf[cols[0]].tolist() else \"\")\n",
    "copydf[[\"happiness\",\"location.country\"]]"
   ],
   "metadata": {
    "collapsed": false,
    "pycharm": {
     "name": "#%%\n"
    }
   }
  },
  {
   "cell_type": "code",
   "execution_count": 537,
   "outputs": [
    {
     "data": {
      "text/plain": "   gender name.title name.first  name.last  location.street.number  \\\n0    male         Mr      Storm     Madsen                    6771   \n1    male         Mr  Gordoslav      Bosik                    3517   \n2  female        Mrs     آرمیتا    محمدخان                    3010   \n3    male         Mr      Daryl   Chambers                    7096   \n4    male         Mr   Bilogost  Drizhenko                    7323   \n\n  location.street.name location.city    location.state location.country  \\\n0              Svinget    Randers Nø       Hovedstaden          Denmark   \n1           Pogulyanka      Ternopil  Ivano-Frankivska          Ukraine   \n2           امام خمینی         دزفول       خراسان رضوی             Iran   \n3       Spring Hill Rd     Busselton   New South Wales        Australia   \n4  Kerchenska ploshcha    Kam'yanske            Odeska          Ukraine   \n\n  location.postcode  location.coordinates.latitude  \\\n0             87306                       -46.1343   \n1             83512                        78.7516   \n2             46674                        19.8684   \n3              5724                       -87.1313   \n4             13704                        78.2755   \n\n   location.coordinates.longitude location.timezone.offset  \\\n0                        -86.6480                    -3:30   \n1                       -108.7593                    -9:00   \n2                        175.9099                    +6:00   \n3                        -77.0928                    -9:00   \n4                        -78.9680                    -2:00   \n\n  location.timezone.description                  dob.date  dob.age  happiness  \n0                  Newfoundland  1986-03-17T15:41:16.272Z       36      7.620  \n1                        Alaska  1963-07-05T17:37:05.470Z       59      4.875  \n2        Almaty, Dhaka, Colombo  1986-07-21T20:06:46.754Z       36      4.721  \n3                        Alaska  1972-04-18T18:38:04.636Z       50      7.183  \n4                  Mid-Atlantic  1950-12-08T08:21:03.631Z       71      4.875  ",
      "text/html": "<div>\n<style scoped>\n    .dataframe tbody tr th:only-of-type {\n        vertical-align: middle;\n    }\n\n    .dataframe tbody tr th {\n        vertical-align: top;\n    }\n\n    .dataframe thead th {\n        text-align: right;\n    }\n</style>\n<table border=\"1\" class=\"dataframe\">\n  <thead>\n    <tr style=\"text-align: right;\">\n      <th></th>\n      <th>gender</th>\n      <th>name.title</th>\n      <th>name.first</th>\n      <th>name.last</th>\n      <th>location.street.number</th>\n      <th>location.street.name</th>\n      <th>location.city</th>\n      <th>location.state</th>\n      <th>location.country</th>\n      <th>location.postcode</th>\n      <th>location.coordinates.latitude</th>\n      <th>location.coordinates.longitude</th>\n      <th>location.timezone.offset</th>\n      <th>location.timezone.description</th>\n      <th>dob.date</th>\n      <th>dob.age</th>\n      <th>happiness</th>\n    </tr>\n  </thead>\n  <tbody>\n    <tr>\n      <th>0</th>\n      <td>male</td>\n      <td>Mr</td>\n      <td>Storm</td>\n      <td>Madsen</td>\n      <td>6771</td>\n      <td>Svinget</td>\n      <td>Randers Nø</td>\n      <td>Hovedstaden</td>\n      <td>Denmark</td>\n      <td>87306</td>\n      <td>-46.1343</td>\n      <td>-86.6480</td>\n      <td>-3:30</td>\n      <td>Newfoundland</td>\n      <td>1986-03-17T15:41:16.272Z</td>\n      <td>36</td>\n      <td>7.620</td>\n    </tr>\n    <tr>\n      <th>1</th>\n      <td>male</td>\n      <td>Mr</td>\n      <td>Gordoslav</td>\n      <td>Bosik</td>\n      <td>3517</td>\n      <td>Pogulyanka</td>\n      <td>Ternopil</td>\n      <td>Ivano-Frankivska</td>\n      <td>Ukraine</td>\n      <td>83512</td>\n      <td>78.7516</td>\n      <td>-108.7593</td>\n      <td>-9:00</td>\n      <td>Alaska</td>\n      <td>1963-07-05T17:37:05.470Z</td>\n      <td>59</td>\n      <td>4.875</td>\n    </tr>\n    <tr>\n      <th>2</th>\n      <td>female</td>\n      <td>Mrs</td>\n      <td>آرمیتا</td>\n      <td>محمدخان</td>\n      <td>3010</td>\n      <td>امام خمینی</td>\n      <td>دزفول</td>\n      <td>خراسان رضوی</td>\n      <td>Iran</td>\n      <td>46674</td>\n      <td>19.8684</td>\n      <td>175.9099</td>\n      <td>+6:00</td>\n      <td>Almaty, Dhaka, Colombo</td>\n      <td>1986-07-21T20:06:46.754Z</td>\n      <td>36</td>\n      <td>4.721</td>\n    </tr>\n    <tr>\n      <th>3</th>\n      <td>male</td>\n      <td>Mr</td>\n      <td>Daryl</td>\n      <td>Chambers</td>\n      <td>7096</td>\n      <td>Spring Hill Rd</td>\n      <td>Busselton</td>\n      <td>New South Wales</td>\n      <td>Australia</td>\n      <td>5724</td>\n      <td>-87.1313</td>\n      <td>-77.0928</td>\n      <td>-9:00</td>\n      <td>Alaska</td>\n      <td>1972-04-18T18:38:04.636Z</td>\n      <td>50</td>\n      <td>7.183</td>\n    </tr>\n    <tr>\n      <th>4</th>\n      <td>male</td>\n      <td>Mr</td>\n      <td>Bilogost</td>\n      <td>Drizhenko</td>\n      <td>7323</td>\n      <td>Kerchenska ploshcha</td>\n      <td>Kam'yanske</td>\n      <td>Odeska</td>\n      <td>Ukraine</td>\n      <td>13704</td>\n      <td>78.2755</td>\n      <td>-78.9680</td>\n      <td>-2:00</td>\n      <td>Mid-Atlantic</td>\n      <td>1950-12-08T08:21:03.631Z</td>\n      <td>71</td>\n      <td>4.875</td>\n    </tr>\n  </tbody>\n</table>\n</div>"
     },
     "execution_count": 537,
     "metadata": {},
     "output_type": "execute_result"
    }
   ],
   "source": [
    "copydf.head()"
   ],
   "metadata": {
    "collapsed": false,
    "pycharm": {
     "name": "#%%\n"
    }
   }
  },
  {
   "cell_type": "code",
   "execution_count": 538,
   "outputs": [],
   "source": [
    "copydf[\"happiness\"] = copydf[\"happiness\"]+np.random.randint(-2,3,copydf.shape[0])"
   ],
   "metadata": {
    "collapsed": false,
    "pycharm": {
     "name": "#%%\n"
    }
   }
  },
  {
   "cell_type": "markdown",
   "source": [
    "# Filling the rest of the columns Case by Case"
   ],
   "metadata": {
    "collapsed": false,
    "pycharm": {
     "name": "#%% md\n"
    }
   }
  },
  {
   "cell_type": "code",
   "execution_count": 539,
   "outputs": [
    {
     "data": {
      "text/plain": "      name.first  happiness\n0          Storm      6.620\n1      Gordoslav      2.875\n2         آرمیتا      5.721\n3          Daryl      9.183\n4       Bilogost      6.875\n...          ...        ...\n16995    Eduardo      6.571\n16996     Olivia      5.620\n16997     Estela      4.317\n16998       Ivan      6.392\n16999       مانی      4.721\n\n[17000 rows x 2 columns]",
      "text/html": "<div>\n<style scoped>\n    .dataframe tbody tr th:only-of-type {\n        vertical-align: middle;\n    }\n\n    .dataframe tbody tr th {\n        vertical-align: top;\n    }\n\n    .dataframe thead th {\n        text-align: right;\n    }\n</style>\n<table border=\"1\" class=\"dataframe\">\n  <thead>\n    <tr style=\"text-align: right;\">\n      <th></th>\n      <th>name.first</th>\n      <th>happiness</th>\n    </tr>\n  </thead>\n  <tbody>\n    <tr>\n      <th>0</th>\n      <td>Storm</td>\n      <td>6.620</td>\n    </tr>\n    <tr>\n      <th>1</th>\n      <td>Gordoslav</td>\n      <td>2.875</td>\n    </tr>\n    <tr>\n      <th>2</th>\n      <td>آرمیتا</td>\n      <td>5.721</td>\n    </tr>\n    <tr>\n      <th>3</th>\n      <td>Daryl</td>\n      <td>9.183</td>\n    </tr>\n    <tr>\n      <th>4</th>\n      <td>Bilogost</td>\n      <td>6.875</td>\n    </tr>\n    <tr>\n      <th>...</th>\n      <td>...</td>\n      <td>...</td>\n    </tr>\n    <tr>\n      <th>16995</th>\n      <td>Eduardo</td>\n      <td>6.571</td>\n    </tr>\n    <tr>\n      <th>16996</th>\n      <td>Olivia</td>\n      <td>5.620</td>\n    </tr>\n    <tr>\n      <th>16997</th>\n      <td>Estela</td>\n      <td>4.317</td>\n    </tr>\n    <tr>\n      <th>16998</th>\n      <td>Ivan</td>\n      <td>6.392</td>\n    </tr>\n    <tr>\n      <th>16999</th>\n      <td>مانی</td>\n      <td>4.721</td>\n    </tr>\n  </tbody>\n</table>\n<p>17000 rows × 2 columns</p>\n</div>"
     },
     "execution_count": 539,
     "metadata": {},
     "output_type": "execute_result"
    }
   ],
   "source": [
    "# questionnaire = pd.read_csv(\"questionnaire.csv\")\n",
    "# # questionnaire.columns= pd.Series(questionnaire.columns).apply(lambda x: x.replace(\" \",\"_\"))\n",
    "# # questionnaire = questionnaire.drop(['Unnamed: 0'],axis=1)\n",
    "# # questionnaire= questionnaire.rename(columns={'Name_initials':'Name'})\n",
    "# questionnaire.to_csv(\"questionnaire.csv\")\n",
    "# len(questionnaire.columns.tolist())co\n",
    "copydf[copydf.columns[[2,-1]]]"
   ],
   "metadata": {
    "collapsed": false,
    "pycharm": {
     "name": "#%%\n"
    }
   }
  },
  {
   "cell_type": "code",
   "execution_count": 540,
   "outputs": [
    {
     "data": {
      "text/plain": "Empty DataFrame\nColumns: []\nIndex: []",
      "text/html": "<div>\n<style scoped>\n    .dataframe tbody tr th:only-of-type {\n        vertical-align: middle;\n    }\n\n    .dataframe tbody tr th {\n        vertical-align: top;\n    }\n\n    .dataframe thead th {\n        text-align: right;\n    }\n</style>\n<table border=\"1\" class=\"dataframe\">\n  <thead>\n    <tr style=\"text-align: right;\">\n      <th></th>\n    </tr>\n  </thead>\n  <tbody>\n  </tbody>\n</table>\n</div>"
     },
     "execution_count": 540,
     "metadata": {},
     "output_type": "execute_result"
    }
   ],
   "source": [
    "questDF= pd.DataFrame()\n",
    "questDF"
   ],
   "metadata": {
    "collapsed": false,
    "pycharm": {
     "name": "#%%\n"
    }
   }
  },
  {
   "cell_type": "markdown",
   "source": [
    "## Personal Info"
   ],
   "metadata": {
    "collapsed": false,
    "pycharm": {
     "name": "#%% md\n"
    }
   }
  },
  {
   "cell_type": "markdown",
   "source": [
    "### Name"
   ],
   "metadata": {
    "collapsed": false,
    "pycharm": {
     "name": "#%% md\n"
    }
   }
  },
  {
   "cell_type": "code",
   "execution_count": 541,
   "outputs": [
    {
     "data": {
      "text/plain": "                     Name\n0            Storm Madsen\n1         Gordoslav Bosik\n2          آرمیتا محمدخان\n3          Daryl Chambers\n4      Bilogost Drizhenko\n...                   ...\n16995       Eduardo Colin\n16996   Olivia Kristensen\n16997         Estela Rojo\n16998      Ivan Hillestad\n16999          مانی حسینی\n\n[17000 rows x 1 columns]",
      "text/html": "<div>\n<style scoped>\n    .dataframe tbody tr th:only-of-type {\n        vertical-align: middle;\n    }\n\n    .dataframe tbody tr th {\n        vertical-align: top;\n    }\n\n    .dataframe thead th {\n        text-align: right;\n    }\n</style>\n<table border=\"1\" class=\"dataframe\">\n  <thead>\n    <tr style=\"text-align: right;\">\n      <th></th>\n      <th>Name</th>\n    </tr>\n  </thead>\n  <tbody>\n    <tr>\n      <th>0</th>\n      <td>Storm Madsen</td>\n    </tr>\n    <tr>\n      <th>1</th>\n      <td>Gordoslav Bosik</td>\n    </tr>\n    <tr>\n      <th>2</th>\n      <td>آرمیتا محمدخان</td>\n    </tr>\n    <tr>\n      <th>3</th>\n      <td>Daryl Chambers</td>\n    </tr>\n    <tr>\n      <th>4</th>\n      <td>Bilogost Drizhenko</td>\n    </tr>\n    <tr>\n      <th>...</th>\n      <td>...</td>\n    </tr>\n    <tr>\n      <th>16995</th>\n      <td>Eduardo Colin</td>\n    </tr>\n    <tr>\n      <th>16996</th>\n      <td>Olivia Kristensen</td>\n    </tr>\n    <tr>\n      <th>16997</th>\n      <td>Estela Rojo</td>\n    </tr>\n    <tr>\n      <th>16998</th>\n      <td>Ivan Hillestad</td>\n    </tr>\n    <tr>\n      <th>16999</th>\n      <td>مانی حسینی</td>\n    </tr>\n  </tbody>\n</table>\n<p>17000 rows × 1 columns</p>\n</div>"
     },
     "execution_count": 541,
     "metadata": {},
     "output_type": "execute_result"
    }
   ],
   "source": [
    "columnIndex= 0\n",
    "questDF[columnIndex]= copydf['name.first']+\" \"+ copydf['name.last']\n",
    "questDF.rename(columns={columnIndex:\"Name\"}, inplace=True)\n",
    "questDF"
   ],
   "metadata": {
    "collapsed": false,
    "pycharm": {
     "name": "#%%\n"
    }
   }
  },
  {
   "cell_type": "markdown",
   "source": [
    "### Gender"
   ],
   "metadata": {
    "collapsed": false,
    "pycharm": {
     "name": "#%% md\n"
    }
   }
  },
  {
   "cell_type": "code",
   "execution_count": 542,
   "outputs": [
    {
     "data": {
      "text/plain": "                     Name  Gender\n0            Storm Madsen    male\n1         Gordoslav Bosik    male\n2          آرمیتا محمدخان  female\n3          Daryl Chambers    male\n4      Bilogost Drizhenko    male\n...                   ...     ...\n16995       Eduardo Colin    male\n16996   Olivia Kristensen  female\n16997         Estela Rojo  female\n16998      Ivan Hillestad    male\n16999          مانی حسینی    male\n\n[17000 rows x 2 columns]",
      "text/html": "<div>\n<style scoped>\n    .dataframe tbody tr th:only-of-type {\n        vertical-align: middle;\n    }\n\n    .dataframe tbody tr th {\n        vertical-align: top;\n    }\n\n    .dataframe thead th {\n        text-align: right;\n    }\n</style>\n<table border=\"1\" class=\"dataframe\">\n  <thead>\n    <tr style=\"text-align: right;\">\n      <th></th>\n      <th>Name</th>\n      <th>Gender</th>\n    </tr>\n  </thead>\n  <tbody>\n    <tr>\n      <th>0</th>\n      <td>Storm Madsen</td>\n      <td>male</td>\n    </tr>\n    <tr>\n      <th>1</th>\n      <td>Gordoslav Bosik</td>\n      <td>male</td>\n    </tr>\n    <tr>\n      <th>2</th>\n      <td>آرمیتا محمدخان</td>\n      <td>female</td>\n    </tr>\n    <tr>\n      <th>3</th>\n      <td>Daryl Chambers</td>\n      <td>male</td>\n    </tr>\n    <tr>\n      <th>4</th>\n      <td>Bilogost Drizhenko</td>\n      <td>male</td>\n    </tr>\n    <tr>\n      <th>...</th>\n      <td>...</td>\n      <td>...</td>\n    </tr>\n    <tr>\n      <th>16995</th>\n      <td>Eduardo Colin</td>\n      <td>male</td>\n    </tr>\n    <tr>\n      <th>16996</th>\n      <td>Olivia Kristensen</td>\n      <td>female</td>\n    </tr>\n    <tr>\n      <th>16997</th>\n      <td>Estela Rojo</td>\n      <td>female</td>\n    </tr>\n    <tr>\n      <th>16998</th>\n      <td>Ivan Hillestad</td>\n      <td>male</td>\n    </tr>\n    <tr>\n      <th>16999</th>\n      <td>مانی حسینی</td>\n      <td>male</td>\n    </tr>\n  </tbody>\n</table>\n<p>17000 rows × 2 columns</p>\n</div>"
     },
     "execution_count": 542,
     "metadata": {},
     "output_type": "execute_result"
    }
   ],
   "source": [
    "columnIndex= 1\n",
    "questDF[columnIndex]= copydf['gender']\n",
    "questDF.rename(columns={columnIndex:\"Gender\"}, inplace=True)\n",
    "questDF"
   ],
   "metadata": {
    "collapsed": false,
    "pycharm": {
     "name": "#%%\n"
    }
   }
  },
  {
   "cell_type": "markdown",
   "source": [
    "### Age"
   ],
   "metadata": {
    "collapsed": false,
    "pycharm": {
     "name": "#%% md\n"
    }
   }
  },
  {
   "cell_type": "code",
   "execution_count": 543,
   "outputs": [
    {
     "data": {
      "text/plain": "                     Name  Gender  Age\n0            Storm Madsen    male   36\n1         Gordoslav Bosik    male   59\n2          آرمیتا محمدخان  female   36\n3          Daryl Chambers    male   50\n4      Bilogost Drizhenko    male   71\n...                   ...     ...  ...\n16995       Eduardo Colin    male   73\n16996   Olivia Kristensen  female   27\n16997         Estela Rojo  female   67\n16998      Ivan Hillestad    male   67\n16999          مانی حسینی    male   67\n\n[17000 rows x 3 columns]",
      "text/html": "<div>\n<style scoped>\n    .dataframe tbody tr th:only-of-type {\n        vertical-align: middle;\n    }\n\n    .dataframe tbody tr th {\n        vertical-align: top;\n    }\n\n    .dataframe thead th {\n        text-align: right;\n    }\n</style>\n<table border=\"1\" class=\"dataframe\">\n  <thead>\n    <tr style=\"text-align: right;\">\n      <th></th>\n      <th>Name</th>\n      <th>Gender</th>\n      <th>Age</th>\n    </tr>\n  </thead>\n  <tbody>\n    <tr>\n      <th>0</th>\n      <td>Storm Madsen</td>\n      <td>male</td>\n      <td>36</td>\n    </tr>\n    <tr>\n      <th>1</th>\n      <td>Gordoslav Bosik</td>\n      <td>male</td>\n      <td>59</td>\n    </tr>\n    <tr>\n      <th>2</th>\n      <td>آرمیتا محمدخان</td>\n      <td>female</td>\n      <td>36</td>\n    </tr>\n    <tr>\n      <th>3</th>\n      <td>Daryl Chambers</td>\n      <td>male</td>\n      <td>50</td>\n    </tr>\n    <tr>\n      <th>4</th>\n      <td>Bilogost Drizhenko</td>\n      <td>male</td>\n      <td>71</td>\n    </tr>\n    <tr>\n      <th>...</th>\n      <td>...</td>\n      <td>...</td>\n      <td>...</td>\n    </tr>\n    <tr>\n      <th>16995</th>\n      <td>Eduardo Colin</td>\n      <td>male</td>\n      <td>73</td>\n    </tr>\n    <tr>\n      <th>16996</th>\n      <td>Olivia Kristensen</td>\n      <td>female</td>\n      <td>27</td>\n    </tr>\n    <tr>\n      <th>16997</th>\n      <td>Estela Rojo</td>\n      <td>female</td>\n      <td>67</td>\n    </tr>\n    <tr>\n      <th>16998</th>\n      <td>Ivan Hillestad</td>\n      <td>male</td>\n      <td>67</td>\n    </tr>\n    <tr>\n      <th>16999</th>\n      <td>مانی حسینی</td>\n      <td>male</td>\n      <td>67</td>\n    </tr>\n  </tbody>\n</table>\n<p>17000 rows × 3 columns</p>\n</div>"
     },
     "execution_count": 543,
     "metadata": {},
     "output_type": "execute_result"
    }
   ],
   "source": [
    "columnIndex= 2\n",
    "questDF[columnIndex]= copydf['dob.age']\n",
    "questDF.rename(columns={columnIndex:\"Age\"}, inplace=True)\n",
    "questDF"
   ],
   "metadata": {
    "collapsed": false,
    "pycharm": {
     "name": "#%%\n"
    }
   }
  },
  {
   "cell_type": "markdown",
   "source": [
    "### Ethnicity"
   ],
   "metadata": {
    "collapsed": false,
    "pycharm": {
     "name": "#%% md\n"
    }
   }
  },
  {
   "cell_type": "code",
   "execution_count": 544,
   "outputs": [
    {
     "data": {
      "text/plain": "                     Name  Gender  Age Ethnicity\n0            Storm Madsen    male   36      Arab\n1         Gordoslav Bosik    male   59     Black\n2          آرمیتا محمدخان  female   36     Black\n3          Daryl Chambers    male   50     Asian\n4      Bilogost Drizhenko    male   71     White\n...                   ...     ...  ...       ...\n16995       Eduardo Colin    male   73     Black\n16996   Olivia Kristensen  female   27     Black\n16997         Estela Rojo  female   67      Arab\n16998      Ivan Hillestad    male   67      Arab\n16999          مانی حسینی    male   67  Hispanic\n\n[17000 rows x 4 columns]",
      "text/html": "<div>\n<style scoped>\n    .dataframe tbody tr th:only-of-type {\n        vertical-align: middle;\n    }\n\n    .dataframe tbody tr th {\n        vertical-align: top;\n    }\n\n    .dataframe thead th {\n        text-align: right;\n    }\n</style>\n<table border=\"1\" class=\"dataframe\">\n  <thead>\n    <tr style=\"text-align: right;\">\n      <th></th>\n      <th>Name</th>\n      <th>Gender</th>\n      <th>Age</th>\n      <th>Ethnicity</th>\n    </tr>\n  </thead>\n  <tbody>\n    <tr>\n      <th>0</th>\n      <td>Storm Madsen</td>\n      <td>male</td>\n      <td>36</td>\n      <td>Arab</td>\n    </tr>\n    <tr>\n      <th>1</th>\n      <td>Gordoslav Bosik</td>\n      <td>male</td>\n      <td>59</td>\n      <td>Black</td>\n    </tr>\n    <tr>\n      <th>2</th>\n      <td>آرمیتا محمدخان</td>\n      <td>female</td>\n      <td>36</td>\n      <td>Black</td>\n    </tr>\n    <tr>\n      <th>3</th>\n      <td>Daryl Chambers</td>\n      <td>male</td>\n      <td>50</td>\n      <td>Asian</td>\n    </tr>\n    <tr>\n      <th>4</th>\n      <td>Bilogost Drizhenko</td>\n      <td>male</td>\n      <td>71</td>\n      <td>White</td>\n    </tr>\n    <tr>\n      <th>...</th>\n      <td>...</td>\n      <td>...</td>\n      <td>...</td>\n      <td>...</td>\n    </tr>\n    <tr>\n      <th>16995</th>\n      <td>Eduardo Colin</td>\n      <td>male</td>\n      <td>73</td>\n      <td>Black</td>\n    </tr>\n    <tr>\n      <th>16996</th>\n      <td>Olivia Kristensen</td>\n      <td>female</td>\n      <td>27</td>\n      <td>Black</td>\n    </tr>\n    <tr>\n      <th>16997</th>\n      <td>Estela Rojo</td>\n      <td>female</td>\n      <td>67</td>\n      <td>Arab</td>\n    </tr>\n    <tr>\n      <th>16998</th>\n      <td>Ivan Hillestad</td>\n      <td>male</td>\n      <td>67</td>\n      <td>Arab</td>\n    </tr>\n    <tr>\n      <th>16999</th>\n      <td>مانی حسینی</td>\n      <td>male</td>\n      <td>67</td>\n      <td>Hispanic</td>\n    </tr>\n  </tbody>\n</table>\n<p>17000 rows × 4 columns</p>\n</div>"
     },
     "execution_count": 544,
     "metadata": {},
     "output_type": "execute_result"
    }
   ],
   "source": [
    "columnIndex= 3\n",
    "ethnicities = [\"Hispanic\", \"White\", \"Black\", \"Asian\", \"Arab\"]\n",
    "questDF[columnIndex]= np.random.choice(ethnicities, questDF.shape[0])\n",
    "questDF.rename(columns={columnIndex:\"Ethnicity\"}, inplace=True)\n",
    "questDF"
   ],
   "metadata": {
    "collapsed": false,
    "pycharm": {
     "name": "#%%\n"
    }
   }
  },
  {
   "cell_type": "markdown",
   "source": [
    "## Family"
   ],
   "metadata": {
    "collapsed": false,
    "pycharm": {
     "name": "#%% md\n"
    }
   }
  },
  {
   "cell_type": "markdown",
   "source": [
    "### Family Status"
   ],
   "metadata": {
    "collapsed": false,
    "pycharm": {
     "name": "#%% md\n"
    }
   }
  },
  {
   "cell_type": "code",
   "execution_count": 545,
   "outputs": [
    {
     "data": {
      "text/plain": "                     Name  Gender  Age Ethnicity      Family_Status\n0            Storm Madsen    male   36      Arab         Abandonned\n1         Gordoslav Bosik    male   59     Black            Adopted\n2          آرمیتا محمدخان  female   36     Black    extended family\n3          Daryl Chambers    male   50     Asian        step family\n4      Bilogost Drizhenko    male   71     White  biological family\n...                   ...     ...  ...       ...                ...\n16995       Eduardo Colin    male   73     Black    extended family\n16996   Olivia Kristensen  female   27     Black            Adopted\n16997         Estela Rojo  female   67      Arab            Adopted\n16998      Ivan Hillestad    male   67      Arab            Adopted\n16999          مانی حسینی    male   67  Hispanic    extended family\n\n[17000 rows x 5 columns]",
      "text/html": "<div>\n<style scoped>\n    .dataframe tbody tr th:only-of-type {\n        vertical-align: middle;\n    }\n\n    .dataframe tbody tr th {\n        vertical-align: top;\n    }\n\n    .dataframe thead th {\n        text-align: right;\n    }\n</style>\n<table border=\"1\" class=\"dataframe\">\n  <thead>\n    <tr style=\"text-align: right;\">\n      <th></th>\n      <th>Name</th>\n      <th>Gender</th>\n      <th>Age</th>\n      <th>Ethnicity</th>\n      <th>Family_Status</th>\n    </tr>\n  </thead>\n  <tbody>\n    <tr>\n      <th>0</th>\n      <td>Storm Madsen</td>\n      <td>male</td>\n      <td>36</td>\n      <td>Arab</td>\n      <td>Abandonned</td>\n    </tr>\n    <tr>\n      <th>1</th>\n      <td>Gordoslav Bosik</td>\n      <td>male</td>\n      <td>59</td>\n      <td>Black</td>\n      <td>Adopted</td>\n    </tr>\n    <tr>\n      <th>2</th>\n      <td>آرمیتا محمدخان</td>\n      <td>female</td>\n      <td>36</td>\n      <td>Black</td>\n      <td>extended family</td>\n    </tr>\n    <tr>\n      <th>3</th>\n      <td>Daryl Chambers</td>\n      <td>male</td>\n      <td>50</td>\n      <td>Asian</td>\n      <td>step family</td>\n    </tr>\n    <tr>\n      <th>4</th>\n      <td>Bilogost Drizhenko</td>\n      <td>male</td>\n      <td>71</td>\n      <td>White</td>\n      <td>biological family</td>\n    </tr>\n    <tr>\n      <th>...</th>\n      <td>...</td>\n      <td>...</td>\n      <td>...</td>\n      <td>...</td>\n      <td>...</td>\n    </tr>\n    <tr>\n      <th>16995</th>\n      <td>Eduardo Colin</td>\n      <td>male</td>\n      <td>73</td>\n      <td>Black</td>\n      <td>extended family</td>\n    </tr>\n    <tr>\n      <th>16996</th>\n      <td>Olivia Kristensen</td>\n      <td>female</td>\n      <td>27</td>\n      <td>Black</td>\n      <td>Adopted</td>\n    </tr>\n    <tr>\n      <th>16997</th>\n      <td>Estela Rojo</td>\n      <td>female</td>\n      <td>67</td>\n      <td>Arab</td>\n      <td>Adopted</td>\n    </tr>\n    <tr>\n      <th>16998</th>\n      <td>Ivan Hillestad</td>\n      <td>male</td>\n      <td>67</td>\n      <td>Arab</td>\n      <td>Adopted</td>\n    </tr>\n    <tr>\n      <th>16999</th>\n      <td>مانی حسینی</td>\n      <td>male</td>\n      <td>67</td>\n      <td>Hispanic</td>\n      <td>extended family</td>\n    </tr>\n  </tbody>\n</table>\n<p>17000 rows × 5 columns</p>\n</div>"
     },
     "execution_count": 545,
     "metadata": {},
     "output_type": "execute_result"
    }
   ],
   "source": [
    "columnIndex= 4\n",
    "statuses = ['Abandonned', 'Adopted', 'biological family', 'step family', 'extended family']\n",
    "questDF[columnIndex]= np.random.choice(statuses, questDF.shape[0])\n",
    "questDF.rename(columns={columnIndex:\"Family_Status\"}, inplace=True)\n",
    "questDF"
   ],
   "metadata": {
    "collapsed": false,
    "pycharm": {
     "name": "#%%\n"
    }
   }
  },
  {
   "cell_type": "markdown",
   "source": [
    "### Number Of Caretakers"
   ],
   "metadata": {
    "collapsed": false,
    "pycharm": {
     "name": "#%% md\n"
    }
   }
  },
  {
   "cell_type": "code",
   "execution_count": 546,
   "outputs": [
    {
     "data": {
      "text/plain": "                     Name  Gender  Age Ethnicity      Family_Status  \\\n0            Storm Madsen    male   36      Arab         Abandonned   \n1         Gordoslav Bosik    male   59     Black            Adopted   \n2          آرمیتا محمدخان  female   36     Black    extended family   \n3          Daryl Chambers    male   50     Asian        step family   \n4      Bilogost Drizhenko    male   71     White  biological family   \n...                   ...     ...  ...       ...                ...   \n16995       Eduardo Colin    male   73     Black    extended family   \n16996   Olivia Kristensen  female   27     Black            Adopted   \n16997         Estela Rojo  female   67      Arab            Adopted   \n16998      Ivan Hillestad    male   67      Arab            Adopted   \n16999          مانی حسینی    male   67  Hispanic    extended family   \n\n       Number_Caretakers  \n0                      4  \n1                      2  \n2                      5  \n3                      3  \n4                      5  \n...                  ...  \n16995                  4  \n16996                  4  \n16997                  1  \n16998                  5  \n16999                  5  \n\n[17000 rows x 6 columns]",
      "text/html": "<div>\n<style scoped>\n    .dataframe tbody tr th:only-of-type {\n        vertical-align: middle;\n    }\n\n    .dataframe tbody tr th {\n        vertical-align: top;\n    }\n\n    .dataframe thead th {\n        text-align: right;\n    }\n</style>\n<table border=\"1\" class=\"dataframe\">\n  <thead>\n    <tr style=\"text-align: right;\">\n      <th></th>\n      <th>Name</th>\n      <th>Gender</th>\n      <th>Age</th>\n      <th>Ethnicity</th>\n      <th>Family_Status</th>\n      <th>Number_Caretakers</th>\n    </tr>\n  </thead>\n  <tbody>\n    <tr>\n      <th>0</th>\n      <td>Storm Madsen</td>\n      <td>male</td>\n      <td>36</td>\n      <td>Arab</td>\n      <td>Abandonned</td>\n      <td>4</td>\n    </tr>\n    <tr>\n      <th>1</th>\n      <td>Gordoslav Bosik</td>\n      <td>male</td>\n      <td>59</td>\n      <td>Black</td>\n      <td>Adopted</td>\n      <td>2</td>\n    </tr>\n    <tr>\n      <th>2</th>\n      <td>آرمیتا محمدخان</td>\n      <td>female</td>\n      <td>36</td>\n      <td>Black</td>\n      <td>extended family</td>\n      <td>5</td>\n    </tr>\n    <tr>\n      <th>3</th>\n      <td>Daryl Chambers</td>\n      <td>male</td>\n      <td>50</td>\n      <td>Asian</td>\n      <td>step family</td>\n      <td>3</td>\n    </tr>\n    <tr>\n      <th>4</th>\n      <td>Bilogost Drizhenko</td>\n      <td>male</td>\n      <td>71</td>\n      <td>White</td>\n      <td>biological family</td>\n      <td>5</td>\n    </tr>\n    <tr>\n      <th>...</th>\n      <td>...</td>\n      <td>...</td>\n      <td>...</td>\n      <td>...</td>\n      <td>...</td>\n      <td>...</td>\n    </tr>\n    <tr>\n      <th>16995</th>\n      <td>Eduardo Colin</td>\n      <td>male</td>\n      <td>73</td>\n      <td>Black</td>\n      <td>extended family</td>\n      <td>4</td>\n    </tr>\n    <tr>\n      <th>16996</th>\n      <td>Olivia Kristensen</td>\n      <td>female</td>\n      <td>27</td>\n      <td>Black</td>\n      <td>Adopted</td>\n      <td>4</td>\n    </tr>\n    <tr>\n      <th>16997</th>\n      <td>Estela Rojo</td>\n      <td>female</td>\n      <td>67</td>\n      <td>Arab</td>\n      <td>Adopted</td>\n      <td>1</td>\n    </tr>\n    <tr>\n      <th>16998</th>\n      <td>Ivan Hillestad</td>\n      <td>male</td>\n      <td>67</td>\n      <td>Arab</td>\n      <td>Adopted</td>\n      <td>5</td>\n    </tr>\n    <tr>\n      <th>16999</th>\n      <td>مانی حسینی</td>\n      <td>male</td>\n      <td>67</td>\n      <td>Hispanic</td>\n      <td>extended family</td>\n      <td>5</td>\n    </tr>\n  </tbody>\n</table>\n<p>17000 rows × 6 columns</p>\n</div>"
     },
     "execution_count": 546,
     "metadata": {},
     "output_type": "execute_result"
    }
   ],
   "source": [
    "columnIndex= 5\n",
    "questDF[columnIndex]= np.random.choice(list(range(1,6)), questDF.shape[0])\n",
    "questDF.rename(columns={columnIndex:\"Number_Caretakers\"}, inplace=True)\n",
    "questDF"
   ],
   "metadata": {
    "collapsed": false,
    "pycharm": {
     "name": "#%%\n"
    }
   }
  },
  {
   "cell_type": "markdown",
   "source": [],
   "metadata": {
    "collapsed": false,
    "pycharm": {
     "name": "#%% md\n"
    }
   }
  },
  {
   "cell_type": "code",
   "execution_count": 547,
   "outputs": [],
   "source": [
    "def fillState(dataframe,index,name,min=1,max=11):\n",
    "    dataframe[index]= np.random.choice(list(range(min,max)), dataframe.shape[0])\n",
    "    dataframe.rename(columns={index:name}, inplace=True)\n",
    "    return dataframe"
   ],
   "metadata": {
    "collapsed": false,
    "pycharm": {
     "name": "#%%\n"
    }
   }
  },
  {
   "cell_type": "markdown",
   "source": [
    "### State of Caretakers"
   ],
   "metadata": {
    "collapsed": false,
    "pycharm": {
     "name": "#%% md\n"
    }
   }
  },
  {
   "cell_type": "code",
   "execution_count": 548,
   "outputs": [
    {
     "data": {
      "text/plain": "                     Name  Gender  Age Ethnicity      Family_Status  \\\n0            Storm Madsen    male   36      Arab         Abandonned   \n1         Gordoslav Bosik    male   59     Black            Adopted   \n2          آرمیتا محمدخان  female   36     Black    extended family   \n3          Daryl Chambers    male   50     Asian        step family   \n4      Bilogost Drizhenko    male   71     White  biological family   \n...                   ...     ...  ...       ...                ...   \n16995       Eduardo Colin    male   73     Black    extended family   \n16996   Olivia Kristensen  female   27     Black            Adopted   \n16997         Estela Rojo  female   67      Arab            Adopted   \n16998      Ivan Hillestad    male   67      Arab            Adopted   \n16999          مانی حسینی    male   67  Hispanic    extended family   \n\n       Number_Caretakers  State_Caretakers  \n0                      4                 2  \n1                      2                10  \n2                      5                 5  \n3                      3                 4  \n4                      5                 7  \n...                  ...               ...  \n16995                  4                 9  \n16996                  4                10  \n16997                  1                 2  \n16998                  5                 1  \n16999                  5                 9  \n\n[17000 rows x 7 columns]",
      "text/html": "<div>\n<style scoped>\n    .dataframe tbody tr th:only-of-type {\n        vertical-align: middle;\n    }\n\n    .dataframe tbody tr th {\n        vertical-align: top;\n    }\n\n    .dataframe thead th {\n        text-align: right;\n    }\n</style>\n<table border=\"1\" class=\"dataframe\">\n  <thead>\n    <tr style=\"text-align: right;\">\n      <th></th>\n      <th>Name</th>\n      <th>Gender</th>\n      <th>Age</th>\n      <th>Ethnicity</th>\n      <th>Family_Status</th>\n      <th>Number_Caretakers</th>\n      <th>State_Caretakers</th>\n    </tr>\n  </thead>\n  <tbody>\n    <tr>\n      <th>0</th>\n      <td>Storm Madsen</td>\n      <td>male</td>\n      <td>36</td>\n      <td>Arab</td>\n      <td>Abandonned</td>\n      <td>4</td>\n      <td>2</td>\n    </tr>\n    <tr>\n      <th>1</th>\n      <td>Gordoslav Bosik</td>\n      <td>male</td>\n      <td>59</td>\n      <td>Black</td>\n      <td>Adopted</td>\n      <td>2</td>\n      <td>10</td>\n    </tr>\n    <tr>\n      <th>2</th>\n      <td>آرمیتا محمدخان</td>\n      <td>female</td>\n      <td>36</td>\n      <td>Black</td>\n      <td>extended family</td>\n      <td>5</td>\n      <td>5</td>\n    </tr>\n    <tr>\n      <th>3</th>\n      <td>Daryl Chambers</td>\n      <td>male</td>\n      <td>50</td>\n      <td>Asian</td>\n      <td>step family</td>\n      <td>3</td>\n      <td>4</td>\n    </tr>\n    <tr>\n      <th>4</th>\n      <td>Bilogost Drizhenko</td>\n      <td>male</td>\n      <td>71</td>\n      <td>White</td>\n      <td>biological family</td>\n      <td>5</td>\n      <td>7</td>\n    </tr>\n    <tr>\n      <th>...</th>\n      <td>...</td>\n      <td>...</td>\n      <td>...</td>\n      <td>...</td>\n      <td>...</td>\n      <td>...</td>\n      <td>...</td>\n    </tr>\n    <tr>\n      <th>16995</th>\n      <td>Eduardo Colin</td>\n      <td>male</td>\n      <td>73</td>\n      <td>Black</td>\n      <td>extended family</td>\n      <td>4</td>\n      <td>9</td>\n    </tr>\n    <tr>\n      <th>16996</th>\n      <td>Olivia Kristensen</td>\n      <td>female</td>\n      <td>27</td>\n      <td>Black</td>\n      <td>Adopted</td>\n      <td>4</td>\n      <td>10</td>\n    </tr>\n    <tr>\n      <th>16997</th>\n      <td>Estela Rojo</td>\n      <td>female</td>\n      <td>67</td>\n      <td>Arab</td>\n      <td>Adopted</td>\n      <td>1</td>\n      <td>2</td>\n    </tr>\n    <tr>\n      <th>16998</th>\n      <td>Ivan Hillestad</td>\n      <td>male</td>\n      <td>67</td>\n      <td>Arab</td>\n      <td>Adopted</td>\n      <td>5</td>\n      <td>1</td>\n    </tr>\n    <tr>\n      <th>16999</th>\n      <td>مانی حسینی</td>\n      <td>male</td>\n      <td>67</td>\n      <td>Hispanic</td>\n      <td>extended family</td>\n      <td>5</td>\n      <td>9</td>\n    </tr>\n  </tbody>\n</table>\n<p>17000 rows × 7 columns</p>\n</div>"
     },
     "execution_count": 548,
     "metadata": {},
     "output_type": "execute_result"
    }
   ],
   "source": [
    "# columnIndex= 6\n",
    "# questDF[columnIndex]= np.random.choice(list(range(1,11)), questDF.shape[0])\n",
    "# questDF.rename(columns={columnIndex:\"State_Caretakers\"}, inplace=True)\n",
    "questDF = fillState(questDF,6,\"State_Caretakers\")\n",
    "questDF"
   ],
   "metadata": {
    "collapsed": false,
    "pycharm": {
     "name": "#%%\n"
    }
   }
  },
  {
   "cell_type": "markdown",
   "source": [
    "### Number of Siblings"
   ],
   "metadata": {
    "collapsed": false,
    "pycharm": {
     "name": "#%% md\n"
    }
   }
  },
  {
   "cell_type": "code",
   "execution_count": 549,
   "outputs": [
    {
     "data": {
      "text/plain": "                     Name  Gender  Age Ethnicity      Family_Status  \\\n0            Storm Madsen    male   36      Arab         Abandonned   \n1         Gordoslav Bosik    male   59     Black            Adopted   \n2          آرمیتا محمدخان  female   36     Black    extended family   \n3          Daryl Chambers    male   50     Asian        step family   \n4      Bilogost Drizhenko    male   71     White  biological family   \n...                   ...     ...  ...       ...                ...   \n16995       Eduardo Colin    male   73     Black    extended family   \n16996   Olivia Kristensen  female   27     Black            Adopted   \n16997         Estela Rojo  female   67      Arab            Adopted   \n16998      Ivan Hillestad    male   67      Arab            Adopted   \n16999          مانی حسینی    male   67  Hispanic    extended family   \n\n       Number_Caretakers  State_Caretakers  Number_Siblings  \n0                      4                 2                2  \n1                      2                10                3  \n2                      5                 5                3  \n3                      3                 4                1  \n4                      5                 7                2  \n...                  ...               ...              ...  \n16995                  4                 9                2  \n16996                  4                10                2  \n16997                  1                 2                4  \n16998                  5                 1                2  \n16999                  5                 9                4  \n\n[17000 rows x 8 columns]",
      "text/html": "<div>\n<style scoped>\n    .dataframe tbody tr th:only-of-type {\n        vertical-align: middle;\n    }\n\n    .dataframe tbody tr th {\n        vertical-align: top;\n    }\n\n    .dataframe thead th {\n        text-align: right;\n    }\n</style>\n<table border=\"1\" class=\"dataframe\">\n  <thead>\n    <tr style=\"text-align: right;\">\n      <th></th>\n      <th>Name</th>\n      <th>Gender</th>\n      <th>Age</th>\n      <th>Ethnicity</th>\n      <th>Family_Status</th>\n      <th>Number_Caretakers</th>\n      <th>State_Caretakers</th>\n      <th>Number_Siblings</th>\n    </tr>\n  </thead>\n  <tbody>\n    <tr>\n      <th>0</th>\n      <td>Storm Madsen</td>\n      <td>male</td>\n      <td>36</td>\n      <td>Arab</td>\n      <td>Abandonned</td>\n      <td>4</td>\n      <td>2</td>\n      <td>2</td>\n    </tr>\n    <tr>\n      <th>1</th>\n      <td>Gordoslav Bosik</td>\n      <td>male</td>\n      <td>59</td>\n      <td>Black</td>\n      <td>Adopted</td>\n      <td>2</td>\n      <td>10</td>\n      <td>3</td>\n    </tr>\n    <tr>\n      <th>2</th>\n      <td>آرمیتا محمدخان</td>\n      <td>female</td>\n      <td>36</td>\n      <td>Black</td>\n      <td>extended family</td>\n      <td>5</td>\n      <td>5</td>\n      <td>3</td>\n    </tr>\n    <tr>\n      <th>3</th>\n      <td>Daryl Chambers</td>\n      <td>male</td>\n      <td>50</td>\n      <td>Asian</td>\n      <td>step family</td>\n      <td>3</td>\n      <td>4</td>\n      <td>1</td>\n    </tr>\n    <tr>\n      <th>4</th>\n      <td>Bilogost Drizhenko</td>\n      <td>male</td>\n      <td>71</td>\n      <td>White</td>\n      <td>biological family</td>\n      <td>5</td>\n      <td>7</td>\n      <td>2</td>\n    </tr>\n    <tr>\n      <th>...</th>\n      <td>...</td>\n      <td>...</td>\n      <td>...</td>\n      <td>...</td>\n      <td>...</td>\n      <td>...</td>\n      <td>...</td>\n      <td>...</td>\n    </tr>\n    <tr>\n      <th>16995</th>\n      <td>Eduardo Colin</td>\n      <td>male</td>\n      <td>73</td>\n      <td>Black</td>\n      <td>extended family</td>\n      <td>4</td>\n      <td>9</td>\n      <td>2</td>\n    </tr>\n    <tr>\n      <th>16996</th>\n      <td>Olivia Kristensen</td>\n      <td>female</td>\n      <td>27</td>\n      <td>Black</td>\n      <td>Adopted</td>\n      <td>4</td>\n      <td>10</td>\n      <td>2</td>\n    </tr>\n    <tr>\n      <th>16997</th>\n      <td>Estela Rojo</td>\n      <td>female</td>\n      <td>67</td>\n      <td>Arab</td>\n      <td>Adopted</td>\n      <td>1</td>\n      <td>2</td>\n      <td>4</td>\n    </tr>\n    <tr>\n      <th>16998</th>\n      <td>Ivan Hillestad</td>\n      <td>male</td>\n      <td>67</td>\n      <td>Arab</td>\n      <td>Adopted</td>\n      <td>5</td>\n      <td>1</td>\n      <td>2</td>\n    </tr>\n    <tr>\n      <th>16999</th>\n      <td>مانی حسینی</td>\n      <td>male</td>\n      <td>67</td>\n      <td>Hispanic</td>\n      <td>extended family</td>\n      <td>5</td>\n      <td>9</td>\n      <td>4</td>\n    </tr>\n  </tbody>\n</table>\n<p>17000 rows × 8 columns</p>\n</div>"
     },
     "execution_count": 549,
     "metadata": {},
     "output_type": "execute_result"
    }
   ],
   "source": [
    "columnIndex= 7\n",
    "questDF[columnIndex]= np.random.choice(list(range(1,5)), questDF.shape[0])\n",
    "questDF.rename(columns={columnIndex:\"Number_Siblings\"}, inplace=True)\n",
    "questDF"
   ],
   "metadata": {
    "collapsed": false,
    "pycharm": {
     "name": "#%%\n"
    }
   }
  },
  {
   "cell_type": "markdown",
   "source": [
    "### Order Among Siblings"
   ],
   "metadata": {
    "collapsed": false,
    "pycharm": {
     "name": "#%% md\n"
    }
   }
  },
  {
   "cell_type": "code",
   "execution_count": 550,
   "outputs": [
    {
     "data": {
      "text/plain": "                     Name  Gender  Age Ethnicity      Family_Status  \\\n0            Storm Madsen    male   36      Arab         Abandonned   \n1         Gordoslav Bosik    male   59     Black            Adopted   \n2          آرمیتا محمدخان  female   36     Black    extended family   \n3          Daryl Chambers    male   50     Asian        step family   \n4      Bilogost Drizhenko    male   71     White  biological family   \n...                   ...     ...  ...       ...                ...   \n16995       Eduardo Colin    male   73     Black    extended family   \n16996   Olivia Kristensen  female   27     Black            Adopted   \n16997         Estela Rojo  female   67      Arab            Adopted   \n16998      Ivan Hillestad    male   67      Arab            Adopted   \n16999          مانی حسینی    male   67  Hispanic    extended family   \n\n       Number_Caretakers  State_Caretakers  Number_Siblings  \\\n0                      4                 2                2   \n1                      2                10                3   \n2                      5                 5                3   \n3                      3                 4                1   \n4                      5                 7                2   \n...                  ...               ...              ...   \n16995                  4                 9                2   \n16996                  4                10                2   \n16997                  1                 2                4   \n16998                  5                 1                2   \n16999                  5                 9                4   \n\n       Order_Among_Siblings  \n0                         2  \n1                         2  \n2                         3  \n3                         1  \n4                         1  \n...                     ...  \n16995                     1  \n16996                     2  \n16997                     1  \n16998                     1  \n16999                     3  \n\n[17000 rows x 9 columns]",
      "text/html": "<div>\n<style scoped>\n    .dataframe tbody tr th:only-of-type {\n        vertical-align: middle;\n    }\n\n    .dataframe tbody tr th {\n        vertical-align: top;\n    }\n\n    .dataframe thead th {\n        text-align: right;\n    }\n</style>\n<table border=\"1\" class=\"dataframe\">\n  <thead>\n    <tr style=\"text-align: right;\">\n      <th></th>\n      <th>Name</th>\n      <th>Gender</th>\n      <th>Age</th>\n      <th>Ethnicity</th>\n      <th>Family_Status</th>\n      <th>Number_Caretakers</th>\n      <th>State_Caretakers</th>\n      <th>Number_Siblings</th>\n      <th>Order_Among_Siblings</th>\n    </tr>\n  </thead>\n  <tbody>\n    <tr>\n      <th>0</th>\n      <td>Storm Madsen</td>\n      <td>male</td>\n      <td>36</td>\n      <td>Arab</td>\n      <td>Abandonned</td>\n      <td>4</td>\n      <td>2</td>\n      <td>2</td>\n      <td>2</td>\n    </tr>\n    <tr>\n      <th>1</th>\n      <td>Gordoslav Bosik</td>\n      <td>male</td>\n      <td>59</td>\n      <td>Black</td>\n      <td>Adopted</td>\n      <td>2</td>\n      <td>10</td>\n      <td>3</td>\n      <td>2</td>\n    </tr>\n    <tr>\n      <th>2</th>\n      <td>آرمیتا محمدخان</td>\n      <td>female</td>\n      <td>36</td>\n      <td>Black</td>\n      <td>extended family</td>\n      <td>5</td>\n      <td>5</td>\n      <td>3</td>\n      <td>3</td>\n    </tr>\n    <tr>\n      <th>3</th>\n      <td>Daryl Chambers</td>\n      <td>male</td>\n      <td>50</td>\n      <td>Asian</td>\n      <td>step family</td>\n      <td>3</td>\n      <td>4</td>\n      <td>1</td>\n      <td>1</td>\n    </tr>\n    <tr>\n      <th>4</th>\n      <td>Bilogost Drizhenko</td>\n      <td>male</td>\n      <td>71</td>\n      <td>White</td>\n      <td>biological family</td>\n      <td>5</td>\n      <td>7</td>\n      <td>2</td>\n      <td>1</td>\n    </tr>\n    <tr>\n      <th>...</th>\n      <td>...</td>\n      <td>...</td>\n      <td>...</td>\n      <td>...</td>\n      <td>...</td>\n      <td>...</td>\n      <td>...</td>\n      <td>...</td>\n      <td>...</td>\n    </tr>\n    <tr>\n      <th>16995</th>\n      <td>Eduardo Colin</td>\n      <td>male</td>\n      <td>73</td>\n      <td>Black</td>\n      <td>extended family</td>\n      <td>4</td>\n      <td>9</td>\n      <td>2</td>\n      <td>1</td>\n    </tr>\n    <tr>\n      <th>16996</th>\n      <td>Olivia Kristensen</td>\n      <td>female</td>\n      <td>27</td>\n      <td>Black</td>\n      <td>Adopted</td>\n      <td>4</td>\n      <td>10</td>\n      <td>2</td>\n      <td>2</td>\n    </tr>\n    <tr>\n      <th>16997</th>\n      <td>Estela Rojo</td>\n      <td>female</td>\n      <td>67</td>\n      <td>Arab</td>\n      <td>Adopted</td>\n      <td>1</td>\n      <td>2</td>\n      <td>4</td>\n      <td>1</td>\n    </tr>\n    <tr>\n      <th>16998</th>\n      <td>Ivan Hillestad</td>\n      <td>male</td>\n      <td>67</td>\n      <td>Arab</td>\n      <td>Adopted</td>\n      <td>5</td>\n      <td>1</td>\n      <td>2</td>\n      <td>1</td>\n    </tr>\n    <tr>\n      <th>16999</th>\n      <td>مانی حسینی</td>\n      <td>male</td>\n      <td>67</td>\n      <td>Hispanic</td>\n      <td>extended family</td>\n      <td>5</td>\n      <td>9</td>\n      <td>4</td>\n      <td>3</td>\n    </tr>\n  </tbody>\n</table>\n<p>17000 rows × 9 columns</p>\n</div>"
     },
     "execution_count": 550,
     "metadata": {},
     "output_type": "execute_result"
    }
   ],
   "source": [
    "columnIndex= 8\n",
    "questDF[columnIndex]= questDF['Number_Siblings'].apply(lambda x: np.random.randint(1,x+1))\n",
    "questDF.rename(columns={columnIndex:\"Order_Among_Siblings\"}, inplace=True)\n",
    "questDF"
   ],
   "metadata": {
    "collapsed": false,
    "pycharm": {
     "name": "#%%\n"
    }
   }
  },
  {
   "cell_type": "markdown",
   "source": [
    "## Location"
   ],
   "metadata": {
    "collapsed": false,
    "pycharm": {
     "name": "#%% md\n"
    }
   }
  },
  {
   "cell_type": "markdown",
   "source": [
    "### State of Residence"
   ],
   "metadata": {
    "collapsed": false,
    "pycharm": {
     "name": "#%% md\n"
    }
   }
  },
  {
   "cell_type": "code",
   "execution_count": 551,
   "outputs": [
    {
     "data": {
      "text/plain": "                     Name  Gender  Age Ethnicity      Family_Status  \\\n0            Storm Madsen    male   36      Arab         Abandonned   \n1         Gordoslav Bosik    male   59     Black            Adopted   \n2          آرمیتا محمدخان  female   36     Black    extended family   \n3          Daryl Chambers    male   50     Asian        step family   \n4      Bilogost Drizhenko    male   71     White  biological family   \n...                   ...     ...  ...       ...                ...   \n16995       Eduardo Colin    male   73     Black    extended family   \n16996   Olivia Kristensen  female   27     Black            Adopted   \n16997         Estela Rojo  female   67      Arab            Adopted   \n16998      Ivan Hillestad    male   67      Arab            Adopted   \n16999          مانی حسینی    male   67  Hispanic    extended family   \n\n       Number_Caretakers  State_Caretakers  Number_Siblings  \\\n0                      4                 2                2   \n1                      2                10                3   \n2                      5                 5                3   \n3                      3                 4                1   \n4                      5                 7                2   \n...                  ...               ...              ...   \n16995                  4                 9                2   \n16996                  4                10                2   \n16997                  1                 2                4   \n16998                  5                 1                2   \n16999                  5                 9                4   \n\n       Order_Among_Siblings  State_Residence  \n0                         2                5  \n1                         2                9  \n2                         3                9  \n3                         1                6  \n4                         1                5  \n...                     ...              ...  \n16995                     1                9  \n16996                     2                9  \n16997                     1                6  \n16998                     1                9  \n16999                     3                7  \n\n[17000 rows x 10 columns]",
      "text/html": "<div>\n<style scoped>\n    .dataframe tbody tr th:only-of-type {\n        vertical-align: middle;\n    }\n\n    .dataframe tbody tr th {\n        vertical-align: top;\n    }\n\n    .dataframe thead th {\n        text-align: right;\n    }\n</style>\n<table border=\"1\" class=\"dataframe\">\n  <thead>\n    <tr style=\"text-align: right;\">\n      <th></th>\n      <th>Name</th>\n      <th>Gender</th>\n      <th>Age</th>\n      <th>Ethnicity</th>\n      <th>Family_Status</th>\n      <th>Number_Caretakers</th>\n      <th>State_Caretakers</th>\n      <th>Number_Siblings</th>\n      <th>Order_Among_Siblings</th>\n      <th>State_Residence</th>\n    </tr>\n  </thead>\n  <tbody>\n    <tr>\n      <th>0</th>\n      <td>Storm Madsen</td>\n      <td>male</td>\n      <td>36</td>\n      <td>Arab</td>\n      <td>Abandonned</td>\n      <td>4</td>\n      <td>2</td>\n      <td>2</td>\n      <td>2</td>\n      <td>5</td>\n    </tr>\n    <tr>\n      <th>1</th>\n      <td>Gordoslav Bosik</td>\n      <td>male</td>\n      <td>59</td>\n      <td>Black</td>\n      <td>Adopted</td>\n      <td>2</td>\n      <td>10</td>\n      <td>3</td>\n      <td>2</td>\n      <td>9</td>\n    </tr>\n    <tr>\n      <th>2</th>\n      <td>آرمیتا محمدخان</td>\n      <td>female</td>\n      <td>36</td>\n      <td>Black</td>\n      <td>extended family</td>\n      <td>5</td>\n      <td>5</td>\n      <td>3</td>\n      <td>3</td>\n      <td>9</td>\n    </tr>\n    <tr>\n      <th>3</th>\n      <td>Daryl Chambers</td>\n      <td>male</td>\n      <td>50</td>\n      <td>Asian</td>\n      <td>step family</td>\n      <td>3</td>\n      <td>4</td>\n      <td>1</td>\n      <td>1</td>\n      <td>6</td>\n    </tr>\n    <tr>\n      <th>4</th>\n      <td>Bilogost Drizhenko</td>\n      <td>male</td>\n      <td>71</td>\n      <td>White</td>\n      <td>biological family</td>\n      <td>5</td>\n      <td>7</td>\n      <td>2</td>\n      <td>1</td>\n      <td>5</td>\n    </tr>\n    <tr>\n      <th>...</th>\n      <td>...</td>\n      <td>...</td>\n      <td>...</td>\n      <td>...</td>\n      <td>...</td>\n      <td>...</td>\n      <td>...</td>\n      <td>...</td>\n      <td>...</td>\n      <td>...</td>\n    </tr>\n    <tr>\n      <th>16995</th>\n      <td>Eduardo Colin</td>\n      <td>male</td>\n      <td>73</td>\n      <td>Black</td>\n      <td>extended family</td>\n      <td>4</td>\n      <td>9</td>\n      <td>2</td>\n      <td>1</td>\n      <td>9</td>\n    </tr>\n    <tr>\n      <th>16996</th>\n      <td>Olivia Kristensen</td>\n      <td>female</td>\n      <td>27</td>\n      <td>Black</td>\n      <td>Adopted</td>\n      <td>4</td>\n      <td>10</td>\n      <td>2</td>\n      <td>2</td>\n      <td>9</td>\n    </tr>\n    <tr>\n      <th>16997</th>\n      <td>Estela Rojo</td>\n      <td>female</td>\n      <td>67</td>\n      <td>Arab</td>\n      <td>Adopted</td>\n      <td>1</td>\n      <td>2</td>\n      <td>4</td>\n      <td>1</td>\n      <td>6</td>\n    </tr>\n    <tr>\n      <th>16998</th>\n      <td>Ivan Hillestad</td>\n      <td>male</td>\n      <td>67</td>\n      <td>Arab</td>\n      <td>Adopted</td>\n      <td>5</td>\n      <td>1</td>\n      <td>2</td>\n      <td>1</td>\n      <td>9</td>\n    </tr>\n    <tr>\n      <th>16999</th>\n      <td>مانی حسینی</td>\n      <td>male</td>\n      <td>67</td>\n      <td>Hispanic</td>\n      <td>extended family</td>\n      <td>5</td>\n      <td>9</td>\n      <td>4</td>\n      <td>3</td>\n      <td>7</td>\n    </tr>\n  </tbody>\n</table>\n<p>17000 rows × 10 columns</p>\n</div>"
     },
     "execution_count": 551,
     "metadata": {},
     "output_type": "execute_result"
    }
   ],
   "source": [
    "questDF = fillState(questDF,9,\"State_Residence\")\n",
    "questDF"
   ],
   "metadata": {
    "collapsed": false,
    "pycharm": {
     "name": "#%%\n"
    }
   }
  },
  {
   "cell_type": "markdown",
   "source": [
    "### Country"
   ],
   "metadata": {
    "collapsed": false,
    "pycharm": {
     "name": "#%% md\n"
    }
   }
  },
  {
   "cell_type": "code",
   "execution_count": 552,
   "outputs": [
    {
     "data": {
      "text/plain": "                     Name  Gender  Age Ethnicity      Family_Status  \\\n0            Storm Madsen    male   36      Arab         Abandonned   \n1         Gordoslav Bosik    male   59     Black            Adopted   \n2          آرمیتا محمدخان  female   36     Black    extended family   \n3          Daryl Chambers    male   50     Asian        step family   \n4      Bilogost Drizhenko    male   71     White  biological family   \n...                   ...     ...  ...       ...                ...   \n16995       Eduardo Colin    male   73     Black    extended family   \n16996   Olivia Kristensen  female   27     Black            Adopted   \n16997         Estela Rojo  female   67      Arab            Adopted   \n16998      Ivan Hillestad    male   67      Arab            Adopted   \n16999          مانی حسینی    male   67  Hispanic    extended family   \n\n       Number_Caretakers  State_Caretakers  Number_Siblings  \\\n0                      4                 2                2   \n1                      2                10                3   \n2                      5                 5                3   \n3                      3                 4                1   \n4                      5                 7                2   \n...                  ...               ...              ...   \n16995                  4                 9                2   \n16996                  4                10                2   \n16997                  1                 2                4   \n16998                  5                 1                2   \n16999                  5                 9                4   \n\n       Order_Among_Siblings  State_Residence      Country  \n0                         2                5      Denmark  \n1                         2                9      Ukraine  \n2                         3                9         Iran  \n3                         1                6    Australia  \n4                         1                5      Ukraine  \n...                     ...              ...          ...  \n16995                     1                9  Switzerland  \n16996                     2                9      Denmark  \n16997                     1                6       Mexico  \n16998                     1                9       Norway  \n16999                     3                7         Iran  \n\n[17000 rows x 11 columns]",
      "text/html": "<div>\n<style scoped>\n    .dataframe tbody tr th:only-of-type {\n        vertical-align: middle;\n    }\n\n    .dataframe tbody tr th {\n        vertical-align: top;\n    }\n\n    .dataframe thead th {\n        text-align: right;\n    }\n</style>\n<table border=\"1\" class=\"dataframe\">\n  <thead>\n    <tr style=\"text-align: right;\">\n      <th></th>\n      <th>Name</th>\n      <th>Gender</th>\n      <th>Age</th>\n      <th>Ethnicity</th>\n      <th>Family_Status</th>\n      <th>Number_Caretakers</th>\n      <th>State_Caretakers</th>\n      <th>Number_Siblings</th>\n      <th>Order_Among_Siblings</th>\n      <th>State_Residence</th>\n      <th>Country</th>\n    </tr>\n  </thead>\n  <tbody>\n    <tr>\n      <th>0</th>\n      <td>Storm Madsen</td>\n      <td>male</td>\n      <td>36</td>\n      <td>Arab</td>\n      <td>Abandonned</td>\n      <td>4</td>\n      <td>2</td>\n      <td>2</td>\n      <td>2</td>\n      <td>5</td>\n      <td>Denmark</td>\n    </tr>\n    <tr>\n      <th>1</th>\n      <td>Gordoslav Bosik</td>\n      <td>male</td>\n      <td>59</td>\n      <td>Black</td>\n      <td>Adopted</td>\n      <td>2</td>\n      <td>10</td>\n      <td>3</td>\n      <td>2</td>\n      <td>9</td>\n      <td>Ukraine</td>\n    </tr>\n    <tr>\n      <th>2</th>\n      <td>آرمیتا محمدخان</td>\n      <td>female</td>\n      <td>36</td>\n      <td>Black</td>\n      <td>extended family</td>\n      <td>5</td>\n      <td>5</td>\n      <td>3</td>\n      <td>3</td>\n      <td>9</td>\n      <td>Iran</td>\n    </tr>\n    <tr>\n      <th>3</th>\n      <td>Daryl Chambers</td>\n      <td>male</td>\n      <td>50</td>\n      <td>Asian</td>\n      <td>step family</td>\n      <td>3</td>\n      <td>4</td>\n      <td>1</td>\n      <td>1</td>\n      <td>6</td>\n      <td>Australia</td>\n    </tr>\n    <tr>\n      <th>4</th>\n      <td>Bilogost Drizhenko</td>\n      <td>male</td>\n      <td>71</td>\n      <td>White</td>\n      <td>biological family</td>\n      <td>5</td>\n      <td>7</td>\n      <td>2</td>\n      <td>1</td>\n      <td>5</td>\n      <td>Ukraine</td>\n    </tr>\n    <tr>\n      <th>...</th>\n      <td>...</td>\n      <td>...</td>\n      <td>...</td>\n      <td>...</td>\n      <td>...</td>\n      <td>...</td>\n      <td>...</td>\n      <td>...</td>\n      <td>...</td>\n      <td>...</td>\n      <td>...</td>\n    </tr>\n    <tr>\n      <th>16995</th>\n      <td>Eduardo Colin</td>\n      <td>male</td>\n      <td>73</td>\n      <td>Black</td>\n      <td>extended family</td>\n      <td>4</td>\n      <td>9</td>\n      <td>2</td>\n      <td>1</td>\n      <td>9</td>\n      <td>Switzerland</td>\n    </tr>\n    <tr>\n      <th>16996</th>\n      <td>Olivia Kristensen</td>\n      <td>female</td>\n      <td>27</td>\n      <td>Black</td>\n      <td>Adopted</td>\n      <td>4</td>\n      <td>10</td>\n      <td>2</td>\n      <td>2</td>\n      <td>9</td>\n      <td>Denmark</td>\n    </tr>\n    <tr>\n      <th>16997</th>\n      <td>Estela Rojo</td>\n      <td>female</td>\n      <td>67</td>\n      <td>Arab</td>\n      <td>Adopted</td>\n      <td>1</td>\n      <td>2</td>\n      <td>4</td>\n      <td>1</td>\n      <td>6</td>\n      <td>Mexico</td>\n    </tr>\n    <tr>\n      <th>16998</th>\n      <td>Ivan Hillestad</td>\n      <td>male</td>\n      <td>67</td>\n      <td>Arab</td>\n      <td>Adopted</td>\n      <td>5</td>\n      <td>1</td>\n      <td>2</td>\n      <td>1</td>\n      <td>9</td>\n      <td>Norway</td>\n    </tr>\n    <tr>\n      <th>16999</th>\n      <td>مانی حسینی</td>\n      <td>male</td>\n      <td>67</td>\n      <td>Hispanic</td>\n      <td>extended family</td>\n      <td>5</td>\n      <td>9</td>\n      <td>4</td>\n      <td>3</td>\n      <td>7</td>\n      <td>Iran</td>\n    </tr>\n  </tbody>\n</table>\n<p>17000 rows × 11 columns</p>\n</div>"
     },
     "execution_count": 552,
     "metadata": {},
     "output_type": "execute_result"
    }
   ],
   "source": [
    "columnIndex= 10\n",
    "questDF[columnIndex]= copydf['location.country']\n",
    "questDF.rename(columns={columnIndex:\"Country\"}, inplace=True)\n",
    "questDF"
   ],
   "metadata": {
    "collapsed": false,
    "pycharm": {
     "name": "#%%\n"
    }
   }
  },
  {
   "cell_type": "markdown",
   "source": [
    "### State of Country"
   ],
   "metadata": {
    "collapsed": false,
    "pycharm": {
     "name": "#%% md\n"
    }
   }
  },
  {
   "cell_type": "code",
   "execution_count": 552,
   "outputs": [],
   "source": [],
   "metadata": {
    "collapsed": false,
    "pycharm": {
     "name": "#%%\n"
    }
   }
  },
  {
   "cell_type": "code",
   "execution_count": 553,
   "outputs": [
    {
     "data": {
      "text/plain": "0        6.620\n1        2.875\n2        5.721\n3        9.183\n4        6.875\n         ...  \n16995    6.571\n16996    5.620\n16997    4.317\n16998    6.392\n16999    4.721\nName: State_Country, Length: 17000, dtype: float64"
     },
     "execution_count": 553,
     "metadata": {},
     "output_type": "execute_result"
    }
   ],
   "source": [
    "name=\"State_Country\"\n",
    "questDF[name]= np.where(copydf[\"happiness\"]>10, 10, copydf[\"happiness\"])\n",
    "questDF[\"State_Country\"]"
   ],
   "metadata": {
    "collapsed": false,
    "pycharm": {
     "name": "#%%\n"
    }
   }
  },
  {
   "cell_type": "markdown",
   "source": [
    "### State"
   ],
   "metadata": {
    "collapsed": false,
    "pycharm": {
     "name": "#%% md\n"
    }
   }
  },
  {
   "cell_type": "code",
   "execution_count": 554,
   "outputs": [
    {
     "data": {
      "text/plain": "                     Name  Gender  Age Ethnicity      Family_Status  \\\n0            Storm Madsen    male   36      Arab         Abandonned   \n1         Gordoslav Bosik    male   59     Black            Adopted   \n2          آرمیتا محمدخان  female   36     Black    extended family   \n3          Daryl Chambers    male   50     Asian        step family   \n4      Bilogost Drizhenko    male   71     White  biological family   \n...                   ...     ...  ...       ...                ...   \n16995       Eduardo Colin    male   73     Black    extended family   \n16996   Olivia Kristensen  female   27     Black            Adopted   \n16997         Estela Rojo  female   67      Arab            Adopted   \n16998      Ivan Hillestad    male   67      Arab            Adopted   \n16999          مانی حسینی    male   67  Hispanic    extended family   \n\n       Number_Caretakers  State_Caretakers  Number_Siblings  \\\n0                      4                 2                2   \n1                      2                10                3   \n2                      5                 5                3   \n3                      3                 4                1   \n4                      5                 7                2   \n...                  ...               ...              ...   \n16995                  4                 9                2   \n16996                  4                10                2   \n16997                  1                 2                4   \n16998                  5                 1                2   \n16999                  5                 9                4   \n\n       Order_Among_Siblings  State_Residence      Country  State_Country  \\\n0                         2                5      Denmark          6.620   \n1                         2                9      Ukraine          2.875   \n2                         3                9         Iran          5.721   \n3                         1                6    Australia          9.183   \n4                         1                5      Ukraine          6.875   \n...                     ...              ...          ...            ...   \n16995                     1                9  Switzerland          6.571   \n16996                     2                9      Denmark          5.620   \n16997                     1                6       Mexico          4.317   \n16998                     1                9       Norway          6.392   \n16999                     3                7         Iran          4.721   \n\n                  State  \n0           Hovedstaden  \n1      Ivano-Frankivska  \n2           خراسان رضوی  \n3       New South Wales  \n4                Odeska  \n...                 ...  \n16995            Glarus  \n16996       Hovedstaden  \n16997  Estado de Mexico  \n16998   Møre og Romsdal  \n16999             بوشهر  \n\n[17000 rows x 13 columns]",
      "text/html": "<div>\n<style scoped>\n    .dataframe tbody tr th:only-of-type {\n        vertical-align: middle;\n    }\n\n    .dataframe tbody tr th {\n        vertical-align: top;\n    }\n\n    .dataframe thead th {\n        text-align: right;\n    }\n</style>\n<table border=\"1\" class=\"dataframe\">\n  <thead>\n    <tr style=\"text-align: right;\">\n      <th></th>\n      <th>Name</th>\n      <th>Gender</th>\n      <th>Age</th>\n      <th>Ethnicity</th>\n      <th>Family_Status</th>\n      <th>Number_Caretakers</th>\n      <th>State_Caretakers</th>\n      <th>Number_Siblings</th>\n      <th>Order_Among_Siblings</th>\n      <th>State_Residence</th>\n      <th>Country</th>\n      <th>State_Country</th>\n      <th>State</th>\n    </tr>\n  </thead>\n  <tbody>\n    <tr>\n      <th>0</th>\n      <td>Storm Madsen</td>\n      <td>male</td>\n      <td>36</td>\n      <td>Arab</td>\n      <td>Abandonned</td>\n      <td>4</td>\n      <td>2</td>\n      <td>2</td>\n      <td>2</td>\n      <td>5</td>\n      <td>Denmark</td>\n      <td>6.620</td>\n      <td>Hovedstaden</td>\n    </tr>\n    <tr>\n      <th>1</th>\n      <td>Gordoslav Bosik</td>\n      <td>male</td>\n      <td>59</td>\n      <td>Black</td>\n      <td>Adopted</td>\n      <td>2</td>\n      <td>10</td>\n      <td>3</td>\n      <td>2</td>\n      <td>9</td>\n      <td>Ukraine</td>\n      <td>2.875</td>\n      <td>Ivano-Frankivska</td>\n    </tr>\n    <tr>\n      <th>2</th>\n      <td>آرمیتا محمدخان</td>\n      <td>female</td>\n      <td>36</td>\n      <td>Black</td>\n      <td>extended family</td>\n      <td>5</td>\n      <td>5</td>\n      <td>3</td>\n      <td>3</td>\n      <td>9</td>\n      <td>Iran</td>\n      <td>5.721</td>\n      <td>خراسان رضوی</td>\n    </tr>\n    <tr>\n      <th>3</th>\n      <td>Daryl Chambers</td>\n      <td>male</td>\n      <td>50</td>\n      <td>Asian</td>\n      <td>step family</td>\n      <td>3</td>\n      <td>4</td>\n      <td>1</td>\n      <td>1</td>\n      <td>6</td>\n      <td>Australia</td>\n      <td>9.183</td>\n      <td>New South Wales</td>\n    </tr>\n    <tr>\n      <th>4</th>\n      <td>Bilogost Drizhenko</td>\n      <td>male</td>\n      <td>71</td>\n      <td>White</td>\n      <td>biological family</td>\n      <td>5</td>\n      <td>7</td>\n      <td>2</td>\n      <td>1</td>\n      <td>5</td>\n      <td>Ukraine</td>\n      <td>6.875</td>\n      <td>Odeska</td>\n    </tr>\n    <tr>\n      <th>...</th>\n      <td>...</td>\n      <td>...</td>\n      <td>...</td>\n      <td>...</td>\n      <td>...</td>\n      <td>...</td>\n      <td>...</td>\n      <td>...</td>\n      <td>...</td>\n      <td>...</td>\n      <td>...</td>\n      <td>...</td>\n      <td>...</td>\n    </tr>\n    <tr>\n      <th>16995</th>\n      <td>Eduardo Colin</td>\n      <td>male</td>\n      <td>73</td>\n      <td>Black</td>\n      <td>extended family</td>\n      <td>4</td>\n      <td>9</td>\n      <td>2</td>\n      <td>1</td>\n      <td>9</td>\n      <td>Switzerland</td>\n      <td>6.571</td>\n      <td>Glarus</td>\n    </tr>\n    <tr>\n      <th>16996</th>\n      <td>Olivia Kristensen</td>\n      <td>female</td>\n      <td>27</td>\n      <td>Black</td>\n      <td>Adopted</td>\n      <td>4</td>\n      <td>10</td>\n      <td>2</td>\n      <td>2</td>\n      <td>9</td>\n      <td>Denmark</td>\n      <td>5.620</td>\n      <td>Hovedstaden</td>\n    </tr>\n    <tr>\n      <th>16997</th>\n      <td>Estela Rojo</td>\n      <td>female</td>\n      <td>67</td>\n      <td>Arab</td>\n      <td>Adopted</td>\n      <td>1</td>\n      <td>2</td>\n      <td>4</td>\n      <td>1</td>\n      <td>6</td>\n      <td>Mexico</td>\n      <td>4.317</td>\n      <td>Estado de Mexico</td>\n    </tr>\n    <tr>\n      <th>16998</th>\n      <td>Ivan Hillestad</td>\n      <td>male</td>\n      <td>67</td>\n      <td>Arab</td>\n      <td>Adopted</td>\n      <td>5</td>\n      <td>1</td>\n      <td>2</td>\n      <td>1</td>\n      <td>9</td>\n      <td>Norway</td>\n      <td>6.392</td>\n      <td>Møre og Romsdal</td>\n    </tr>\n    <tr>\n      <th>16999</th>\n      <td>مانی حسینی</td>\n      <td>male</td>\n      <td>67</td>\n      <td>Hispanic</td>\n      <td>extended family</td>\n      <td>5</td>\n      <td>9</td>\n      <td>4</td>\n      <td>3</td>\n      <td>7</td>\n      <td>Iran</td>\n      <td>4.721</td>\n      <td>بوشهر</td>\n    </tr>\n  </tbody>\n</table>\n<p>17000 rows × 13 columns</p>\n</div>"
     },
     "execution_count": 554,
     "metadata": {},
     "output_type": "execute_result"
    }
   ],
   "source": [
    "columnIndex= 12\n",
    "questDF[columnIndex]= copydf['location.state']\n",
    "questDF.rename(columns={columnIndex:\"State\"}, inplace=True)\n",
    "questDF"
   ],
   "metadata": {
    "collapsed": false,
    "pycharm": {
     "name": "#%%\n"
    }
   }
  },
  {
   "cell_type": "markdown",
   "source": [
    "### State Of State"
   ],
   "metadata": {
    "collapsed": false,
    "pycharm": {
     "name": "#%% md\n"
    }
   }
  },
  {
   "cell_type": "code",
   "execution_count": 555,
   "outputs": [
    {
     "data": {
      "text/plain": "                     Name  Gender  Age Ethnicity      Family_Status  \\\n0            Storm Madsen    male   36      Arab         Abandonned   \n1         Gordoslav Bosik    male   59     Black            Adopted   \n2          آرمیتا محمدخان  female   36     Black    extended family   \n3          Daryl Chambers    male   50     Asian        step family   \n4      Bilogost Drizhenko    male   71     White  biological family   \n...                   ...     ...  ...       ...                ...   \n16995       Eduardo Colin    male   73     Black    extended family   \n16996   Olivia Kristensen  female   27     Black            Adopted   \n16997         Estela Rojo  female   67      Arab            Adopted   \n16998      Ivan Hillestad    male   67      Arab            Adopted   \n16999          مانی حسینی    male   67  Hispanic    extended family   \n\n       Number_Caretakers  State_Caretakers  Number_Siblings  \\\n0                      4                 2                2   \n1                      2                10                3   \n2                      5                 5                3   \n3                      3                 4                1   \n4                      5                 7                2   \n...                  ...               ...              ...   \n16995                  4                 9                2   \n16996                  4                10                2   \n16997                  1                 2                4   \n16998                  5                 1                2   \n16999                  5                 9                4   \n\n       Order_Among_Siblings  State_Residence      Country  State_Country  \\\n0                         2                5      Denmark          6.620   \n1                         2                9      Ukraine          2.875   \n2                         3                9         Iran          5.721   \n3                         1                6    Australia          9.183   \n4                         1                5      Ukraine          6.875   \n...                     ...              ...          ...            ...   \n16995                     1                9  Switzerland          6.571   \n16996                     2                9      Denmark          5.620   \n16997                     1                6       Mexico          4.317   \n16998                     1                9       Norway          6.392   \n16999                     3                7         Iran          4.721   \n\n                  State  State_State  \n0           Hovedstaden            2  \n1      Ivano-Frankivska            1  \n2           خراسان رضوی            4  \n3       New South Wales            4  \n4                Odeska            4  \n...                 ...          ...  \n16995            Glarus            2  \n16996       Hovedstaden            5  \n16997  Estado de Mexico            1  \n16998   Møre og Romsdal            4  \n16999             بوشهر            1  \n\n[17000 rows x 14 columns]",
      "text/html": "<div>\n<style scoped>\n    .dataframe tbody tr th:only-of-type {\n        vertical-align: middle;\n    }\n\n    .dataframe tbody tr th {\n        vertical-align: top;\n    }\n\n    .dataframe thead th {\n        text-align: right;\n    }\n</style>\n<table border=\"1\" class=\"dataframe\">\n  <thead>\n    <tr style=\"text-align: right;\">\n      <th></th>\n      <th>Name</th>\n      <th>Gender</th>\n      <th>Age</th>\n      <th>Ethnicity</th>\n      <th>Family_Status</th>\n      <th>Number_Caretakers</th>\n      <th>State_Caretakers</th>\n      <th>Number_Siblings</th>\n      <th>Order_Among_Siblings</th>\n      <th>State_Residence</th>\n      <th>Country</th>\n      <th>State_Country</th>\n      <th>State</th>\n      <th>State_State</th>\n    </tr>\n  </thead>\n  <tbody>\n    <tr>\n      <th>0</th>\n      <td>Storm Madsen</td>\n      <td>male</td>\n      <td>36</td>\n      <td>Arab</td>\n      <td>Abandonned</td>\n      <td>4</td>\n      <td>2</td>\n      <td>2</td>\n      <td>2</td>\n      <td>5</td>\n      <td>Denmark</td>\n      <td>6.620</td>\n      <td>Hovedstaden</td>\n      <td>2</td>\n    </tr>\n    <tr>\n      <th>1</th>\n      <td>Gordoslav Bosik</td>\n      <td>male</td>\n      <td>59</td>\n      <td>Black</td>\n      <td>Adopted</td>\n      <td>2</td>\n      <td>10</td>\n      <td>3</td>\n      <td>2</td>\n      <td>9</td>\n      <td>Ukraine</td>\n      <td>2.875</td>\n      <td>Ivano-Frankivska</td>\n      <td>1</td>\n    </tr>\n    <tr>\n      <th>2</th>\n      <td>آرمیتا محمدخان</td>\n      <td>female</td>\n      <td>36</td>\n      <td>Black</td>\n      <td>extended family</td>\n      <td>5</td>\n      <td>5</td>\n      <td>3</td>\n      <td>3</td>\n      <td>9</td>\n      <td>Iran</td>\n      <td>5.721</td>\n      <td>خراسان رضوی</td>\n      <td>4</td>\n    </tr>\n    <tr>\n      <th>3</th>\n      <td>Daryl Chambers</td>\n      <td>male</td>\n      <td>50</td>\n      <td>Asian</td>\n      <td>step family</td>\n      <td>3</td>\n      <td>4</td>\n      <td>1</td>\n      <td>1</td>\n      <td>6</td>\n      <td>Australia</td>\n      <td>9.183</td>\n      <td>New South Wales</td>\n      <td>4</td>\n    </tr>\n    <tr>\n      <th>4</th>\n      <td>Bilogost Drizhenko</td>\n      <td>male</td>\n      <td>71</td>\n      <td>White</td>\n      <td>biological family</td>\n      <td>5</td>\n      <td>7</td>\n      <td>2</td>\n      <td>1</td>\n      <td>5</td>\n      <td>Ukraine</td>\n      <td>6.875</td>\n      <td>Odeska</td>\n      <td>4</td>\n    </tr>\n    <tr>\n      <th>...</th>\n      <td>...</td>\n      <td>...</td>\n      <td>...</td>\n      <td>...</td>\n      <td>...</td>\n      <td>...</td>\n      <td>...</td>\n      <td>...</td>\n      <td>...</td>\n      <td>...</td>\n      <td>...</td>\n      <td>...</td>\n      <td>...</td>\n      <td>...</td>\n    </tr>\n    <tr>\n      <th>16995</th>\n      <td>Eduardo Colin</td>\n      <td>male</td>\n      <td>73</td>\n      <td>Black</td>\n      <td>extended family</td>\n      <td>4</td>\n      <td>9</td>\n      <td>2</td>\n      <td>1</td>\n      <td>9</td>\n      <td>Switzerland</td>\n      <td>6.571</td>\n      <td>Glarus</td>\n      <td>2</td>\n    </tr>\n    <tr>\n      <th>16996</th>\n      <td>Olivia Kristensen</td>\n      <td>female</td>\n      <td>27</td>\n      <td>Black</td>\n      <td>Adopted</td>\n      <td>4</td>\n      <td>10</td>\n      <td>2</td>\n      <td>2</td>\n      <td>9</td>\n      <td>Denmark</td>\n      <td>5.620</td>\n      <td>Hovedstaden</td>\n      <td>5</td>\n    </tr>\n    <tr>\n      <th>16997</th>\n      <td>Estela Rojo</td>\n      <td>female</td>\n      <td>67</td>\n      <td>Arab</td>\n      <td>Adopted</td>\n      <td>1</td>\n      <td>2</td>\n      <td>4</td>\n      <td>1</td>\n      <td>6</td>\n      <td>Mexico</td>\n      <td>4.317</td>\n      <td>Estado de Mexico</td>\n      <td>1</td>\n    </tr>\n    <tr>\n      <th>16998</th>\n      <td>Ivan Hillestad</td>\n      <td>male</td>\n      <td>67</td>\n      <td>Arab</td>\n      <td>Adopted</td>\n      <td>5</td>\n      <td>1</td>\n      <td>2</td>\n      <td>1</td>\n      <td>9</td>\n      <td>Norway</td>\n      <td>6.392</td>\n      <td>Møre og Romsdal</td>\n      <td>4</td>\n    </tr>\n    <tr>\n      <th>16999</th>\n      <td>مانی حسینی</td>\n      <td>male</td>\n      <td>67</td>\n      <td>Hispanic</td>\n      <td>extended family</td>\n      <td>5</td>\n      <td>9</td>\n      <td>4</td>\n      <td>3</td>\n      <td>7</td>\n      <td>Iran</td>\n      <td>4.721</td>\n      <td>بوشهر</td>\n      <td>1</td>\n    </tr>\n  </tbody>\n</table>\n<p>17000 rows × 14 columns</p>\n</div>"
     },
     "execution_count": 555,
     "metadata": {},
     "output_type": "execute_result"
    }
   ],
   "source": [
    "columnIndex=13\n",
    "questDF[columnIndex]= questDF['State_Country'].apply(lambda x: np.random.randint(1,x+1))\n",
    "questDF.rename(columns={columnIndex:\"State_State\"}, inplace=True)\n",
    "questDF"
   ],
   "metadata": {
    "collapsed": false,
    "pycharm": {
     "name": "#%%\n"
    }
   }
  },
  {
   "cell_type": "markdown",
   "source": [
    "## Education\n",
    "### State Of School"
   ],
   "metadata": {
    "collapsed": false,
    "pycharm": {
     "name": "#%% md\n"
    }
   }
  },
  {
   "cell_type": "code",
   "execution_count": 556,
   "outputs": [
    {
     "data": {
      "text/plain": "                     Name  Gender  Age Ethnicity      Family_Status  \\\n0            Storm Madsen    male   36      Arab         Abandonned   \n1         Gordoslav Bosik    male   59     Black            Adopted   \n2          آرمیتا محمدخان  female   36     Black    extended family   \n3          Daryl Chambers    male   50     Asian        step family   \n4      Bilogost Drizhenko    male   71     White  biological family   \n...                   ...     ...  ...       ...                ...   \n16995       Eduardo Colin    male   73     Black    extended family   \n16996   Olivia Kristensen  female   27     Black            Adopted   \n16997         Estela Rojo  female   67      Arab            Adopted   \n16998      Ivan Hillestad    male   67      Arab            Adopted   \n16999          مانی حسینی    male   67  Hispanic    extended family   \n\n       Number_Caretakers  State_Caretakers  Number_Siblings  \\\n0                      4                 2                2   \n1                      2                10                3   \n2                      5                 5                3   \n3                      3                 4                1   \n4                      5                 7                2   \n...                  ...               ...              ...   \n16995                  4                 9                2   \n16996                  4                10                2   \n16997                  1                 2                4   \n16998                  5                 1                2   \n16999                  5                 9                4   \n\n       Order_Among_Siblings  State_Residence      Country  State_Country  \\\n0                         2                5      Denmark          6.620   \n1                         2                9      Ukraine          2.875   \n2                         3                9         Iran          5.721   \n3                         1                6    Australia          9.183   \n4                         1                5      Ukraine          6.875   \n...                     ...              ...          ...            ...   \n16995                     1                9  Switzerland          6.571   \n16996                     2                9      Denmark          5.620   \n16997                     1                6       Mexico          4.317   \n16998                     1                9       Norway          6.392   \n16999                     3                7         Iran          4.721   \n\n                  State  State_State  State_School  \n0           Hovedstaden            2             7  \n1      Ivano-Frankivska            1             3  \n2           خراسان رضوی            4             7  \n3       New South Wales            4             4  \n4                Odeska            4             4  \n...                 ...          ...           ...  \n16995            Glarus            2             2  \n16996       Hovedstaden            5             9  \n16997  Estado de Mexico            1             9  \n16998   Møre og Romsdal            4            10  \n16999             بوشهر            1             8  \n\n[17000 rows x 15 columns]",
      "text/html": "<div>\n<style scoped>\n    .dataframe tbody tr th:only-of-type {\n        vertical-align: middle;\n    }\n\n    .dataframe tbody tr th {\n        vertical-align: top;\n    }\n\n    .dataframe thead th {\n        text-align: right;\n    }\n</style>\n<table border=\"1\" class=\"dataframe\">\n  <thead>\n    <tr style=\"text-align: right;\">\n      <th></th>\n      <th>Name</th>\n      <th>Gender</th>\n      <th>Age</th>\n      <th>Ethnicity</th>\n      <th>Family_Status</th>\n      <th>Number_Caretakers</th>\n      <th>State_Caretakers</th>\n      <th>Number_Siblings</th>\n      <th>Order_Among_Siblings</th>\n      <th>State_Residence</th>\n      <th>Country</th>\n      <th>State_Country</th>\n      <th>State</th>\n      <th>State_State</th>\n      <th>State_School</th>\n    </tr>\n  </thead>\n  <tbody>\n    <tr>\n      <th>0</th>\n      <td>Storm Madsen</td>\n      <td>male</td>\n      <td>36</td>\n      <td>Arab</td>\n      <td>Abandonned</td>\n      <td>4</td>\n      <td>2</td>\n      <td>2</td>\n      <td>2</td>\n      <td>5</td>\n      <td>Denmark</td>\n      <td>6.620</td>\n      <td>Hovedstaden</td>\n      <td>2</td>\n      <td>7</td>\n    </tr>\n    <tr>\n      <th>1</th>\n      <td>Gordoslav Bosik</td>\n      <td>male</td>\n      <td>59</td>\n      <td>Black</td>\n      <td>Adopted</td>\n      <td>2</td>\n      <td>10</td>\n      <td>3</td>\n      <td>2</td>\n      <td>9</td>\n      <td>Ukraine</td>\n      <td>2.875</td>\n      <td>Ivano-Frankivska</td>\n      <td>1</td>\n      <td>3</td>\n    </tr>\n    <tr>\n      <th>2</th>\n      <td>آرمیتا محمدخان</td>\n      <td>female</td>\n      <td>36</td>\n      <td>Black</td>\n      <td>extended family</td>\n      <td>5</td>\n      <td>5</td>\n      <td>3</td>\n      <td>3</td>\n      <td>9</td>\n      <td>Iran</td>\n      <td>5.721</td>\n      <td>خراسان رضوی</td>\n      <td>4</td>\n      <td>7</td>\n    </tr>\n    <tr>\n      <th>3</th>\n      <td>Daryl Chambers</td>\n      <td>male</td>\n      <td>50</td>\n      <td>Asian</td>\n      <td>step family</td>\n      <td>3</td>\n      <td>4</td>\n      <td>1</td>\n      <td>1</td>\n      <td>6</td>\n      <td>Australia</td>\n      <td>9.183</td>\n      <td>New South Wales</td>\n      <td>4</td>\n      <td>4</td>\n    </tr>\n    <tr>\n      <th>4</th>\n      <td>Bilogost Drizhenko</td>\n      <td>male</td>\n      <td>71</td>\n      <td>White</td>\n      <td>biological family</td>\n      <td>5</td>\n      <td>7</td>\n      <td>2</td>\n      <td>1</td>\n      <td>5</td>\n      <td>Ukraine</td>\n      <td>6.875</td>\n      <td>Odeska</td>\n      <td>4</td>\n      <td>4</td>\n    </tr>\n    <tr>\n      <th>...</th>\n      <td>...</td>\n      <td>...</td>\n      <td>...</td>\n      <td>...</td>\n      <td>...</td>\n      <td>...</td>\n      <td>...</td>\n      <td>...</td>\n      <td>...</td>\n      <td>...</td>\n      <td>...</td>\n      <td>...</td>\n      <td>...</td>\n      <td>...</td>\n      <td>...</td>\n    </tr>\n    <tr>\n      <th>16995</th>\n      <td>Eduardo Colin</td>\n      <td>male</td>\n      <td>73</td>\n      <td>Black</td>\n      <td>extended family</td>\n      <td>4</td>\n      <td>9</td>\n      <td>2</td>\n      <td>1</td>\n      <td>9</td>\n      <td>Switzerland</td>\n      <td>6.571</td>\n      <td>Glarus</td>\n      <td>2</td>\n      <td>2</td>\n    </tr>\n    <tr>\n      <th>16996</th>\n      <td>Olivia Kristensen</td>\n      <td>female</td>\n      <td>27</td>\n      <td>Black</td>\n      <td>Adopted</td>\n      <td>4</td>\n      <td>10</td>\n      <td>2</td>\n      <td>2</td>\n      <td>9</td>\n      <td>Denmark</td>\n      <td>5.620</td>\n      <td>Hovedstaden</td>\n      <td>5</td>\n      <td>9</td>\n    </tr>\n    <tr>\n      <th>16997</th>\n      <td>Estela Rojo</td>\n      <td>female</td>\n      <td>67</td>\n      <td>Arab</td>\n      <td>Adopted</td>\n      <td>1</td>\n      <td>2</td>\n      <td>4</td>\n      <td>1</td>\n      <td>6</td>\n      <td>Mexico</td>\n      <td>4.317</td>\n      <td>Estado de Mexico</td>\n      <td>1</td>\n      <td>9</td>\n    </tr>\n    <tr>\n      <th>16998</th>\n      <td>Ivan Hillestad</td>\n      <td>male</td>\n      <td>67</td>\n      <td>Arab</td>\n      <td>Adopted</td>\n      <td>5</td>\n      <td>1</td>\n      <td>2</td>\n      <td>1</td>\n      <td>9</td>\n      <td>Norway</td>\n      <td>6.392</td>\n      <td>Møre og Romsdal</td>\n      <td>4</td>\n      <td>10</td>\n    </tr>\n    <tr>\n      <th>16999</th>\n      <td>مانی حسینی</td>\n      <td>male</td>\n      <td>67</td>\n      <td>Hispanic</td>\n      <td>extended family</td>\n      <td>5</td>\n      <td>9</td>\n      <td>4</td>\n      <td>3</td>\n      <td>7</td>\n      <td>Iran</td>\n      <td>4.721</td>\n      <td>بوشهر</td>\n      <td>1</td>\n      <td>8</td>\n    </tr>\n  </tbody>\n</table>\n<p>17000 rows × 15 columns</p>\n</div>"
     },
     "execution_count": 556,
     "metadata": {},
     "output_type": "execute_result"
    }
   ],
   "source": [
    "questDF= fillState(questDF,14,\"State_School\")\n",
    "questDF"
   ],
   "metadata": {
    "collapsed": false,
    "pycharm": {
     "name": "#%%\n"
    }
   }
  },
  {
   "cell_type": "markdown",
   "source": [
    "### State Teachers"
   ],
   "metadata": {
    "collapsed": false,
    "pycharm": {
     "name": "#%% md\n"
    }
   }
  },
  {
   "cell_type": "code",
   "execution_count": 557,
   "outputs": [
    {
     "data": {
      "text/plain": "                     Name  Gender  Age Ethnicity      Family_Status  \\\n0            Storm Madsen    male   36      Arab         Abandonned   \n1         Gordoslav Bosik    male   59     Black            Adopted   \n2          آرمیتا محمدخان  female   36     Black    extended family   \n3          Daryl Chambers    male   50     Asian        step family   \n4      Bilogost Drizhenko    male   71     White  biological family   \n...                   ...     ...  ...       ...                ...   \n16995       Eduardo Colin    male   73     Black    extended family   \n16996   Olivia Kristensen  female   27     Black            Adopted   \n16997         Estela Rojo  female   67      Arab            Adopted   \n16998      Ivan Hillestad    male   67      Arab            Adopted   \n16999          مانی حسینی    male   67  Hispanic    extended family   \n\n       Number_Caretakers  State_Caretakers  Number_Siblings  \\\n0                      4                 2                2   \n1                      2                10                3   \n2                      5                 5                3   \n3                      3                 4                1   \n4                      5                 7                2   \n...                  ...               ...              ...   \n16995                  4                 9                2   \n16996                  4                10                2   \n16997                  1                 2                4   \n16998                  5                 1                2   \n16999                  5                 9                4   \n\n       Order_Among_Siblings  State_Residence      Country  State_Country  \\\n0                         2                5      Denmark          6.620   \n1                         2                9      Ukraine          2.875   \n2                         3                9         Iran          5.721   \n3                         1                6    Australia          9.183   \n4                         1                5      Ukraine          6.875   \n...                     ...              ...          ...            ...   \n16995                     1                9  Switzerland          6.571   \n16996                     2                9      Denmark          5.620   \n16997                     1                6       Mexico          4.317   \n16998                     1                9       Norway          6.392   \n16999                     3                7         Iran          4.721   \n\n                  State  State_State  State_School  State_Teachers  \n0           Hovedstaden            2             7               3  \n1      Ivano-Frankivska            1             3               4  \n2           خراسان رضوی            4             7               4  \n3       New South Wales            4             4               7  \n4                Odeska            4             4               6  \n...                 ...          ...           ...             ...  \n16995            Glarus            2             2               7  \n16996       Hovedstaden            5             9               5  \n16997  Estado de Mexico            1             9               2  \n16998   Møre og Romsdal            4            10               4  \n16999             بوشهر            1             8               5  \n\n[17000 rows x 16 columns]",
      "text/html": "<div>\n<style scoped>\n    .dataframe tbody tr th:only-of-type {\n        vertical-align: middle;\n    }\n\n    .dataframe tbody tr th {\n        vertical-align: top;\n    }\n\n    .dataframe thead th {\n        text-align: right;\n    }\n</style>\n<table border=\"1\" class=\"dataframe\">\n  <thead>\n    <tr style=\"text-align: right;\">\n      <th></th>\n      <th>Name</th>\n      <th>Gender</th>\n      <th>Age</th>\n      <th>Ethnicity</th>\n      <th>Family_Status</th>\n      <th>Number_Caretakers</th>\n      <th>State_Caretakers</th>\n      <th>Number_Siblings</th>\n      <th>Order_Among_Siblings</th>\n      <th>State_Residence</th>\n      <th>Country</th>\n      <th>State_Country</th>\n      <th>State</th>\n      <th>State_State</th>\n      <th>State_School</th>\n      <th>State_Teachers</th>\n    </tr>\n  </thead>\n  <tbody>\n    <tr>\n      <th>0</th>\n      <td>Storm Madsen</td>\n      <td>male</td>\n      <td>36</td>\n      <td>Arab</td>\n      <td>Abandonned</td>\n      <td>4</td>\n      <td>2</td>\n      <td>2</td>\n      <td>2</td>\n      <td>5</td>\n      <td>Denmark</td>\n      <td>6.620</td>\n      <td>Hovedstaden</td>\n      <td>2</td>\n      <td>7</td>\n      <td>3</td>\n    </tr>\n    <tr>\n      <th>1</th>\n      <td>Gordoslav Bosik</td>\n      <td>male</td>\n      <td>59</td>\n      <td>Black</td>\n      <td>Adopted</td>\n      <td>2</td>\n      <td>10</td>\n      <td>3</td>\n      <td>2</td>\n      <td>9</td>\n      <td>Ukraine</td>\n      <td>2.875</td>\n      <td>Ivano-Frankivska</td>\n      <td>1</td>\n      <td>3</td>\n      <td>4</td>\n    </tr>\n    <tr>\n      <th>2</th>\n      <td>آرمیتا محمدخان</td>\n      <td>female</td>\n      <td>36</td>\n      <td>Black</td>\n      <td>extended family</td>\n      <td>5</td>\n      <td>5</td>\n      <td>3</td>\n      <td>3</td>\n      <td>9</td>\n      <td>Iran</td>\n      <td>5.721</td>\n      <td>خراسان رضوی</td>\n      <td>4</td>\n      <td>7</td>\n      <td>4</td>\n    </tr>\n    <tr>\n      <th>3</th>\n      <td>Daryl Chambers</td>\n      <td>male</td>\n      <td>50</td>\n      <td>Asian</td>\n      <td>step family</td>\n      <td>3</td>\n      <td>4</td>\n      <td>1</td>\n      <td>1</td>\n      <td>6</td>\n      <td>Australia</td>\n      <td>9.183</td>\n      <td>New South Wales</td>\n      <td>4</td>\n      <td>4</td>\n      <td>7</td>\n    </tr>\n    <tr>\n      <th>4</th>\n      <td>Bilogost Drizhenko</td>\n      <td>male</td>\n      <td>71</td>\n      <td>White</td>\n      <td>biological family</td>\n      <td>5</td>\n      <td>7</td>\n      <td>2</td>\n      <td>1</td>\n      <td>5</td>\n      <td>Ukraine</td>\n      <td>6.875</td>\n      <td>Odeska</td>\n      <td>4</td>\n      <td>4</td>\n      <td>6</td>\n    </tr>\n    <tr>\n      <th>...</th>\n      <td>...</td>\n      <td>...</td>\n      <td>...</td>\n      <td>...</td>\n      <td>...</td>\n      <td>...</td>\n      <td>...</td>\n      <td>...</td>\n      <td>...</td>\n      <td>...</td>\n      <td>...</td>\n      <td>...</td>\n      <td>...</td>\n      <td>...</td>\n      <td>...</td>\n      <td>...</td>\n    </tr>\n    <tr>\n      <th>16995</th>\n      <td>Eduardo Colin</td>\n      <td>male</td>\n      <td>73</td>\n      <td>Black</td>\n      <td>extended family</td>\n      <td>4</td>\n      <td>9</td>\n      <td>2</td>\n      <td>1</td>\n      <td>9</td>\n      <td>Switzerland</td>\n      <td>6.571</td>\n      <td>Glarus</td>\n      <td>2</td>\n      <td>2</td>\n      <td>7</td>\n    </tr>\n    <tr>\n      <th>16996</th>\n      <td>Olivia Kristensen</td>\n      <td>female</td>\n      <td>27</td>\n      <td>Black</td>\n      <td>Adopted</td>\n      <td>4</td>\n      <td>10</td>\n      <td>2</td>\n      <td>2</td>\n      <td>9</td>\n      <td>Denmark</td>\n      <td>5.620</td>\n      <td>Hovedstaden</td>\n      <td>5</td>\n      <td>9</td>\n      <td>5</td>\n    </tr>\n    <tr>\n      <th>16997</th>\n      <td>Estela Rojo</td>\n      <td>female</td>\n      <td>67</td>\n      <td>Arab</td>\n      <td>Adopted</td>\n      <td>1</td>\n      <td>2</td>\n      <td>4</td>\n      <td>1</td>\n      <td>6</td>\n      <td>Mexico</td>\n      <td>4.317</td>\n      <td>Estado de Mexico</td>\n      <td>1</td>\n      <td>9</td>\n      <td>2</td>\n    </tr>\n    <tr>\n      <th>16998</th>\n      <td>Ivan Hillestad</td>\n      <td>male</td>\n      <td>67</td>\n      <td>Arab</td>\n      <td>Adopted</td>\n      <td>5</td>\n      <td>1</td>\n      <td>2</td>\n      <td>1</td>\n      <td>9</td>\n      <td>Norway</td>\n      <td>6.392</td>\n      <td>Møre og Romsdal</td>\n      <td>4</td>\n      <td>10</td>\n      <td>4</td>\n    </tr>\n    <tr>\n      <th>16999</th>\n      <td>مانی حسینی</td>\n      <td>male</td>\n      <td>67</td>\n      <td>Hispanic</td>\n      <td>extended family</td>\n      <td>5</td>\n      <td>9</td>\n      <td>4</td>\n      <td>3</td>\n      <td>7</td>\n      <td>Iran</td>\n      <td>4.721</td>\n      <td>بوشهر</td>\n      <td>1</td>\n      <td>8</td>\n      <td>5</td>\n    </tr>\n  </tbody>\n</table>\n<p>17000 rows × 16 columns</p>\n</div>"
     },
     "execution_count": 557,
     "metadata": {},
     "output_type": "execute_result"
    }
   ],
   "source": [
    "questDF= fillState(questDF,15, \"State_Teachers\")\n",
    "questDF"
   ],
   "metadata": {
    "collapsed": false,
    "pycharm": {
     "name": "#%%\n"
    }
   }
  },
  {
   "cell_type": "markdown",
   "source": [
    "### State Classmates"
   ],
   "metadata": {
    "collapsed": false,
    "pycharm": {
     "name": "#%% md\n"
    }
   }
  },
  {
   "cell_type": "code",
   "execution_count": 558,
   "outputs": [
    {
     "data": {
      "text/plain": "                     Name  Gender  Age Ethnicity      Family_Status  \\\n0            Storm Madsen    male   36      Arab         Abandonned   \n1         Gordoslav Bosik    male   59     Black            Adopted   \n2          آرمیتا محمدخان  female   36     Black    extended family   \n3          Daryl Chambers    male   50     Asian        step family   \n4      Bilogost Drizhenko    male   71     White  biological family   \n...                   ...     ...  ...       ...                ...   \n16995       Eduardo Colin    male   73     Black    extended family   \n16996   Olivia Kristensen  female   27     Black            Adopted   \n16997         Estela Rojo  female   67      Arab            Adopted   \n16998      Ivan Hillestad    male   67      Arab            Adopted   \n16999          مانی حسینی    male   67  Hispanic    extended family   \n\n       Number_Caretakers  State_Caretakers  Number_Siblings  \\\n0                      4                 2                2   \n1                      2                10                3   \n2                      5                 5                3   \n3                      3                 4                1   \n4                      5                 7                2   \n...                  ...               ...              ...   \n16995                  4                 9                2   \n16996                  4                10                2   \n16997                  1                 2                4   \n16998                  5                 1                2   \n16999                  5                 9                4   \n\n       Order_Among_Siblings  State_Residence      Country  State_Country  \\\n0                         2                5      Denmark          6.620   \n1                         2                9      Ukraine          2.875   \n2                         3                9         Iran          5.721   \n3                         1                6    Australia          9.183   \n4                         1                5      Ukraine          6.875   \n...                     ...              ...          ...            ...   \n16995                     1                9  Switzerland          6.571   \n16996                     2                9      Denmark          5.620   \n16997                     1                6       Mexico          4.317   \n16998                     1                9       Norway          6.392   \n16999                     3                7         Iran          4.721   \n\n                  State  State_State  State_School  State_Teachers  \\\n0           Hovedstaden            2             7               3   \n1      Ivano-Frankivska            1             3               4   \n2           خراسان رضوی            4             7               4   \n3       New South Wales            4             4               7   \n4                Odeska            4             4               6   \n...                 ...          ...           ...             ...   \n16995            Glarus            2             2               7   \n16996       Hovedstaden            5             9               5   \n16997  Estado de Mexico            1             9               2   \n16998   Møre og Romsdal            4            10               4   \n16999             بوشهر            1             8               5   \n\n       State_Classmates  \n0                     2  \n1                     9  \n2                     6  \n3                     5  \n4                     5  \n...                 ...  \n16995                 2  \n16996                 1  \n16997                 9  \n16998                10  \n16999                 1  \n\n[17000 rows x 17 columns]",
      "text/html": "<div>\n<style scoped>\n    .dataframe tbody tr th:only-of-type {\n        vertical-align: middle;\n    }\n\n    .dataframe tbody tr th {\n        vertical-align: top;\n    }\n\n    .dataframe thead th {\n        text-align: right;\n    }\n</style>\n<table border=\"1\" class=\"dataframe\">\n  <thead>\n    <tr style=\"text-align: right;\">\n      <th></th>\n      <th>Name</th>\n      <th>Gender</th>\n      <th>Age</th>\n      <th>Ethnicity</th>\n      <th>Family_Status</th>\n      <th>Number_Caretakers</th>\n      <th>State_Caretakers</th>\n      <th>Number_Siblings</th>\n      <th>Order_Among_Siblings</th>\n      <th>State_Residence</th>\n      <th>Country</th>\n      <th>State_Country</th>\n      <th>State</th>\n      <th>State_State</th>\n      <th>State_School</th>\n      <th>State_Teachers</th>\n      <th>State_Classmates</th>\n    </tr>\n  </thead>\n  <tbody>\n    <tr>\n      <th>0</th>\n      <td>Storm Madsen</td>\n      <td>male</td>\n      <td>36</td>\n      <td>Arab</td>\n      <td>Abandonned</td>\n      <td>4</td>\n      <td>2</td>\n      <td>2</td>\n      <td>2</td>\n      <td>5</td>\n      <td>Denmark</td>\n      <td>6.620</td>\n      <td>Hovedstaden</td>\n      <td>2</td>\n      <td>7</td>\n      <td>3</td>\n      <td>2</td>\n    </tr>\n    <tr>\n      <th>1</th>\n      <td>Gordoslav Bosik</td>\n      <td>male</td>\n      <td>59</td>\n      <td>Black</td>\n      <td>Adopted</td>\n      <td>2</td>\n      <td>10</td>\n      <td>3</td>\n      <td>2</td>\n      <td>9</td>\n      <td>Ukraine</td>\n      <td>2.875</td>\n      <td>Ivano-Frankivska</td>\n      <td>1</td>\n      <td>3</td>\n      <td>4</td>\n      <td>9</td>\n    </tr>\n    <tr>\n      <th>2</th>\n      <td>آرمیتا محمدخان</td>\n      <td>female</td>\n      <td>36</td>\n      <td>Black</td>\n      <td>extended family</td>\n      <td>5</td>\n      <td>5</td>\n      <td>3</td>\n      <td>3</td>\n      <td>9</td>\n      <td>Iran</td>\n      <td>5.721</td>\n      <td>خراسان رضوی</td>\n      <td>4</td>\n      <td>7</td>\n      <td>4</td>\n      <td>6</td>\n    </tr>\n    <tr>\n      <th>3</th>\n      <td>Daryl Chambers</td>\n      <td>male</td>\n      <td>50</td>\n      <td>Asian</td>\n      <td>step family</td>\n      <td>3</td>\n      <td>4</td>\n      <td>1</td>\n      <td>1</td>\n      <td>6</td>\n      <td>Australia</td>\n      <td>9.183</td>\n      <td>New South Wales</td>\n      <td>4</td>\n      <td>4</td>\n      <td>7</td>\n      <td>5</td>\n    </tr>\n    <tr>\n      <th>4</th>\n      <td>Bilogost Drizhenko</td>\n      <td>male</td>\n      <td>71</td>\n      <td>White</td>\n      <td>biological family</td>\n      <td>5</td>\n      <td>7</td>\n      <td>2</td>\n      <td>1</td>\n      <td>5</td>\n      <td>Ukraine</td>\n      <td>6.875</td>\n      <td>Odeska</td>\n      <td>4</td>\n      <td>4</td>\n      <td>6</td>\n      <td>5</td>\n    </tr>\n    <tr>\n      <th>...</th>\n      <td>...</td>\n      <td>...</td>\n      <td>...</td>\n      <td>...</td>\n      <td>...</td>\n      <td>...</td>\n      <td>...</td>\n      <td>...</td>\n      <td>...</td>\n      <td>...</td>\n      <td>...</td>\n      <td>...</td>\n      <td>...</td>\n      <td>...</td>\n      <td>...</td>\n      <td>...</td>\n      <td>...</td>\n    </tr>\n    <tr>\n      <th>16995</th>\n      <td>Eduardo Colin</td>\n      <td>male</td>\n      <td>73</td>\n      <td>Black</td>\n      <td>extended family</td>\n      <td>4</td>\n      <td>9</td>\n      <td>2</td>\n      <td>1</td>\n      <td>9</td>\n      <td>Switzerland</td>\n      <td>6.571</td>\n      <td>Glarus</td>\n      <td>2</td>\n      <td>2</td>\n      <td>7</td>\n      <td>2</td>\n    </tr>\n    <tr>\n      <th>16996</th>\n      <td>Olivia Kristensen</td>\n      <td>female</td>\n      <td>27</td>\n      <td>Black</td>\n      <td>Adopted</td>\n      <td>4</td>\n      <td>10</td>\n      <td>2</td>\n      <td>2</td>\n      <td>9</td>\n      <td>Denmark</td>\n      <td>5.620</td>\n      <td>Hovedstaden</td>\n      <td>5</td>\n      <td>9</td>\n      <td>5</td>\n      <td>1</td>\n    </tr>\n    <tr>\n      <th>16997</th>\n      <td>Estela Rojo</td>\n      <td>female</td>\n      <td>67</td>\n      <td>Arab</td>\n      <td>Adopted</td>\n      <td>1</td>\n      <td>2</td>\n      <td>4</td>\n      <td>1</td>\n      <td>6</td>\n      <td>Mexico</td>\n      <td>4.317</td>\n      <td>Estado de Mexico</td>\n      <td>1</td>\n      <td>9</td>\n      <td>2</td>\n      <td>9</td>\n    </tr>\n    <tr>\n      <th>16998</th>\n      <td>Ivan Hillestad</td>\n      <td>male</td>\n      <td>67</td>\n      <td>Arab</td>\n      <td>Adopted</td>\n      <td>5</td>\n      <td>1</td>\n      <td>2</td>\n      <td>1</td>\n      <td>9</td>\n      <td>Norway</td>\n      <td>6.392</td>\n      <td>Møre og Romsdal</td>\n      <td>4</td>\n      <td>10</td>\n      <td>4</td>\n      <td>10</td>\n    </tr>\n    <tr>\n      <th>16999</th>\n      <td>مانی حسینی</td>\n      <td>male</td>\n      <td>67</td>\n      <td>Hispanic</td>\n      <td>extended family</td>\n      <td>5</td>\n      <td>9</td>\n      <td>4</td>\n      <td>3</td>\n      <td>7</td>\n      <td>Iran</td>\n      <td>4.721</td>\n      <td>بوشهر</td>\n      <td>1</td>\n      <td>8</td>\n      <td>5</td>\n      <td>1</td>\n    </tr>\n  </tbody>\n</table>\n<p>17000 rows × 17 columns</p>\n</div>"
     },
     "execution_count": 558,
     "metadata": {},
     "output_type": "execute_result"
    }
   ],
   "source": [
    "questDF= fillState(questDF,16,\"State_Classmates\")\n",
    "questDF"
   ],
   "metadata": {
    "collapsed": false,
    "pycharm": {
     "name": "#%%\n"
    }
   }
  },
  {
   "cell_type": "markdown",
   "source": [
    "### Academic Level"
   ],
   "metadata": {
    "collapsed": false,
    "pycharm": {
     "name": "#%% md\n"
    }
   }
  },
  {
   "cell_type": "code",
   "execution_count": 559,
   "outputs": [
    {
     "data": {
      "text/plain": "0        D−\n1         F\n2         A\n3        C−\n4        D+\n         ..\n16995    B+\n16996    D−\n16997    B+\n16998    C−\n16999    D+\nName: Academic_Level, Length: 17000, dtype: object"
     },
     "execution_count": 559,
     "metadata": {},
     "output_type": "execute_result"
    }
   ],
   "source": [
    "columnIndex= 21\n",
    "Levels=['A+', 'A', 'A−', 'B+', 'B', 'B−', 'C+', 'C', 'C−', 'D+', 'D', 'D−', 'F']\n",
    "questDF[columnIndex]= np.random.choice(Levels, questDF.shape[0])\n",
    "questDF.rename(columns={columnIndex:\"Academic_Level\"}, inplace=True)\n",
    "questDF[\"Academic_Level\"]\n"
   ],
   "metadata": {
    "collapsed": false,
    "pycharm": {
     "name": "#%%\n"
    }
   }
  },
  {
   "cell_type": "markdown",
   "source": [
    "### Grade"
   ],
   "metadata": {
    "collapsed": false,
    "pycharm": {
     "name": "#%% md\n"
    }
   }
  },
  {
   "cell_type": "code",
   "execution_count": 560,
   "outputs": [
    {
     "data": {
      "text/plain": "                     Name Academic_Level Grade\n0            Storm Madsen             D−    10\n1         Gordoslav Bosik              F    11\n2          آرمیتا محمدخان              A     3\n3          Daryl Chambers             C−    M1\n4      Bilogost Drizhenko             D+     6\n...                   ...            ...   ...\n16995       Eduardo Colin             B+    11\n16996   Olivia Kristensen             D−     7\n16997         Estela Rojo             B+    L2\n16998      Ivan Hillestad             C−    L1\n16999          مانی حسینی             D+     6\n\n[17000 rows x 3 columns]",
      "text/html": "<div>\n<style scoped>\n    .dataframe tbody tr th:only-of-type {\n        vertical-align: middle;\n    }\n\n    .dataframe tbody tr th {\n        vertical-align: top;\n    }\n\n    .dataframe thead th {\n        text-align: right;\n    }\n</style>\n<table border=\"1\" class=\"dataframe\">\n  <thead>\n    <tr style=\"text-align: right;\">\n      <th></th>\n      <th>Name</th>\n      <th>Academic_Level</th>\n      <th>Grade</th>\n    </tr>\n  </thead>\n  <tbody>\n    <tr>\n      <th>0</th>\n      <td>Storm Madsen</td>\n      <td>D−</td>\n      <td>10</td>\n    </tr>\n    <tr>\n      <th>1</th>\n      <td>Gordoslav Bosik</td>\n      <td>F</td>\n      <td>11</td>\n    </tr>\n    <tr>\n      <th>2</th>\n      <td>آرمیتا محمدخان</td>\n      <td>A</td>\n      <td>3</td>\n    </tr>\n    <tr>\n      <th>3</th>\n      <td>Daryl Chambers</td>\n      <td>C−</td>\n      <td>M1</td>\n    </tr>\n    <tr>\n      <th>4</th>\n      <td>Bilogost Drizhenko</td>\n      <td>D+</td>\n      <td>6</td>\n    </tr>\n    <tr>\n      <th>...</th>\n      <td>...</td>\n      <td>...</td>\n      <td>...</td>\n    </tr>\n    <tr>\n      <th>16995</th>\n      <td>Eduardo Colin</td>\n      <td>B+</td>\n      <td>11</td>\n    </tr>\n    <tr>\n      <th>16996</th>\n      <td>Olivia Kristensen</td>\n      <td>D−</td>\n      <td>7</td>\n    </tr>\n    <tr>\n      <th>16997</th>\n      <td>Estela Rojo</td>\n      <td>B+</td>\n      <td>L2</td>\n    </tr>\n    <tr>\n      <th>16998</th>\n      <td>Ivan Hillestad</td>\n      <td>C−</td>\n      <td>L1</td>\n    </tr>\n    <tr>\n      <th>16999</th>\n      <td>مانی حسینی</td>\n      <td>D+</td>\n      <td>6</td>\n    </tr>\n  </tbody>\n</table>\n<p>17000 rows × 3 columns</p>\n</div>"
     },
     "execution_count": 560,
     "metadata": {},
     "output_type": "execute_result"
    }
   ],
   "source": [
    "columnIndex=22\n",
    "grades= list(range(1,15))+[\"L1\",\"L2\",\"L3\",\"M1\",\"M2\"]\n",
    "questDF[columnIndex]= np.random.choice(grades, questDF.shape[0])\n",
    "questDF.rename(columns={columnIndex:\"Grade\"}, inplace=True)\n",
    "\n",
    "questDF[questDF.columns[[0,-2,-1]]]"
   ],
   "metadata": {
    "collapsed": false,
    "pycharm": {
     "name": "#%%\n"
    }
   }
  },
  {
   "cell_type": "markdown",
   "source": [
    "### Academic Passion"
   ],
   "metadata": {
    "collapsed": false,
    "pycharm": {
     "name": "#%% md\n"
    }
   }
  },
  {
   "cell_type": "code",
   "execution_count": 561,
   "outputs": [
    {
     "data": {
      "text/plain": "                     Name Academic_Level Grade  Academic_Passion\n0            Storm Madsen             D−    10                 2\n1         Gordoslav Bosik              F    11                 1\n2          آرمیتا محمدخان              A     3                 3\n3          Daryl Chambers             C−    M1                 3\n4      Bilogost Drizhenko             D+     6                 6\n...                   ...            ...   ...               ...\n16995       Eduardo Colin             B+    11                 4\n16996   Olivia Kristensen             D−     7                 9\n16997         Estela Rojo             B+    L2                 8\n16998      Ivan Hillestad             C−    L1                 7\n16999          مانی حسینی             D+     6                 4\n\n[17000 rows x 4 columns]",
      "text/html": "<div>\n<style scoped>\n    .dataframe tbody tr th:only-of-type {\n        vertical-align: middle;\n    }\n\n    .dataframe tbody tr th {\n        vertical-align: top;\n    }\n\n    .dataframe thead th {\n        text-align: right;\n    }\n</style>\n<table border=\"1\" class=\"dataframe\">\n  <thead>\n    <tr style=\"text-align: right;\">\n      <th></th>\n      <th>Name</th>\n      <th>Academic_Level</th>\n      <th>Grade</th>\n      <th>Academic_Passion</th>\n    </tr>\n  </thead>\n  <tbody>\n    <tr>\n      <th>0</th>\n      <td>Storm Madsen</td>\n      <td>D−</td>\n      <td>10</td>\n      <td>2</td>\n    </tr>\n    <tr>\n      <th>1</th>\n      <td>Gordoslav Bosik</td>\n      <td>F</td>\n      <td>11</td>\n      <td>1</td>\n    </tr>\n    <tr>\n      <th>2</th>\n      <td>آرمیتا محمدخان</td>\n      <td>A</td>\n      <td>3</td>\n      <td>3</td>\n    </tr>\n    <tr>\n      <th>3</th>\n      <td>Daryl Chambers</td>\n      <td>C−</td>\n      <td>M1</td>\n      <td>3</td>\n    </tr>\n    <tr>\n      <th>4</th>\n      <td>Bilogost Drizhenko</td>\n      <td>D+</td>\n      <td>6</td>\n      <td>6</td>\n    </tr>\n    <tr>\n      <th>...</th>\n      <td>...</td>\n      <td>...</td>\n      <td>...</td>\n      <td>...</td>\n    </tr>\n    <tr>\n      <th>16995</th>\n      <td>Eduardo Colin</td>\n      <td>B+</td>\n      <td>11</td>\n      <td>4</td>\n    </tr>\n    <tr>\n      <th>16996</th>\n      <td>Olivia Kristensen</td>\n      <td>D−</td>\n      <td>7</td>\n      <td>9</td>\n    </tr>\n    <tr>\n      <th>16997</th>\n      <td>Estela Rojo</td>\n      <td>B+</td>\n      <td>L2</td>\n      <td>8</td>\n    </tr>\n    <tr>\n      <th>16998</th>\n      <td>Ivan Hillestad</td>\n      <td>C−</td>\n      <td>L1</td>\n      <td>7</td>\n    </tr>\n    <tr>\n      <th>16999</th>\n      <td>مانی حسینی</td>\n      <td>D+</td>\n      <td>6</td>\n      <td>4</td>\n    </tr>\n  </tbody>\n</table>\n<p>17000 rows × 4 columns</p>\n</div>"
     },
     "execution_count": 561,
     "metadata": {},
     "output_type": "execute_result"
    }
   ],
   "source": [
    "questDF= fillState(questDF,23,\"Academic_Passion\")\n",
    "questDF[questDF.columns[[0,-3,-2,-1]] ]\n"
   ],
   "metadata": {
    "collapsed": false,
    "pycharm": {
     "name": "#%%\n"
    }
   }
  },
  {
   "cell_type": "markdown",
   "source": [
    "### Failed School Years"
   ],
   "metadata": {
    "collapsed": false,
    "pycharm": {
     "name": "#%% md\n"
    }
   }
  },
  {
   "cell_type": "code",
   "execution_count": 562,
   "outputs": [
    {
     "data": {
      "text/plain": "       Age Academic_Level Grade  Academic_Passion  Years_Failed\n0       36             D−    10                 2             0\n1       59              F    11                 1             2\n2       36              A     3                 3             0\n3       50             C−    M1                 3             2\n4       71             D+     6                 6             0\n...    ...            ...   ...               ...           ...\n16995   73             B+    11                 4             3\n16996   27             D−     7                 9             2\n16997   67             B+    L2                 8             0\n16998   67             C−    L1                 7             2\n16999   67             D+     6                 4             3\n\n[17000 rows x 5 columns]",
      "text/html": "<div>\n<style scoped>\n    .dataframe tbody tr th:only-of-type {\n        vertical-align: middle;\n    }\n\n    .dataframe tbody tr th {\n        vertical-align: top;\n    }\n\n    .dataframe thead th {\n        text-align: right;\n    }\n</style>\n<table border=\"1\" class=\"dataframe\">\n  <thead>\n    <tr style=\"text-align: right;\">\n      <th></th>\n      <th>Age</th>\n      <th>Academic_Level</th>\n      <th>Grade</th>\n      <th>Academic_Passion</th>\n      <th>Years_Failed</th>\n    </tr>\n  </thead>\n  <tbody>\n    <tr>\n      <th>0</th>\n      <td>36</td>\n      <td>D−</td>\n      <td>10</td>\n      <td>2</td>\n      <td>0</td>\n    </tr>\n    <tr>\n      <th>1</th>\n      <td>59</td>\n      <td>F</td>\n      <td>11</td>\n      <td>1</td>\n      <td>2</td>\n    </tr>\n    <tr>\n      <th>2</th>\n      <td>36</td>\n      <td>A</td>\n      <td>3</td>\n      <td>3</td>\n      <td>0</td>\n    </tr>\n    <tr>\n      <th>3</th>\n      <td>50</td>\n      <td>C−</td>\n      <td>M1</td>\n      <td>3</td>\n      <td>2</td>\n    </tr>\n    <tr>\n      <th>4</th>\n      <td>71</td>\n      <td>D+</td>\n      <td>6</td>\n      <td>6</td>\n      <td>0</td>\n    </tr>\n    <tr>\n      <th>...</th>\n      <td>...</td>\n      <td>...</td>\n      <td>...</td>\n      <td>...</td>\n      <td>...</td>\n    </tr>\n    <tr>\n      <th>16995</th>\n      <td>73</td>\n      <td>B+</td>\n      <td>11</td>\n      <td>4</td>\n      <td>3</td>\n    </tr>\n    <tr>\n      <th>16996</th>\n      <td>27</td>\n      <td>D−</td>\n      <td>7</td>\n      <td>9</td>\n      <td>2</td>\n    </tr>\n    <tr>\n      <th>16997</th>\n      <td>67</td>\n      <td>B+</td>\n      <td>L2</td>\n      <td>8</td>\n      <td>0</td>\n    </tr>\n    <tr>\n      <th>16998</th>\n      <td>67</td>\n      <td>C−</td>\n      <td>L1</td>\n      <td>7</td>\n      <td>2</td>\n    </tr>\n    <tr>\n      <th>16999</th>\n      <td>67</td>\n      <td>D+</td>\n      <td>6</td>\n      <td>4</td>\n      <td>3</td>\n    </tr>\n  </tbody>\n</table>\n<p>17000 rows × 5 columns</p>\n</div>"
     },
     "execution_count": 562,
     "metadata": {},
     "output_type": "execute_result"
    }
   ],
   "source": [
    "questDF= fillState(questDF,24,\"Years_Failed\",0,4)\n",
    "questDF[questDF.columns[[2,-4,-3,-2,-1]] ]\n"
   ],
   "metadata": {
    "collapsed": false,
    "pycharm": {
     "name": "#%%\n"
    }
   }
  },
  {
   "cell_type": "markdown",
   "source": [
    "## Commute\n",
    "### Commute Distance"
   ],
   "metadata": {
    "collapsed": false,
    "pycharm": {
     "name": "#%% md\n"
    }
   }
  },
  {
   "cell_type": "code",
   "execution_count": 563,
   "outputs": [
    {
     "data": {
      "text/plain": "                     Name  Gender  Age Ethnicity      Family_Status  \\\n0            Storm Madsen    male   36      Arab         Abandonned   \n1         Gordoslav Bosik    male   59     Black            Adopted   \n2          آرمیتا محمدخان  female   36     Black    extended family   \n3          Daryl Chambers    male   50     Asian        step family   \n4      Bilogost Drizhenko    male   71     White  biological family   \n...                   ...     ...  ...       ...                ...   \n16995       Eduardo Colin    male   73     Black    extended family   \n16996   Olivia Kristensen  female   27     Black            Adopted   \n16997         Estela Rojo  female   67      Arab            Adopted   \n16998      Ivan Hillestad    male   67      Arab            Adopted   \n16999          مانی حسینی    male   67  Hispanic    extended family   \n\n       Number_Caretakers  State_Caretakers  Number_Siblings  \\\n0                      4                 2                2   \n1                      2                10                3   \n2                      5                 5                3   \n3                      3                 4                1   \n4                      5                 7                2   \n...                  ...               ...              ...   \n16995                  4                 9                2   \n16996                  4                10                2   \n16997                  1                 2                4   \n16998                  5                 1                2   \n16999                  5                 9                4   \n\n       Order_Among_Siblings  State_Residence  ...             State  \\\n0                         2                5  ...       Hovedstaden   \n1                         2                9  ...  Ivano-Frankivska   \n2                         3                9  ...       خراسان رضوی   \n3                         1                6  ...   New South Wales   \n4                         1                5  ...            Odeska   \n...                     ...              ...  ...               ...   \n16995                     1                9  ...            Glarus   \n16996                     2                9  ...       Hovedstaden   \n16997                     1                6  ...  Estado de Mexico   \n16998                     1                9  ...   Møre og Romsdal   \n16999                     3                7  ...             بوشهر   \n\n       State_State State_School  State_Teachers  State_Classmates  \\\n0                2            7               3                 2   \n1                1            3               4                 9   \n2                4            7               4                 6   \n3                4            4               7                 5   \n4                4            4               6                 5   \n...            ...          ...             ...               ...   \n16995            2            2               7                 2   \n16996            5            9               5                 1   \n16997            1            9               2                 9   \n16998            4           10               4                10   \n16999            1            8               5                 1   \n\n       Academic_Level  Grade Academic_Passion Years_Failed  Commute_Distance  \n0                  D−     10                2            0               3.8  \n1                   F     11                1            2               2.6  \n2                   A      3                3            0               0.5  \n3                  C−     M1                3            2               9.8  \n4                  D+      6                6            0              14.6  \n...               ...    ...              ...          ...               ...  \n16995              B+     11                4            3               4.7  \n16996              D−      7                9            2               5.4  \n16997              B+     L2                8            0               1.3  \n16998              C−     L1                7            2               0.5  \n16999              D+      6                4            3               7.4  \n\n[17000 rows x 22 columns]",
      "text/html": "<div>\n<style scoped>\n    .dataframe tbody tr th:only-of-type {\n        vertical-align: middle;\n    }\n\n    .dataframe tbody tr th {\n        vertical-align: top;\n    }\n\n    .dataframe thead th {\n        text-align: right;\n    }\n</style>\n<table border=\"1\" class=\"dataframe\">\n  <thead>\n    <tr style=\"text-align: right;\">\n      <th></th>\n      <th>Name</th>\n      <th>Gender</th>\n      <th>Age</th>\n      <th>Ethnicity</th>\n      <th>Family_Status</th>\n      <th>Number_Caretakers</th>\n      <th>State_Caretakers</th>\n      <th>Number_Siblings</th>\n      <th>Order_Among_Siblings</th>\n      <th>State_Residence</th>\n      <th>...</th>\n      <th>State</th>\n      <th>State_State</th>\n      <th>State_School</th>\n      <th>State_Teachers</th>\n      <th>State_Classmates</th>\n      <th>Academic_Level</th>\n      <th>Grade</th>\n      <th>Academic_Passion</th>\n      <th>Years_Failed</th>\n      <th>Commute_Distance</th>\n    </tr>\n  </thead>\n  <tbody>\n    <tr>\n      <th>0</th>\n      <td>Storm Madsen</td>\n      <td>male</td>\n      <td>36</td>\n      <td>Arab</td>\n      <td>Abandonned</td>\n      <td>4</td>\n      <td>2</td>\n      <td>2</td>\n      <td>2</td>\n      <td>5</td>\n      <td>...</td>\n      <td>Hovedstaden</td>\n      <td>2</td>\n      <td>7</td>\n      <td>3</td>\n      <td>2</td>\n      <td>D−</td>\n      <td>10</td>\n      <td>2</td>\n      <td>0</td>\n      <td>3.8</td>\n    </tr>\n    <tr>\n      <th>1</th>\n      <td>Gordoslav Bosik</td>\n      <td>male</td>\n      <td>59</td>\n      <td>Black</td>\n      <td>Adopted</td>\n      <td>2</td>\n      <td>10</td>\n      <td>3</td>\n      <td>2</td>\n      <td>9</td>\n      <td>...</td>\n      <td>Ivano-Frankivska</td>\n      <td>1</td>\n      <td>3</td>\n      <td>4</td>\n      <td>9</td>\n      <td>F</td>\n      <td>11</td>\n      <td>1</td>\n      <td>2</td>\n      <td>2.6</td>\n    </tr>\n    <tr>\n      <th>2</th>\n      <td>آرمیتا محمدخان</td>\n      <td>female</td>\n      <td>36</td>\n      <td>Black</td>\n      <td>extended family</td>\n      <td>5</td>\n      <td>5</td>\n      <td>3</td>\n      <td>3</td>\n      <td>9</td>\n      <td>...</td>\n      <td>خراسان رضوی</td>\n      <td>4</td>\n      <td>7</td>\n      <td>4</td>\n      <td>6</td>\n      <td>A</td>\n      <td>3</td>\n      <td>3</td>\n      <td>0</td>\n      <td>0.5</td>\n    </tr>\n    <tr>\n      <th>3</th>\n      <td>Daryl Chambers</td>\n      <td>male</td>\n      <td>50</td>\n      <td>Asian</td>\n      <td>step family</td>\n      <td>3</td>\n      <td>4</td>\n      <td>1</td>\n      <td>1</td>\n      <td>6</td>\n      <td>...</td>\n      <td>New South Wales</td>\n      <td>4</td>\n      <td>4</td>\n      <td>7</td>\n      <td>5</td>\n      <td>C−</td>\n      <td>M1</td>\n      <td>3</td>\n      <td>2</td>\n      <td>9.8</td>\n    </tr>\n    <tr>\n      <th>4</th>\n      <td>Bilogost Drizhenko</td>\n      <td>male</td>\n      <td>71</td>\n      <td>White</td>\n      <td>biological family</td>\n      <td>5</td>\n      <td>7</td>\n      <td>2</td>\n      <td>1</td>\n      <td>5</td>\n      <td>...</td>\n      <td>Odeska</td>\n      <td>4</td>\n      <td>4</td>\n      <td>6</td>\n      <td>5</td>\n      <td>D+</td>\n      <td>6</td>\n      <td>6</td>\n      <td>0</td>\n      <td>14.6</td>\n    </tr>\n    <tr>\n      <th>...</th>\n      <td>...</td>\n      <td>...</td>\n      <td>...</td>\n      <td>...</td>\n      <td>...</td>\n      <td>...</td>\n      <td>...</td>\n      <td>...</td>\n      <td>...</td>\n      <td>...</td>\n      <td>...</td>\n      <td>...</td>\n      <td>...</td>\n      <td>...</td>\n      <td>...</td>\n      <td>...</td>\n      <td>...</td>\n      <td>...</td>\n      <td>...</td>\n      <td>...</td>\n      <td>...</td>\n    </tr>\n    <tr>\n      <th>16995</th>\n      <td>Eduardo Colin</td>\n      <td>male</td>\n      <td>73</td>\n      <td>Black</td>\n      <td>extended family</td>\n      <td>4</td>\n      <td>9</td>\n      <td>2</td>\n      <td>1</td>\n      <td>9</td>\n      <td>...</td>\n      <td>Glarus</td>\n      <td>2</td>\n      <td>2</td>\n      <td>7</td>\n      <td>2</td>\n      <td>B+</td>\n      <td>11</td>\n      <td>4</td>\n      <td>3</td>\n      <td>4.7</td>\n    </tr>\n    <tr>\n      <th>16996</th>\n      <td>Olivia Kristensen</td>\n      <td>female</td>\n      <td>27</td>\n      <td>Black</td>\n      <td>Adopted</td>\n      <td>4</td>\n      <td>10</td>\n      <td>2</td>\n      <td>2</td>\n      <td>9</td>\n      <td>...</td>\n      <td>Hovedstaden</td>\n      <td>5</td>\n      <td>9</td>\n      <td>5</td>\n      <td>1</td>\n      <td>D−</td>\n      <td>7</td>\n      <td>9</td>\n      <td>2</td>\n      <td>5.4</td>\n    </tr>\n    <tr>\n      <th>16997</th>\n      <td>Estela Rojo</td>\n      <td>female</td>\n      <td>67</td>\n      <td>Arab</td>\n      <td>Adopted</td>\n      <td>1</td>\n      <td>2</td>\n      <td>4</td>\n      <td>1</td>\n      <td>6</td>\n      <td>...</td>\n      <td>Estado de Mexico</td>\n      <td>1</td>\n      <td>9</td>\n      <td>2</td>\n      <td>9</td>\n      <td>B+</td>\n      <td>L2</td>\n      <td>8</td>\n      <td>0</td>\n      <td>1.3</td>\n    </tr>\n    <tr>\n      <th>16998</th>\n      <td>Ivan Hillestad</td>\n      <td>male</td>\n      <td>67</td>\n      <td>Arab</td>\n      <td>Adopted</td>\n      <td>5</td>\n      <td>1</td>\n      <td>2</td>\n      <td>1</td>\n      <td>9</td>\n      <td>...</td>\n      <td>Møre og Romsdal</td>\n      <td>4</td>\n      <td>10</td>\n      <td>4</td>\n      <td>10</td>\n      <td>C−</td>\n      <td>L1</td>\n      <td>7</td>\n      <td>2</td>\n      <td>0.5</td>\n    </tr>\n    <tr>\n      <th>16999</th>\n      <td>مانی حسینی</td>\n      <td>male</td>\n      <td>67</td>\n      <td>Hispanic</td>\n      <td>extended family</td>\n      <td>5</td>\n      <td>9</td>\n      <td>4</td>\n      <td>3</td>\n      <td>7</td>\n      <td>...</td>\n      <td>بوشهر</td>\n      <td>1</td>\n      <td>8</td>\n      <td>5</td>\n      <td>1</td>\n      <td>D+</td>\n      <td>6</td>\n      <td>4</td>\n      <td>3</td>\n      <td>7.4</td>\n    </tr>\n  </tbody>\n</table>\n<p>17000 rows × 22 columns</p>\n</div>"
     },
     "execution_count": 563,
     "metadata": {},
     "output_type": "execute_result"
    }
   ],
   "source": [
    "columnIndex= 17\n",
    "distance=pd.Series( list(np.arange(0.5,6.5,0.1))+list(np.arange(6.5,15,0.3))+list(np.arange(15,25,.5))).apply(lambda a:round(a,2))\n",
    "questDF[columnIndex]= np.random.choice(distance, questDF.shape[0])\n",
    "questDF.rename(columns={columnIndex:\"Commute_Distance\"}, inplace=True)\n",
    "questDF"
   ],
   "metadata": {
    "collapsed": false,
    "pycharm": {
     "name": "#%%\n"
    }
   }
  },
  {
   "cell_type": "markdown",
   "source": [
    "### Commute Method"
   ],
   "metadata": {
    "collapsed": false,
    "pycharm": {
     "name": "#%% md\n"
    }
   }
  },
  {
   "cell_type": "code",
   "execution_count": 564,
   "outputs": [
    {
     "data": {
      "text/plain": "                     Name Commute_Method\n0            Storm Madsen      motorbike\n1         Gordoslav Bosik          metro\n2          آرمیتا محمدخان      motorbike\n3          Daryl Chambers      motorbike\n4      Bilogost Drizhenko      motorbike\n...                   ...            ...\n16995       Eduardo Colin        walking\n16996   Olivia Kristensen      motorbike\n16997         Estela Rojo          train\n16998      Ivan Hillestad          metro\n16999          مانی حسینی      motorbike\n\n[17000 rows x 2 columns]",
      "text/html": "<div>\n<style scoped>\n    .dataframe tbody tr th:only-of-type {\n        vertical-align: middle;\n    }\n\n    .dataframe tbody tr th {\n        vertical-align: top;\n    }\n\n    .dataframe thead th {\n        text-align: right;\n    }\n</style>\n<table border=\"1\" class=\"dataframe\">\n  <thead>\n    <tr style=\"text-align: right;\">\n      <th></th>\n      <th>Name</th>\n      <th>Commute_Method</th>\n    </tr>\n  </thead>\n  <tbody>\n    <tr>\n      <th>0</th>\n      <td>Storm Madsen</td>\n      <td>motorbike</td>\n    </tr>\n    <tr>\n      <th>1</th>\n      <td>Gordoslav Bosik</td>\n      <td>metro</td>\n    </tr>\n    <tr>\n      <th>2</th>\n      <td>آرمیتا محمدخان</td>\n      <td>motorbike</td>\n    </tr>\n    <tr>\n      <th>3</th>\n      <td>Daryl Chambers</td>\n      <td>motorbike</td>\n    </tr>\n    <tr>\n      <th>4</th>\n      <td>Bilogost Drizhenko</td>\n      <td>motorbike</td>\n    </tr>\n    <tr>\n      <th>...</th>\n      <td>...</td>\n      <td>...</td>\n    </tr>\n    <tr>\n      <th>16995</th>\n      <td>Eduardo Colin</td>\n      <td>walking</td>\n    </tr>\n    <tr>\n      <th>16996</th>\n      <td>Olivia Kristensen</td>\n      <td>motorbike</td>\n    </tr>\n    <tr>\n      <th>16997</th>\n      <td>Estela Rojo</td>\n      <td>train</td>\n    </tr>\n    <tr>\n      <th>16998</th>\n      <td>Ivan Hillestad</td>\n      <td>metro</td>\n    </tr>\n    <tr>\n      <th>16999</th>\n      <td>مانی حسینی</td>\n      <td>motorbike</td>\n    </tr>\n  </tbody>\n</table>\n<p>17000 rows × 2 columns</p>\n</div>"
     },
     "execution_count": 564,
     "metadata": {},
     "output_type": "execute_result"
    }
   ],
   "source": [
    "columnIndex= 18\n",
    "CommuteMethod=[{ \"name\": \"car\",\"speed\":10}, { \"name\": \"motorbike\",\"speed\":10}, { \"name\": \"bus\",\"speed\":6},\n",
    "               { \"name\": \"metro\",\"speed\":4}, { \"name\": \"train\",\"speed\":7}, {  \"name\":\"taxi\",\"speed\":9},\n",
    "               { \"name\": \"walking\",\"speed\":1}, { \"name\": \"bicycle\",\"speed\":6}]\n",
    "questDF[columnIndex]= pd.Series(np.random.choice(CommuteMethod,questDF.shape[0])).apply(lambda x:dict(x).get(\"name\"))\n",
    "questDF.rename(columns={columnIndex:\"Commute_Method\"}, inplace=True)\n",
    "questDF[questDF.columns[[0,-1]] ]"
   ],
   "metadata": {
    "collapsed": false,
    "pycharm": {
     "name": "#%%\n"
    }
   }
  },
  {
   "cell_type": "markdown",
   "source": [
    "### Commute Duration"
   ],
   "metadata": {
    "collapsed": false,
    "pycharm": {
     "name": "#%% md\n"
    }
   }
  },
  {
   "cell_type": "code",
   "execution_count": 565,
   "outputs": [
    {
     "data": {
      "text/plain": "                     Name  Commute_Distance Commute_Method  Commute_Duration\n0            Storm Madsen               3.8      motorbike                22\n1         Gordoslav Bosik               2.6          metro                39\n2          آرمیتا محمدخان               0.5      motorbike                 3\n3          Daryl Chambers               9.8      motorbike                58\n4      Bilogost Drizhenko              14.6      motorbike                87\n...                   ...               ...            ...               ...\n16995       Eduardo Colin               4.7        walking               282\n16996   Olivia Kristensen               5.4      motorbike                32\n16997         Estela Rojo               1.3          train                11\n16998      Ivan Hillestad               0.5          metro                 7\n16999          مانی حسینی               7.4      motorbike                44\n\n[17000 rows x 4 columns]",
      "text/html": "<div>\n<style scoped>\n    .dataframe tbody tr th:only-of-type {\n        vertical-align: middle;\n    }\n\n    .dataframe tbody tr th {\n        vertical-align: top;\n    }\n\n    .dataframe thead th {\n        text-align: right;\n    }\n</style>\n<table border=\"1\" class=\"dataframe\">\n  <thead>\n    <tr style=\"text-align: right;\">\n      <th></th>\n      <th>Name</th>\n      <th>Commute_Distance</th>\n      <th>Commute_Method</th>\n      <th>Commute_Duration</th>\n    </tr>\n  </thead>\n  <tbody>\n    <tr>\n      <th>0</th>\n      <td>Storm Madsen</td>\n      <td>3.8</td>\n      <td>motorbike</td>\n      <td>22</td>\n    </tr>\n    <tr>\n      <th>1</th>\n      <td>Gordoslav Bosik</td>\n      <td>2.6</td>\n      <td>metro</td>\n      <td>39</td>\n    </tr>\n    <tr>\n      <th>2</th>\n      <td>آرمیتا محمدخان</td>\n      <td>0.5</td>\n      <td>motorbike</td>\n      <td>3</td>\n    </tr>\n    <tr>\n      <th>3</th>\n      <td>Daryl Chambers</td>\n      <td>9.8</td>\n      <td>motorbike</td>\n      <td>58</td>\n    </tr>\n    <tr>\n      <th>4</th>\n      <td>Bilogost Drizhenko</td>\n      <td>14.6</td>\n      <td>motorbike</td>\n      <td>87</td>\n    </tr>\n    <tr>\n      <th>...</th>\n      <td>...</td>\n      <td>...</td>\n      <td>...</td>\n      <td>...</td>\n    </tr>\n    <tr>\n      <th>16995</th>\n      <td>Eduardo Colin</td>\n      <td>4.7</td>\n      <td>walking</td>\n      <td>282</td>\n    </tr>\n    <tr>\n      <th>16996</th>\n      <td>Olivia Kristensen</td>\n      <td>5.4</td>\n      <td>motorbike</td>\n      <td>32</td>\n    </tr>\n    <tr>\n      <th>16997</th>\n      <td>Estela Rojo</td>\n      <td>1.3</td>\n      <td>train</td>\n      <td>11</td>\n    </tr>\n    <tr>\n      <th>16998</th>\n      <td>Ivan Hillestad</td>\n      <td>0.5</td>\n      <td>metro</td>\n      <td>7</td>\n    </tr>\n    <tr>\n      <th>16999</th>\n      <td>مانی حسینی</td>\n      <td>7.4</td>\n      <td>motorbike</td>\n      <td>44</td>\n    </tr>\n  </tbody>\n</table>\n<p>17000 rows × 4 columns</p>\n</div>"
     },
     "execution_count": 565,
     "metadata": {},
     "output_type": "execute_result"
    }
   ],
   "source": [
    "columnIndex= 19\n",
    "speed={\"car\":10,\"motorbike\":10,\"bus\":6,\"metro\":4,\"train\":7,\"taxi\":9,\"walking\":1,\"bicycle\":6}\n",
    "questDF[columnIndex]=questDF[\"Commute_Method\"].apply(lambda x: speed.get(x))\n",
    "questDF[columnIndex]= (questDF['Commute_Distance'].astype(\"float\")/questDF[columnIndex].astype(\"float\") *60).astype(\"int\")\n",
    "questDF.rename(columns={columnIndex:\"Commute_Duration\"}, inplace=True)\n",
    "questDF[questDF.columns[[0,-3,-2,-1]] ]\n"
   ],
   "metadata": {
    "collapsed": false,
    "pycharm": {
     "name": "#%%\n"
    }
   }
  },
  {
   "cell_type": "markdown",
   "source": [
    "### Commute State"
   ],
   "metadata": {
    "collapsed": false,
    "pycharm": {
     "name": "#%% md\n"
    }
   }
  },
  {
   "cell_type": "code",
   "execution_count": 566,
   "outputs": [
    {
     "data": {
      "text/plain": "                     Name  Commute_Distance Commute_Method  Commute_Duration  \\\n0            Storm Madsen               3.8      motorbike                22   \n1         Gordoslav Bosik               2.6          metro                39   \n2          آرمیتا محمدخان               0.5      motorbike                 3   \n3          Daryl Chambers               9.8      motorbike                58   \n4      Bilogost Drizhenko              14.6      motorbike                87   \n...                   ...               ...            ...               ...   \n16995       Eduardo Colin               4.7        walking               282   \n16996   Olivia Kristensen               5.4      motorbike                32   \n16997         Estela Rojo               1.3          train                11   \n16998      Ivan Hillestad               0.5          metro                 7   \n16999          مانی حسینی               7.4      motorbike                44   \n\n       State_Commute  \n0                  9  \n1                  8  \n2                  1  \n3                  6  \n4                  4  \n...              ...  \n16995              3  \n16996              5  \n16997              6  \n16998              9  \n16999              9  \n\n[17000 rows x 5 columns]",
      "text/html": "<div>\n<style scoped>\n    .dataframe tbody tr th:only-of-type {\n        vertical-align: middle;\n    }\n\n    .dataframe tbody tr th {\n        vertical-align: top;\n    }\n\n    .dataframe thead th {\n        text-align: right;\n    }\n</style>\n<table border=\"1\" class=\"dataframe\">\n  <thead>\n    <tr style=\"text-align: right;\">\n      <th></th>\n      <th>Name</th>\n      <th>Commute_Distance</th>\n      <th>Commute_Method</th>\n      <th>Commute_Duration</th>\n      <th>State_Commute</th>\n    </tr>\n  </thead>\n  <tbody>\n    <tr>\n      <th>0</th>\n      <td>Storm Madsen</td>\n      <td>3.8</td>\n      <td>motorbike</td>\n      <td>22</td>\n      <td>9</td>\n    </tr>\n    <tr>\n      <th>1</th>\n      <td>Gordoslav Bosik</td>\n      <td>2.6</td>\n      <td>metro</td>\n      <td>39</td>\n      <td>8</td>\n    </tr>\n    <tr>\n      <th>2</th>\n      <td>آرمیتا محمدخان</td>\n      <td>0.5</td>\n      <td>motorbike</td>\n      <td>3</td>\n      <td>1</td>\n    </tr>\n    <tr>\n      <th>3</th>\n      <td>Daryl Chambers</td>\n      <td>9.8</td>\n      <td>motorbike</td>\n      <td>58</td>\n      <td>6</td>\n    </tr>\n    <tr>\n      <th>4</th>\n      <td>Bilogost Drizhenko</td>\n      <td>14.6</td>\n      <td>motorbike</td>\n      <td>87</td>\n      <td>4</td>\n    </tr>\n    <tr>\n      <th>...</th>\n      <td>...</td>\n      <td>...</td>\n      <td>...</td>\n      <td>...</td>\n      <td>...</td>\n    </tr>\n    <tr>\n      <th>16995</th>\n      <td>Eduardo Colin</td>\n      <td>4.7</td>\n      <td>walking</td>\n      <td>282</td>\n      <td>3</td>\n    </tr>\n    <tr>\n      <th>16996</th>\n      <td>Olivia Kristensen</td>\n      <td>5.4</td>\n      <td>motorbike</td>\n      <td>32</td>\n      <td>5</td>\n    </tr>\n    <tr>\n      <th>16997</th>\n      <td>Estela Rojo</td>\n      <td>1.3</td>\n      <td>train</td>\n      <td>11</td>\n      <td>6</td>\n    </tr>\n    <tr>\n      <th>16998</th>\n      <td>Ivan Hillestad</td>\n      <td>0.5</td>\n      <td>metro</td>\n      <td>7</td>\n      <td>9</td>\n    </tr>\n    <tr>\n      <th>16999</th>\n      <td>مانی حسینی</td>\n      <td>7.4</td>\n      <td>motorbike</td>\n      <td>44</td>\n      <td>9</td>\n    </tr>\n  </tbody>\n</table>\n<p>17000 rows × 5 columns</p>\n</div>"
     },
     "execution_count": 566,
     "metadata": {},
     "output_type": "execute_result"
    }
   ],
   "source": [
    "questDF= fillState(questDF,20,\"State_Commute\")\n",
    "questDF[questDF.columns[[0,-4,-3,-2,-1]] ]"
   ],
   "metadata": {
    "collapsed": false,
    "pycharm": {
     "name": "#%%\n"
    }
   }
  },
  {
   "cell_type": "markdown",
   "source": [
    "## Work\n"
   ],
   "metadata": {
    "collapsed": false,
    "pycharm": {
     "name": "#%% md\n"
    }
   }
  },
  {
   "cell_type": "code",
   "execution_count": 567,
   "outputs": [
    {
     "data": {
      "text/plain": "                     Name   Work\n0            Storm Madsen   True\n1         Gordoslav Bosik  False\n2          آرمیتا محمدخان  False\n3          Daryl Chambers   True\n4      Bilogost Drizhenko  False\n...                   ...    ...\n16995       Eduardo Colin   True\n16996   Olivia Kristensen  False\n16997         Estela Rojo  False\n16998      Ivan Hillestad  False\n16999          مانی حسینی  False\n\n[17000 rows x 2 columns]",
      "text/html": "<div>\n<style scoped>\n    .dataframe tbody tr th:only-of-type {\n        vertical-align: middle;\n    }\n\n    .dataframe tbody tr th {\n        vertical-align: top;\n    }\n\n    .dataframe thead th {\n        text-align: right;\n    }\n</style>\n<table border=\"1\" class=\"dataframe\">\n  <thead>\n    <tr style=\"text-align: right;\">\n      <th></th>\n      <th>Name</th>\n      <th>Work</th>\n    </tr>\n  </thead>\n  <tbody>\n    <tr>\n      <th>0</th>\n      <td>Storm Madsen</td>\n      <td>True</td>\n    </tr>\n    <tr>\n      <th>1</th>\n      <td>Gordoslav Bosik</td>\n      <td>False</td>\n    </tr>\n    <tr>\n      <th>2</th>\n      <td>آرمیتا محمدخان</td>\n      <td>False</td>\n    </tr>\n    <tr>\n      <th>3</th>\n      <td>Daryl Chambers</td>\n      <td>True</td>\n    </tr>\n    <tr>\n      <th>4</th>\n      <td>Bilogost Drizhenko</td>\n      <td>False</td>\n    </tr>\n    <tr>\n      <th>...</th>\n      <td>...</td>\n      <td>...</td>\n    </tr>\n    <tr>\n      <th>16995</th>\n      <td>Eduardo Colin</td>\n      <td>True</td>\n    </tr>\n    <tr>\n      <th>16996</th>\n      <td>Olivia Kristensen</td>\n      <td>False</td>\n    </tr>\n    <tr>\n      <th>16997</th>\n      <td>Estela Rojo</td>\n      <td>False</td>\n    </tr>\n    <tr>\n      <th>16998</th>\n      <td>Ivan Hillestad</td>\n      <td>False</td>\n    </tr>\n    <tr>\n      <th>16999</th>\n      <td>مانی حسینی</td>\n      <td>False</td>\n    </tr>\n  </tbody>\n</table>\n<p>17000 rows × 2 columns</p>\n</div>"
     },
     "execution_count": 567,
     "metadata": {},
     "output_type": "execute_result"
    }
   ],
   "source": [
    "columnIndex=25\n",
    "workOrNot= [True,False]\n",
    "questDF[columnIndex]= np.random.choice(workOrNot, questDF.shape[0])\n",
    "questDF.rename(columns={columnIndex:\"Work\"}, inplace=True)\n",
    "\n",
    "questDF[questDF.columns[[0,-1]]]"
   ],
   "metadata": {
    "collapsed": false,
    "pycharm": {
     "name": "#%%\n"
    }
   }
  },
  {
   "cell_type": "markdown",
   "source": [
    "### Type Of Work"
   ],
   "metadata": {
    "collapsed": false,
    "pycharm": {
     "name": "#%% md\n"
    }
   }
  },
  {
   "cell_type": "code",
   "execution_count": 568,
   "outputs": [
    {
     "data": {
      "text/plain": "                     Name   Work          Work_Type\n0            Storm Madsen   True    family business\n1         Gordoslav Bosik  False                   \n2          آرمیتا محمدخان  False                   \n3          Daryl Chambers   True  repetitive labour\n4      Bilogost Drizhenko  False                   \n...                   ...    ...                ...\n16995       Eduardo Colin   True      craftsmanship\n16996   Olivia Kristensen  False                   \n16997         Estela Rojo  False                   \n16998      Ivan Hillestad  False                   \n16999          مانی حسینی  False                   \n\n[17000 rows x 3 columns]",
      "text/html": "<div>\n<style scoped>\n    .dataframe tbody tr th:only-of-type {\n        vertical-align: middle;\n    }\n\n    .dataframe tbody tr th {\n        vertical-align: top;\n    }\n\n    .dataframe thead th {\n        text-align: right;\n    }\n</style>\n<table border=\"1\" class=\"dataframe\">\n  <thead>\n    <tr style=\"text-align: right;\">\n      <th></th>\n      <th>Name</th>\n      <th>Work</th>\n      <th>Work_Type</th>\n    </tr>\n  </thead>\n  <tbody>\n    <tr>\n      <th>0</th>\n      <td>Storm Madsen</td>\n      <td>True</td>\n      <td>family business</td>\n    </tr>\n    <tr>\n      <th>1</th>\n      <td>Gordoslav Bosik</td>\n      <td>False</td>\n      <td></td>\n    </tr>\n    <tr>\n      <th>2</th>\n      <td>آرمیتا محمدخان</td>\n      <td>False</td>\n      <td></td>\n    </tr>\n    <tr>\n      <th>3</th>\n      <td>Daryl Chambers</td>\n      <td>True</td>\n      <td>repetitive labour</td>\n    </tr>\n    <tr>\n      <th>4</th>\n      <td>Bilogost Drizhenko</td>\n      <td>False</td>\n      <td></td>\n    </tr>\n    <tr>\n      <th>...</th>\n      <td>...</td>\n      <td>...</td>\n      <td>...</td>\n    </tr>\n    <tr>\n      <th>16995</th>\n      <td>Eduardo Colin</td>\n      <td>True</td>\n      <td>craftsmanship</td>\n    </tr>\n    <tr>\n      <th>16996</th>\n      <td>Olivia Kristensen</td>\n      <td>False</td>\n      <td></td>\n    </tr>\n    <tr>\n      <th>16997</th>\n      <td>Estela Rojo</td>\n      <td>False</td>\n      <td></td>\n    </tr>\n    <tr>\n      <th>16998</th>\n      <td>Ivan Hillestad</td>\n      <td>False</td>\n      <td></td>\n    </tr>\n    <tr>\n      <th>16999</th>\n      <td>مانی حسینی</td>\n      <td>False</td>\n      <td></td>\n    </tr>\n  </tbody>\n</table>\n<p>17000 rows × 3 columns</p>\n</div>"
     },
     "execution_count": 568,
     "metadata": {},
     "output_type": "execute_result"
    }
   ],
   "source": [
    "name= \"Work_Type\"\n",
    "jobs=['craftsmanship', 'repetitive labour', 'hobby', 'family business']\n",
    "questDF[name]= np.where(questDF[\"Work\"],np.random.choice(jobs,questDF.shape[0]),\"\")\n",
    "questDF[questDF.columns[[0,-2,-1]]]\n"
   ],
   "metadata": {
    "collapsed": false,
    "pycharm": {
     "name": "#%%\n"
    }
   }
  },
  {
   "cell_type": "markdown",
   "source": [
    "### State Of Work"
   ],
   "metadata": {
    "collapsed": false,
    "pycharm": {
     "name": "#%% md\n"
    }
   }
  },
  {
   "cell_type": "code",
   "execution_count": 569,
   "outputs": [
    {
     "data": {
      "text/plain": "                     Name   Work          Work_Type State_Work\n0            Storm Madsen   True    family business          9\n1         Gordoslav Bosik  False                              \n2          آرمیتا محمدخان  False                              \n3          Daryl Chambers   True  repetitive labour          8\n4      Bilogost Drizhenko  False                              \n...                   ...    ...                ...        ...\n16995       Eduardo Colin   True      craftsmanship          8\n16996   Olivia Kristensen  False                              \n16997         Estela Rojo  False                              \n16998      Ivan Hillestad  False                              \n16999          مانی حسینی  False                              \n\n[17000 rows x 4 columns]",
      "text/html": "<div>\n<style scoped>\n    .dataframe tbody tr th:only-of-type {\n        vertical-align: middle;\n    }\n\n    .dataframe tbody tr th {\n        vertical-align: top;\n    }\n\n    .dataframe thead th {\n        text-align: right;\n    }\n</style>\n<table border=\"1\" class=\"dataframe\">\n  <thead>\n    <tr style=\"text-align: right;\">\n      <th></th>\n      <th>Name</th>\n      <th>Work</th>\n      <th>Work_Type</th>\n      <th>State_Work</th>\n    </tr>\n  </thead>\n  <tbody>\n    <tr>\n      <th>0</th>\n      <td>Storm Madsen</td>\n      <td>True</td>\n      <td>family business</td>\n      <td>9</td>\n    </tr>\n    <tr>\n      <th>1</th>\n      <td>Gordoslav Bosik</td>\n      <td>False</td>\n      <td></td>\n      <td></td>\n    </tr>\n    <tr>\n      <th>2</th>\n      <td>آرمیتا محمدخان</td>\n      <td>False</td>\n      <td></td>\n      <td></td>\n    </tr>\n    <tr>\n      <th>3</th>\n      <td>Daryl Chambers</td>\n      <td>True</td>\n      <td>repetitive labour</td>\n      <td>8</td>\n    </tr>\n    <tr>\n      <th>4</th>\n      <td>Bilogost Drizhenko</td>\n      <td>False</td>\n      <td></td>\n      <td></td>\n    </tr>\n    <tr>\n      <th>...</th>\n      <td>...</td>\n      <td>...</td>\n      <td>...</td>\n      <td>...</td>\n    </tr>\n    <tr>\n      <th>16995</th>\n      <td>Eduardo Colin</td>\n      <td>True</td>\n      <td>craftsmanship</td>\n      <td>8</td>\n    </tr>\n    <tr>\n      <th>16996</th>\n      <td>Olivia Kristensen</td>\n      <td>False</td>\n      <td></td>\n      <td></td>\n    </tr>\n    <tr>\n      <th>16997</th>\n      <td>Estela Rojo</td>\n      <td>False</td>\n      <td></td>\n      <td></td>\n    </tr>\n    <tr>\n      <th>16998</th>\n      <td>Ivan Hillestad</td>\n      <td>False</td>\n      <td></td>\n      <td></td>\n    </tr>\n    <tr>\n      <th>16999</th>\n      <td>مانی حسینی</td>\n      <td>False</td>\n      <td></td>\n      <td></td>\n    </tr>\n  </tbody>\n</table>\n<p>17000 rows × 4 columns</p>\n</div>"
     },
     "execution_count": 569,
     "metadata": {},
     "output_type": "execute_result"
    }
   ],
   "source": [
    "name= \"State_Work\"\n",
    "questDF[name]= np.where(questDF[\"Work\"],np.random.choice(list(range(1,11)),questDF.shape[0]),\"\")\n",
    "questDF[questDF.columns[[0,-3,-2,-1]]]"
   ],
   "metadata": {
    "collapsed": false,
    "pycharm": {
     "name": "#%%\n"
    }
   }
  },
  {
   "cell_type": "markdown",
   "source": [
    "## Dropout"
   ],
   "metadata": {
    "collapsed": false,
    "pycharm": {
     "name": "#%% md\n"
    }
   }
  },
  {
   "cell_type": "code",
   "execution_count": 570,
   "outputs": [
    {
     "data": {
      "text/plain": "                     Name          Work_Type State_Work  Dropout\n0            Storm Madsen    family business          9     True\n1         Gordoslav Bosik                                  False\n2          آرمیتا محمدخان                                   True\n3          Daryl Chambers  repetitive labour          8     True\n4      Bilogost Drizhenko                                   True\n...                   ...                ...        ...      ...\n16995       Eduardo Colin      craftsmanship          8     True\n16996   Olivia Kristensen                                   True\n16997         Estela Rojo                                   True\n16998      Ivan Hillestad                                   True\n16999          مانی حسینی                                  False\n\n[17000 rows x 4 columns]",
      "text/html": "<div>\n<style scoped>\n    .dataframe tbody tr th:only-of-type {\n        vertical-align: middle;\n    }\n\n    .dataframe tbody tr th {\n        vertical-align: top;\n    }\n\n    .dataframe thead th {\n        text-align: right;\n    }\n</style>\n<table border=\"1\" class=\"dataframe\">\n  <thead>\n    <tr style=\"text-align: right;\">\n      <th></th>\n      <th>Name</th>\n      <th>Work_Type</th>\n      <th>State_Work</th>\n      <th>Dropout</th>\n    </tr>\n  </thead>\n  <tbody>\n    <tr>\n      <th>0</th>\n      <td>Storm Madsen</td>\n      <td>family business</td>\n      <td>9</td>\n      <td>True</td>\n    </tr>\n    <tr>\n      <th>1</th>\n      <td>Gordoslav Bosik</td>\n      <td></td>\n      <td></td>\n      <td>False</td>\n    </tr>\n    <tr>\n      <th>2</th>\n      <td>آرمیتا محمدخان</td>\n      <td></td>\n      <td></td>\n      <td>True</td>\n    </tr>\n    <tr>\n      <th>3</th>\n      <td>Daryl Chambers</td>\n      <td>repetitive labour</td>\n      <td>8</td>\n      <td>True</td>\n    </tr>\n    <tr>\n      <th>4</th>\n      <td>Bilogost Drizhenko</td>\n      <td></td>\n      <td></td>\n      <td>True</td>\n    </tr>\n    <tr>\n      <th>...</th>\n      <td>...</td>\n      <td>...</td>\n      <td>...</td>\n      <td>...</td>\n    </tr>\n    <tr>\n      <th>16995</th>\n      <td>Eduardo Colin</td>\n      <td>craftsmanship</td>\n      <td>8</td>\n      <td>True</td>\n    </tr>\n    <tr>\n      <th>16996</th>\n      <td>Olivia Kristensen</td>\n      <td></td>\n      <td></td>\n      <td>True</td>\n    </tr>\n    <tr>\n      <th>16997</th>\n      <td>Estela Rojo</td>\n      <td></td>\n      <td></td>\n      <td>True</td>\n    </tr>\n    <tr>\n      <th>16998</th>\n      <td>Ivan Hillestad</td>\n      <td></td>\n      <td></td>\n      <td>True</td>\n    </tr>\n    <tr>\n      <th>16999</th>\n      <td>مانی حسینی</td>\n      <td></td>\n      <td></td>\n      <td>False</td>\n    </tr>\n  </tbody>\n</table>\n<p>17000 rows × 4 columns</p>\n</div>"
     },
     "execution_count": 570,
     "metadata": {},
     "output_type": "execute_result"
    }
   ],
   "source": [
    "name= \"Dropout\"\n",
    "questDF[name]= np.random.choice([True,False],questDF.shape[0])\n",
    "questDF[questDF.columns[[0,-3,-2,-1]]]"
   ],
   "metadata": {
    "collapsed": false,
    "pycharm": {
     "name": "#%%\n"
    }
   }
  },
  {
   "cell_type": "markdown",
   "source": [
    "# Export"
   ],
   "metadata": {
    "collapsed": false,
    "pycharm": {
     "name": "#%% md\n"
    }
   }
  },
  {
   "cell_type": "code",
   "execution_count": 573,
   "outputs": [],
   "source": [
    "questDF.to_csv(\"questionnaire.csv\", index=False, header=True)"
   ],
   "metadata": {
    "collapsed": false,
    "pycharm": {
     "name": "#%%\n"
    }
   }
  },
  {
   "cell_type": "code",
   "execution_count": null,
   "outputs": [],
   "source": [],
   "metadata": {
    "collapsed": false,
    "pycharm": {
     "name": "#%%\n"
    }
   }
  }
 ],
 "metadata": {
  "kernelspec": {
   "display_name": "Python 3",
   "language": "python",
   "name": "python3"
  },
  "language_info": {
   "codemirror_mode": {
    "name": "ipython",
    "version": 2
   },
   "file_extension": ".py",
   "mimetype": "text/x-python",
   "name": "python",
   "nbconvert_exporter": "python",
   "pygments_lexer": "ipython2",
   "version": "2.7.6"
  }
 },
 "nbformat": 4,
 "nbformat_minor": 0
}