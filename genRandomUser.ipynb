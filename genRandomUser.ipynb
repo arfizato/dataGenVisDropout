{
 "cells": [
  {
   "cell_type": "code",
   "execution_count": null,
   "outputs": [],
   "source": [
    "import pandas as pd\n",
    "import plotly\n",
    "import json\n",
    "import requests\n",
    "import numpy as np"
   ],
   "metadata": {
    "collapsed": false,
    "pycharm": {
     "name": "#%%\n"
    }
   }
  },
  {
   "cell_type": "code",
   "execution_count": null,
   "outputs": [],
   "source": [
    "# Print iterations progress\n",
    "def printProgressBar(iteration, total, prefix='', suffix='', decimals=1, length=100, fill='█', printEnd=\"\\r\"):\n",
    "    \"\"\"\n",
    "    Call in a loop to create terminal progress bar\n",
    "    @params:\n",
    "        iteration   - Required  : current iteration (Int)\n",
    "        total       - Required  : total iterations (Int)\n",
    "        prefix      - Optional  : prefix string (Str)\n",
    "        suffix      - Optional  : suffix string (Str)\n",
    "        decimals    - Optional  : positive number of decimals in percent complete (Int)\n",
    "        length      - Optional  : character length of bar (Int)\n",
    "        fill        - Optional  : bar fill character (Str)\n",
    "        printEnd    - Optional  : end character (e.g. \"\\r\", \"\\r\\n\") (Str)\n",
    "    \"\"\"\n",
    "    percent = (\"{0:.\" + str(decimals) + \"f}\").format(100 * (iteration / float(total)))\n",
    "    filledLength = int(length * iteration // total)\n",
    "    bar = fill * filledLength + '-' * (length - filledLength)\n",
    "    print(f'\\r{prefix} |{bar}| {percent}% {suffix}', end=printEnd)\n",
    "    # Print New Line on Complete\n",
    "    if iteration == total:\n",
    "        print()"
   ],
   "metadata": {
    "collapsed": false,
    "pycharm": {
     "name": "#%%\n"
    }
   }
  },
  {
   "cell_type": "markdown",
   "source": [
    "\n",
    "\n",
    "# Generating users and saving them to a csv"
   ],
   "metadata": {
    "collapsed": false,
    "pycharm": {
     "name": "#%% md\n"
    }
   }
  },
  {
   "cell_type": "code",
   "execution_count": null,
   "outputs": [],
   "source": [
    "f = open(\"secrets.json\")\n",
    "data = json.load(f)\n",
    "key= data[\"key\"]\n",
    "key"
   ],
   "metadata": {
    "collapsed": false,
    "pycharm": {
     "name": "#%%\n"
    }
   }
  },
  {
   "cell_type": "code",
   "execution_count": null,
   "outputs": [],
   "source": [
    "\n",
    "def genuser():\n",
    "    url = \"https://random-user.p.rapidapi.com/getuser\"\n",
    "\n",
    "    payload = {}\n",
    "    headers = {\n",
    "        'X-RapidAPI-Key': key,\n",
    "        'X-RapidAPI-Host': 'random-user.p.rapidapi.com'\n",
    "    }\n",
    "\n",
    "    return requests.request(\"GET\", url, headers=headers, data=payload)\n",
    "\n",
    "    # print(json.dumps(response.json(),indent=2))"
   ],
   "metadata": {
    "collapsed": false,
    "pycharm": {
     "name": "#%%\n"
    }
   }
  },
  {
   "cell_type": "code",
   "execution_count": null,
   "outputs": [],
   "source": [
    "# results = data[\"results\"][0]\n",
    "# newData= {}\n",
    "# for elem in results:\n",
    "#     # print(\"\\n{}:\".format(elem),json.dumps(results[elem],indent=2))\n",
    "#     if elem in [\"location\",\"name\",\"gender\",\"dob\"]:\n",
    "#         newData.update({elem:results[elem]})\n",
    "# print(\"FINALLY\\n-----------------------------------------------\\n\",json.dumps(newData,indent=2))\n",
    "def cleanMyData(data):\n",
    "    cleanedData = {}\n",
    "    for cleanElem in data:\n",
    "        if cleanElem in [\"location\", \"name\", \"gender\", \"dob\"]:\n",
    "            cleanedData.update({cleanElem: data[cleanElem]})\n",
    "    return cleanedData\n"
   ],
   "metadata": {
    "collapsed": false,
    "pycharm": {
     "name": "#%%\n"
    }
   }
  },
  {
   "cell_type": "markdown",
   "source": [
    "\n",
    "Generating N random users"
   ],
   "metadata": {
    "collapsed": false,
    "pycharm": {
     "name": "#%% md\n"
    }
   }
  },
  {
   "cell_type": "code",
   "execution_count": null,
   "outputs": [],
   "source": [
    "\n",
    "df = pd.json_normalize(cleanMyData(genuser().json()[\"results\"][0]))\n",
    "df.head()\n",
    "N = 10000\n",
    "\n",
    "printProgressBar(0, N, prefix = 'Progress:', suffix = 'Complete', length = 50)\n",
    "for a in range(1, N):\n",
    "    tdf = pd.json_normalize(cleanMyData(genuser().json()[\"results\"][0]))\n",
    "    df = df.append(tdf)\n",
    "    # print(\"{}: now you have {} rows.\".format(a, df.shape[0]))\n",
    "    printProgressBar(a+1 , N, prefix = 'Progress:', suffix = 'Complete | {} out of {}'.format(a,N), length = 50)\n"
   ],
   "metadata": {
    "collapsed": false,
    "pycharm": {
     "name": "#%%\n"
    }
   }
  },
  {
   "cell_type": "code",
   "execution_count": null,
   "outputs": [],
   "source": [
    "df.to_csv(\"randomUsers.csv\", mode=\"a\", index=False, header= False)"
   ],
   "metadata": {
    "collapsed": false,
    "pycharm": {
     "name": "#%%\n"
    }
   }
  },
  {
   "cell_type": "code",
   "execution_count": null,
   "outputs": [],
   "source": [
    "df"
   ],
   "metadata": {
    "collapsed": false,
    "pycharm": {
     "name": "#%%\n"
    }
   }
  },
  {
   "cell_type": "code",
   "execution_count": null,
   "outputs": [],
   "source": [
    "newdf= pd.read_csv(\"randomUsers.csv\")\n",
    "newdf"
   ],
   "metadata": {
    "collapsed": false,
    "pycharm": {
     "name": "#%%\n"
    }
   }
  }
 ],
 "metadata": {
  "kernelspec": {
   "display_name": "Python 3",
   "language": "python",
   "name": "python3"
  },
  "language_info": {
   "codemirror_mode": {
    "name": "ipython",
    "version": 2
   },
   "file_extension": ".py",
   "mimetype": "text/x-python",
   "name": "python",
   "nbconvert_exporter": "python",
   "pygments_lexer": "ipython2",
   "version": "2.7.6"
  }
 },
 "nbformat": 4,
 "nbformat_minor": 0
}